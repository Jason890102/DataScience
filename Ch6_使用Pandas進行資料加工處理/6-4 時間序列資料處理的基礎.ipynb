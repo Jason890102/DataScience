{
 "cells": [
  {
   "cell_type": "markdown",
   "source": [
    "#### 6-4-1 時間序列資料處理的基礎"
   ],
   "metadata": {
    "collapsed": false,
    "pycharm": {
     "name": "#%% md\n"
    }
   }
  },
  {
   "cell_type": "code",
   "execution_count": 1,
   "metadata": {
    "collapsed": true,
    "pycharm": {
     "name": "#%%\n"
    }
   },
   "outputs": [],
   "source": [
    "import pandas_datareader as pdr"
   ]
  },
  {
   "cell_type": "code",
   "execution_count": 2,
   "outputs": [],
   "source": [
    "start_data = '2001/1/2'\n",
    "end_data = '2016/12/30'\n",
    "\n",
    "fx_jpusdata = pdr.DataReader('DEXJPUS','fred',start_data,end_data) # 從2001/1/2至2016/12/30為止的美元日幣匯率資料(DEXJPUS)，若有遺漏的日程可能是假日"
   ],
   "metadata": {
    "collapsed": false,
    "pycharm": {
     "name": "#%%\n"
    }
   }
  },
  {
   "cell_type": "code",
   "execution_count": 3,
   "outputs": [
    {
     "data": {
      "text/plain": "            DEXJPUS\nDATE               \n2001-01-02   114.73\n2001-01-03   114.26\n2001-01-04   115.47\n2001-01-05   116.19\n2001-01-08   115.97",
      "text/html": "<div>\n<style scoped>\n    .dataframe tbody tr th:only-of-type {\n        vertical-align: middle;\n    }\n\n    .dataframe tbody tr th {\n        vertical-align: top;\n    }\n\n    .dataframe thead th {\n        text-align: right;\n    }\n</style>\n<table border=\"1\" class=\"dataframe\">\n  <thead>\n    <tr style=\"text-align: right;\">\n      <th></th>\n      <th>DEXJPUS</th>\n    </tr>\n    <tr>\n      <th>DATE</th>\n      <th></th>\n    </tr>\n  </thead>\n  <tbody>\n    <tr>\n      <th>2001-01-02</th>\n      <td>114.73</td>\n    </tr>\n    <tr>\n      <th>2001-01-03</th>\n      <td>114.26</td>\n    </tr>\n    <tr>\n      <th>2001-01-04</th>\n      <td>115.47</td>\n    </tr>\n    <tr>\n      <th>2001-01-05</th>\n      <td>116.19</td>\n    </tr>\n    <tr>\n      <th>2001-01-08</th>\n      <td>115.97</td>\n    </tr>\n  </tbody>\n</table>\n</div>"
     },
     "execution_count": 3,
     "metadata": {},
     "output_type": "execute_result"
    }
   ],
   "source": [
    "fx_jpusdata.head()"
   ],
   "metadata": {
    "collapsed": false,
    "pycharm": {
     "name": "#%%\n"
    }
   }
  },
  {
   "cell_type": "code",
   "execution_count": 4,
   "outputs": [
    {
     "name": "stderr",
     "output_type": "stream",
     "text": [
      "/var/folders/gr/wkmgmg2d0w7dft51ggc120900000gn/T/ipykernel_3249/2845459227.py:2: FutureWarning: Indexing a DataFrame with a datetimelike index using a single string to slice the rows, like `frame[string]`, is deprecated and will be removed in a future version. Use `frame.loc[string]` instead.\n",
      "  fx_jpusdata['2016-04']\n"
     ]
    },
    {
     "data": {
      "text/plain": "            DEXJPUS\nDATE               \n2016-04-01   112.06\n2016-04-04   111.18\n2016-04-05   110.26\n2016-04-06   109.63\n2016-04-07   107.98\n2016-04-08   108.36\n2016-04-11   107.96\n2016-04-12   108.54\n2016-04-13   109.21\n2016-04-14   109.20\n2016-04-15   108.76\n2016-04-18   108.85\n2016-04-19   109.16\n2016-04-20   109.51\n2016-04-21   109.41\n2016-04-22   111.50\n2016-04-25   111.08\n2016-04-26   111.23\n2016-04-27   111.26\n2016-04-28   108.55\n2016-04-29   106.90",
      "text/html": "<div>\n<style scoped>\n    .dataframe tbody tr th:only-of-type {\n        vertical-align: middle;\n    }\n\n    .dataframe tbody tr th {\n        vertical-align: top;\n    }\n\n    .dataframe thead th {\n        text-align: right;\n    }\n</style>\n<table border=\"1\" class=\"dataframe\">\n  <thead>\n    <tr style=\"text-align: right;\">\n      <th></th>\n      <th>DEXJPUS</th>\n    </tr>\n    <tr>\n      <th>DATE</th>\n      <th></th>\n    </tr>\n  </thead>\n  <tbody>\n    <tr>\n      <th>2016-04-01</th>\n      <td>112.06</td>\n    </tr>\n    <tr>\n      <th>2016-04-04</th>\n      <td>111.18</td>\n    </tr>\n    <tr>\n      <th>2016-04-05</th>\n      <td>110.26</td>\n    </tr>\n    <tr>\n      <th>2016-04-06</th>\n      <td>109.63</td>\n    </tr>\n    <tr>\n      <th>2016-04-07</th>\n      <td>107.98</td>\n    </tr>\n    <tr>\n      <th>2016-04-08</th>\n      <td>108.36</td>\n    </tr>\n    <tr>\n      <th>2016-04-11</th>\n      <td>107.96</td>\n    </tr>\n    <tr>\n      <th>2016-04-12</th>\n      <td>108.54</td>\n    </tr>\n    <tr>\n      <th>2016-04-13</th>\n      <td>109.21</td>\n    </tr>\n    <tr>\n      <th>2016-04-14</th>\n      <td>109.20</td>\n    </tr>\n    <tr>\n      <th>2016-04-15</th>\n      <td>108.76</td>\n    </tr>\n    <tr>\n      <th>2016-04-18</th>\n      <td>108.85</td>\n    </tr>\n    <tr>\n      <th>2016-04-19</th>\n      <td>109.16</td>\n    </tr>\n    <tr>\n      <th>2016-04-20</th>\n      <td>109.51</td>\n    </tr>\n    <tr>\n      <th>2016-04-21</th>\n      <td>109.41</td>\n    </tr>\n    <tr>\n      <th>2016-04-22</th>\n      <td>111.50</td>\n    </tr>\n    <tr>\n      <th>2016-04-25</th>\n      <td>111.08</td>\n    </tr>\n    <tr>\n      <th>2016-04-26</th>\n      <td>111.23</td>\n    </tr>\n    <tr>\n      <th>2016-04-27</th>\n      <td>111.26</td>\n    </tr>\n    <tr>\n      <th>2016-04-28</th>\n      <td>108.55</td>\n    </tr>\n    <tr>\n      <th>2016-04-29</th>\n      <td>106.90</td>\n    </tr>\n  </tbody>\n</table>\n</div>"
     },
     "execution_count": 4,
     "metadata": {},
     "output_type": "execute_result"
    }
   ],
   "source": [
    "# 觀察2016年4月的資料\n",
    "fx_jpusdata['2016-04']"
   ],
   "metadata": {
    "collapsed": false,
    "pycharm": {
     "name": "#%%\n"
    }
   }
  },
  {
   "cell_type": "code",
   "execution_count": 5,
   "outputs": [
    {
     "data": {
      "text/plain": "            DEXJPUS\nDATE               \n2001-01-31   116.39\n2001-02-28   117.28\n2001-03-31   125.54\n2001-04-30   123.57\n2001-05-31   118.88",
      "text/html": "<div>\n<style scoped>\n    .dataframe tbody tr th:only-of-type {\n        vertical-align: middle;\n    }\n\n    .dataframe tbody tr th {\n        vertical-align: top;\n    }\n\n    .dataframe thead th {\n        text-align: right;\n    }\n</style>\n<table border=\"1\" class=\"dataframe\">\n  <thead>\n    <tr style=\"text-align: right;\">\n      <th></th>\n      <th>DEXJPUS</th>\n    </tr>\n    <tr>\n      <th>DATE</th>\n      <th></th>\n    </tr>\n  </thead>\n  <tbody>\n    <tr>\n      <th>2001-01-31</th>\n      <td>116.39</td>\n    </tr>\n    <tr>\n      <th>2001-02-28</th>\n      <td>117.28</td>\n    </tr>\n    <tr>\n      <th>2001-03-31</th>\n      <td>125.54</td>\n    </tr>\n    <tr>\n      <th>2001-04-30</th>\n      <td>123.57</td>\n    </tr>\n    <tr>\n      <th>2001-05-31</th>\n      <td>118.88</td>\n    </tr>\n  </tbody>\n</table>\n</div>"
     },
     "execution_count": 5,
     "metadata": {},
     "output_type": "execute_result"
    }
   ],
   "source": [
    "# 取出月底的匯率\n",
    "fx_jpusdata.resample('M').last().head() # resample中的引數指定Ｍ為取出每月資料，last為取出尾端的資料"
   ],
   "metadata": {
    "collapsed": false,
    "pycharm": {
     "name": "#%%\n"
    }
   }
  },
  {
   "cell_type": "code",
   "execution_count": 9,
   "outputs": [
    {
     "data": {
      "text/plain": "            DEXJPUS\nDATE               \n2001-01-02   114.73\n2001-01-03   114.26\n2001-01-04   115.47\n2001-01-05   116.19\n2001-01-06      NaN",
      "text/html": "<div>\n<style scoped>\n    .dataframe tbody tr th:only-of-type {\n        vertical-align: middle;\n    }\n\n    .dataframe tbody tr th {\n        vertical-align: top;\n    }\n\n    .dataframe thead th {\n        text-align: right;\n    }\n</style>\n<table border=\"1\" class=\"dataframe\">\n  <thead>\n    <tr style=\"text-align: right;\">\n      <th></th>\n      <th>DEXJPUS</th>\n    </tr>\n    <tr>\n      <th>DATE</th>\n      <th></th>\n    </tr>\n  </thead>\n  <tbody>\n    <tr>\n      <th>2001-01-02</th>\n      <td>114.73</td>\n    </tr>\n    <tr>\n      <th>2001-01-03</th>\n      <td>114.26</td>\n    </tr>\n    <tr>\n      <th>2001-01-04</th>\n      <td>115.47</td>\n    </tr>\n    <tr>\n      <th>2001-01-05</th>\n      <td>116.19</td>\n    </tr>\n    <tr>\n      <th>2001-01-06</th>\n      <td>NaN</td>\n    </tr>\n  </tbody>\n</table>\n</div>"
     },
     "execution_count": 9,
     "metadata": {},
     "output_type": "execute_result"
    }
   ],
   "source": [
    "fx_jpusdata.resample('D').last().head()"
   ],
   "metadata": {
    "collapsed": false,
    "pycharm": {
     "name": "#%%\n"
    }
   }
  },
  {
   "cell_type": "code",
   "execution_count": 7,
   "outputs": [
    {
     "data": {
      "text/plain": "            DEXJPUS\nDATE               \n2001-01-02   114.73\n2001-01-03   114.26\n2001-01-04   115.47\n2001-01-05   116.19\n2001-01-06   116.19",
      "text/html": "<div>\n<style scoped>\n    .dataframe tbody tr th:only-of-type {\n        vertical-align: middle;\n    }\n\n    .dataframe tbody tr th {\n        vertical-align: top;\n    }\n\n    .dataframe thead th {\n        text-align: right;\n    }\n</style>\n<table border=\"1\" class=\"dataframe\">\n  <thead>\n    <tr style=\"text-align: right;\">\n      <th></th>\n      <th>DEXJPUS</th>\n    </tr>\n    <tr>\n      <th>DATE</th>\n      <th></th>\n    </tr>\n  </thead>\n  <tbody>\n    <tr>\n      <th>2001-01-02</th>\n      <td>114.73</td>\n    </tr>\n    <tr>\n      <th>2001-01-03</th>\n      <td>114.26</td>\n    </tr>\n    <tr>\n      <th>2001-01-04</th>\n      <td>115.47</td>\n    </tr>\n    <tr>\n      <th>2001-01-05</th>\n      <td>116.19</td>\n    </tr>\n    <tr>\n      <th>2001-01-06</th>\n      <td>116.19</td>\n    </tr>\n  </tbody>\n</table>\n</div>"
     },
     "execution_count": 7,
     "metadata": {},
     "output_type": "execute_result"
    }
   ],
   "source": [
    "# 使用ffill方法填補NaN\n",
    "fx_jpusdata.resample('D').ffill().head()"
   ],
   "metadata": {
    "collapsed": false,
    "pycharm": {
     "name": "#%%\n"
    }
   }
  },
  {
   "cell_type": "code",
   "execution_count": 11,
   "outputs": [
    {
     "data": {
      "text/plain": "            DEXJPUS\nDATE               \n2001-01-02      NaN\n2001-01-03   114.73\n2001-01-04   114.26\n2001-01-05   115.47\n2001-01-08   116.19",
      "text/html": "<div>\n<style scoped>\n    .dataframe tbody tr th:only-of-type {\n        vertical-align: middle;\n    }\n\n    .dataframe tbody tr th {\n        vertical-align: top;\n    }\n\n    .dataframe thead th {\n        text-align: right;\n    }\n</style>\n<table border=\"1\" class=\"dataframe\">\n  <thead>\n    <tr style=\"text-align: right;\">\n      <th></th>\n      <th>DEXJPUS</th>\n    </tr>\n    <tr>\n      <th>DATE</th>\n      <th></th>\n    </tr>\n  </thead>\n  <tbody>\n    <tr>\n      <th>2001-01-02</th>\n      <td>NaN</td>\n    </tr>\n    <tr>\n      <th>2001-01-03</th>\n      <td>114.73</td>\n    </tr>\n    <tr>\n      <th>2001-01-04</th>\n      <td>114.26</td>\n    </tr>\n    <tr>\n      <th>2001-01-05</th>\n      <td>115.47</td>\n    </tr>\n    <tr>\n      <th>2001-01-08</th>\n      <td>116.19</td>\n    </tr>\n  </tbody>\n</table>\n</div>"
     },
     "execution_count": 11,
     "metadata": {},
     "output_type": "execute_result"
    }
   ],
   "source": [
    "# 將資料往後偏移一個單位\n",
    "fx_jpusdata.shift(1).head()"
   ],
   "metadata": {
    "collapsed": false,
    "pycharm": {
     "name": "#%%\n"
    }
   }
  },
  {
   "cell_type": "code",
   "execution_count": 13,
   "outputs": [
    {
     "data": {
      "text/plain": "             DEXJPUS\nDATE                \n2001-01-02       NaN\n2001-01-03  0.995903\n2001-01-04  1.010590\n2001-01-05  1.006235\n2001-01-08  0.998107",
      "text/html": "<div>\n<style scoped>\n    .dataframe tbody tr th:only-of-type {\n        vertical-align: middle;\n    }\n\n    .dataframe tbody tr th {\n        vertical-align: top;\n    }\n\n    .dataframe thead th {\n        text-align: right;\n    }\n</style>\n<table border=\"1\" class=\"dataframe\">\n  <thead>\n    <tr style=\"text-align: right;\">\n      <th></th>\n      <th>DEXJPUS</th>\n    </tr>\n    <tr>\n      <th>DATE</th>\n      <th></th>\n    </tr>\n  </thead>\n  <tbody>\n    <tr>\n      <th>2001-01-02</th>\n      <td>NaN</td>\n    </tr>\n    <tr>\n      <th>2001-01-03</th>\n      <td>0.995903</td>\n    </tr>\n    <tr>\n      <th>2001-01-04</th>\n      <td>1.010590</td>\n    </tr>\n    <tr>\n      <th>2001-01-05</th>\n      <td>1.006235</td>\n    </tr>\n    <tr>\n      <th>2001-01-08</th>\n      <td>0.998107</td>\n    </tr>\n  </tbody>\n</table>\n</div>"
     },
     "execution_count": 13,
     "metadata": {},
     "output_type": "execute_result"
    }
   ],
   "source": [
    "# 計算前一天與當日的匯率比例\n",
    "fx_jpusdata_ratio = fx_jpusdata / fx_jpusdata.shift(1)\n",
    "fx_jpusdata_ratio.head()"
   ],
   "metadata": {
    "collapsed": false,
    "pycharm": {
     "name": "#%%\n"
    }
   }
  },
  {
   "cell_type": "markdown",
   "source": [
    "#### 練習問題6-16"
   ],
   "metadata": {
    "collapsed": false,
    "pycharm": {
     "name": "#%% md\n"
    }
   }
  },
  {
   "cell_type": "code",
   "execution_count": 15,
   "outputs": [
    {
     "data": {
      "text/plain": "               DEXJPUS\nDATE                  \n2001-12-31  121.568040\n2002-12-31  125.220438\n2003-12-31  115.938685\n2004-12-31  108.150830\n2005-12-31  110.106932",
      "text/html": "<div>\n<style scoped>\n    .dataframe tbody tr th:only-of-type {\n        vertical-align: middle;\n    }\n\n    .dataframe tbody tr th {\n        vertical-align: top;\n    }\n\n    .dataframe thead th {\n        text-align: right;\n    }\n</style>\n<table border=\"1\" class=\"dataframe\">\n  <thead>\n    <tr style=\"text-align: right;\">\n      <th></th>\n      <th>DEXJPUS</th>\n    </tr>\n    <tr>\n      <th>DATE</th>\n      <th></th>\n    </tr>\n  </thead>\n  <tbody>\n    <tr>\n      <th>2001-12-31</th>\n      <td>121.568040</td>\n    </tr>\n    <tr>\n      <th>2002-12-31</th>\n      <td>125.220438</td>\n    </tr>\n    <tr>\n      <th>2003-12-31</th>\n      <td>115.938685</td>\n    </tr>\n    <tr>\n      <th>2004-12-31</th>\n      <td>108.150830</td>\n    </tr>\n    <tr>\n      <th>2005-12-31</th>\n      <td>110.106932</td>\n    </tr>\n  </tbody>\n</table>\n</div>"
     },
     "execution_count": 15,
     "metadata": {},
     "output_type": "execute_result"
    }
   ],
   "source": [
    "# 每年的平均值推移資料\n",
    "fx_jpusdata.resample('Y').mean().head()"
   ],
   "metadata": {
    "collapsed": false,
    "pycharm": {
     "name": "#%%\n"
    }
   }
  },
  {
   "cell_type": "markdown",
   "source": [
    "### 6-4-2 移動平均"
   ],
   "metadata": {
    "collapsed": false,
    "pycharm": {
     "name": "#%% md\n"
    }
   }
  },
  {
   "cell_type": "code",
   "execution_count": 16,
   "outputs": [
    {
     "data": {
      "text/plain": "            DEXJPUS\nDATE               \n2001-01-02   114.73\n2001-01-03   114.26\n2001-01-04   115.47\n2001-01-05   116.19\n2001-01-08   115.97",
      "text/html": "<div>\n<style scoped>\n    .dataframe tbody tr th:only-of-type {\n        vertical-align: middle;\n    }\n\n    .dataframe tbody tr th {\n        vertical-align: top;\n    }\n\n    .dataframe thead th {\n        text-align: right;\n    }\n</style>\n<table border=\"1\" class=\"dataframe\">\n  <thead>\n    <tr style=\"text-align: right;\">\n      <th></th>\n      <th>DEXJPUS</th>\n    </tr>\n    <tr>\n      <th>DATE</th>\n      <th></th>\n    </tr>\n  </thead>\n  <tbody>\n    <tr>\n      <th>2001-01-02</th>\n      <td>114.73</td>\n    </tr>\n    <tr>\n      <th>2001-01-03</th>\n      <td>114.26</td>\n    </tr>\n    <tr>\n      <th>2001-01-04</th>\n      <td>115.47</td>\n    </tr>\n    <tr>\n      <th>2001-01-05</th>\n      <td>116.19</td>\n    </tr>\n    <tr>\n      <th>2001-01-08</th>\n      <td>115.97</td>\n    </tr>\n  </tbody>\n</table>\n</div>"
     },
     "execution_count": 16,
     "metadata": {},
     "output_type": "execute_result"
    }
   ],
   "source": [
    "fx_jpusdata.head()"
   ],
   "metadata": {
    "collapsed": false,
    "pycharm": {
     "name": "#%%\n"
    }
   }
  },
  {
   "cell_type": "code",
   "execution_count": 17,
   "outputs": [
    {
     "data": {
      "text/plain": "               DEXJPUS\nDATE                  \n2001-01-02         NaN\n2001-01-03         NaN\n2001-01-04  114.820000\n2001-01-05  115.306667\n2001-01-08  115.876667",
      "text/html": "<div>\n<style scoped>\n    .dataframe tbody tr th:only-of-type {\n        vertical-align: middle;\n    }\n\n    .dataframe tbody tr th {\n        vertical-align: top;\n    }\n\n    .dataframe thead th {\n        text-align: right;\n    }\n</style>\n<table border=\"1\" class=\"dataframe\">\n  <thead>\n    <tr style=\"text-align: right;\">\n      <th></th>\n      <th>DEXJPUS</th>\n    </tr>\n    <tr>\n      <th>DATE</th>\n      <th></th>\n    </tr>\n  </thead>\n  <tbody>\n    <tr>\n      <th>2001-01-02</th>\n      <td>NaN</td>\n    </tr>\n    <tr>\n      <th>2001-01-03</th>\n      <td>NaN</td>\n    </tr>\n    <tr>\n      <th>2001-01-04</th>\n      <td>114.820000</td>\n    </tr>\n    <tr>\n      <th>2001-01-05</th>\n      <td>115.306667</td>\n    </tr>\n    <tr>\n      <th>2001-01-08</th>\n      <td>115.876667</td>\n    </tr>\n  </tbody>\n</table>\n</div>"
     },
     "execution_count": 17,
     "metadata": {},
     "output_type": "execute_result"
    }
   ],
   "source": [
    "# 每3天的移動平均值\n",
    "fx_jpusdata.rolling(3).mean().head()"
   ],
   "metadata": {
    "collapsed": false,
    "pycharm": {
     "name": "#%%\n"
    }
   }
  },
  {
   "cell_type": "code",
   "execution_count": 18,
   "outputs": [
    {
     "data": {
      "text/plain": "             DEXJPUS\nDATE                \n2001-01-02       NaN\n2001-01-03       NaN\n2001-01-04  0.610000\n2001-01-05  0.975312\n2001-01-08  0.368963",
      "text/html": "<div>\n<style scoped>\n    .dataframe tbody tr th:only-of-type {\n        vertical-align: middle;\n    }\n\n    .dataframe tbody tr th {\n        vertical-align: top;\n    }\n\n    .dataframe thead th {\n        text-align: right;\n    }\n</style>\n<table border=\"1\" class=\"dataframe\">\n  <thead>\n    <tr style=\"text-align: right;\">\n      <th></th>\n      <th>DEXJPUS</th>\n    </tr>\n    <tr>\n      <th>DATE</th>\n      <th></th>\n    </tr>\n  </thead>\n  <tbody>\n    <tr>\n      <th>2001-01-02</th>\n      <td>NaN</td>\n    </tr>\n    <tr>\n      <th>2001-01-03</th>\n      <td>NaN</td>\n    </tr>\n    <tr>\n      <th>2001-01-04</th>\n      <td>0.610000</td>\n    </tr>\n    <tr>\n      <th>2001-01-05</th>\n      <td>0.975312</td>\n    </tr>\n    <tr>\n      <th>2001-01-08</th>\n      <td>0.368963</td>\n    </tr>\n  </tbody>\n</table>\n</div>"
     },
     "execution_count": 18,
     "metadata": {},
     "output_type": "execute_result"
    }
   ],
   "source": [
    "# 每3天的標準差之變遷過程\n",
    "fx_jpusdata.rolling(3).std().head()"
   ],
   "metadata": {
    "collapsed": false,
    "pycharm": {
     "name": "#%%\n"
    }
   }
  },
  {
   "cell_type": "markdown",
   "source": [
    "#### 練習問題6-17"
   ],
   "metadata": {
    "collapsed": false,
    "pycharm": {
     "name": "#%% md\n"
    }
   }
  },
  {
   "cell_type": "code",
   "execution_count": 22,
   "outputs": [
    {
     "data": {
      "text/plain": "             DEXJPUS\nDATE                \n2001-02-12  116.6910\n2001-02-13  116.6920\n2001-02-14  116.6070\n2001-02-15  116.5015\n2001-02-16  116.4130\n...              ...\n2016-11-08  104.1600\n2016-11-09  104.1780\n2016-11-10  104.3250\n2016-12-22  115.1555\n2016-12-23  115.3580\n\n[1593 rows x 1 columns]",
      "text/html": "<div>\n<style scoped>\n    .dataframe tbody tr th:only-of-type {\n        vertical-align: middle;\n    }\n\n    .dataframe tbody tr th {\n        vertical-align: top;\n    }\n\n    .dataframe thead th {\n        text-align: right;\n    }\n</style>\n<table border=\"1\" class=\"dataframe\">\n  <thead>\n    <tr style=\"text-align: right;\">\n      <th></th>\n      <th>DEXJPUS</th>\n    </tr>\n    <tr>\n      <th>DATE</th>\n      <th></th>\n    </tr>\n  </thead>\n  <tbody>\n    <tr>\n      <th>2001-02-12</th>\n      <td>116.6910</td>\n    </tr>\n    <tr>\n      <th>2001-02-13</th>\n      <td>116.6920</td>\n    </tr>\n    <tr>\n      <th>2001-02-14</th>\n      <td>116.6070</td>\n    </tr>\n    <tr>\n      <th>2001-02-15</th>\n      <td>116.5015</td>\n    </tr>\n    <tr>\n      <th>2001-02-16</th>\n      <td>116.4130</td>\n    </tr>\n    <tr>\n      <th>...</th>\n      <td>...</td>\n    </tr>\n    <tr>\n      <th>2016-11-08</th>\n      <td>104.1600</td>\n    </tr>\n    <tr>\n      <th>2016-11-09</th>\n      <td>104.1780</td>\n    </tr>\n    <tr>\n      <th>2016-11-10</th>\n      <td>104.3250</td>\n    </tr>\n    <tr>\n      <th>2016-12-22</th>\n      <td>115.1555</td>\n    </tr>\n    <tr>\n      <th>2016-12-23</th>\n      <td>115.3580</td>\n    </tr>\n  </tbody>\n</table>\n<p>1593 rows × 1 columns</p>\n</div>"
     },
     "execution_count": 22,
     "metadata": {},
     "output_type": "execute_result"
    }
   ],
   "source": [
    "fx_jpusdata.rolling(20).mean().dropna()"
   ],
   "metadata": {
    "collapsed": false,
    "pycharm": {
     "name": "#%%\n"
    }
   }
  },
  {
   "cell_type": "markdown",
   "source": [
    "### 第6章 綜合問題"
   ],
   "metadata": {
    "collapsed": false,
    "pycharm": {
     "name": "#%% md\n"
    }
   }
  },
  {
   "cell_type": "code",
   "execution_count": 23,
   "outputs": [
    {
     "name": "stdout",
     "output_type": "stream",
     "text": [
      "/Users/yexiangyu/Desktop/東京大學資料科學家養成全書/Ch3_敘述統計與簡單回歸分析/chap3\n"
     ]
    }
   ],
   "source": [
    "cd /Users/yexiangyu/Desktop/東京大學資料科學家養成全書/Ch3_敘述統計與簡單回歸分析/chap3"
   ],
   "metadata": {
    "collapsed": false,
    "pycharm": {
     "name": "#%%\n"
    }
   }
  },
  {
   "cell_type": "code",
   "execution_count": 27,
   "outputs": [
    {
     "data": {
      "text/plain": "sex          F          M\nage                      \n15   10.052632  12.250000\n16   10.203704  11.740000\n17   11.103448  10.600000\n18   10.883721  10.538462\n19   10.642857   9.700000\n20   15.000000  13.000000\n21         NaN  10.000000\n22         NaN   6.000000",
      "text/html": "<div>\n<style scoped>\n    .dataframe tbody tr th:only-of-type {\n        vertical-align: middle;\n    }\n\n    .dataframe tbody tr th {\n        vertical-align: top;\n    }\n\n    .dataframe thead th {\n        text-align: right;\n    }\n</style>\n<table border=\"1\" class=\"dataframe\">\n  <thead>\n    <tr style=\"text-align: right;\">\n      <th>sex</th>\n      <th>F</th>\n      <th>M</th>\n    </tr>\n    <tr>\n      <th>age</th>\n      <th></th>\n      <th></th>\n    </tr>\n  </thead>\n  <tbody>\n    <tr>\n      <th>15</th>\n      <td>10.052632</td>\n      <td>12.250000</td>\n    </tr>\n    <tr>\n      <th>16</th>\n      <td>10.203704</td>\n      <td>11.740000</td>\n    </tr>\n    <tr>\n      <th>17</th>\n      <td>11.103448</td>\n      <td>10.600000</td>\n    </tr>\n    <tr>\n      <th>18</th>\n      <td>10.883721</td>\n      <td>10.538462</td>\n    </tr>\n    <tr>\n      <th>19</th>\n      <td>10.642857</td>\n      <td>9.700000</td>\n    </tr>\n    <tr>\n      <th>20</th>\n      <td>15.000000</td>\n      <td>13.000000</td>\n    </tr>\n    <tr>\n      <th>21</th>\n      <td>NaN</td>\n      <td>10.000000</td>\n    </tr>\n    <tr>\n      <th>22</th>\n      <td>NaN</td>\n      <td>6.000000</td>\n    </tr>\n  </tbody>\n</table>\n</div>"
     },
     "execution_count": 27,
     "metadata": {},
     "output_type": "execute_result"
    }
   ],
   "source": [
    "import pandas as pd\n",
    "student_data_math = pd.read_csv('student-mat.csv',sep=';')\n",
    "\n",
    "student_data_math1 = student_data_math.groupby(['age','sex'])['G1'].mean()\n",
    "student_data_math1.unstack()"
   ],
   "metadata": {
    "collapsed": false,
    "pycharm": {
     "name": "#%%\n"
    }
   }
  },
  {
   "cell_type": "code",
   "execution_count": 28,
   "outputs": [
    {
     "data": {
      "text/plain": "sex          F          M\nage                      \n15   10.052632  12.250000\n16   10.203704  11.740000\n17   11.103448  10.600000\n18   10.883721  10.538462\n19   10.642857   9.700000\n20   15.000000  13.000000",
      "text/html": "<div>\n<style scoped>\n    .dataframe tbody tr th:only-of-type {\n        vertical-align: middle;\n    }\n\n    .dataframe tbody tr th {\n        vertical-align: top;\n    }\n\n    .dataframe thead th {\n        text-align: right;\n    }\n</style>\n<table border=\"1\" class=\"dataframe\">\n  <thead>\n    <tr style=\"text-align: right;\">\n      <th>sex</th>\n      <th>F</th>\n      <th>M</th>\n    </tr>\n    <tr>\n      <th>age</th>\n      <th></th>\n      <th></th>\n    </tr>\n  </thead>\n  <tbody>\n    <tr>\n      <th>15</th>\n      <td>10.052632</td>\n      <td>12.250000</td>\n    </tr>\n    <tr>\n      <th>16</th>\n      <td>10.203704</td>\n      <td>11.740000</td>\n    </tr>\n    <tr>\n      <th>17</th>\n      <td>11.103448</td>\n      <td>10.600000</td>\n    </tr>\n    <tr>\n      <th>18</th>\n      <td>10.883721</td>\n      <td>10.538462</td>\n    </tr>\n    <tr>\n      <th>19</th>\n      <td>10.642857</td>\n      <td>9.700000</td>\n    </tr>\n    <tr>\n      <th>20</th>\n      <td>15.000000</td>\n      <td>13.000000</td>\n    </tr>\n  </tbody>\n</table>\n</div>"
     },
     "execution_count": 28,
     "metadata": {},
     "output_type": "execute_result"
    }
   ],
   "source": [
    "student_data_math1.unstack().dropna()"
   ],
   "metadata": {
    "collapsed": false,
    "pycharm": {
     "name": "#%%\n"
    }
   }
  }
 ],
 "metadata": {
  "kernelspec": {
   "display_name": "Python 3",
   "language": "python",
   "name": "python3"
  },
  "language_info": {
   "codemirror_mode": {
    "name": "ipython",
    "version": 2
   },
   "file_extension": ".py",
   "mimetype": "text/x-python",
   "name": "python",
   "nbconvert_exporter": "python",
   "pygments_lexer": "ipython2",
   "version": "2.7.6"
  }
 },
 "nbformat": 4,
 "nbformat_minor": 0
}