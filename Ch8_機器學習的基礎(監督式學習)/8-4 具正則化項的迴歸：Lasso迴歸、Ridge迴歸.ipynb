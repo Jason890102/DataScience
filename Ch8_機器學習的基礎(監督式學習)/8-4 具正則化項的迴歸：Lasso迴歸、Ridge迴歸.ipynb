{
 "cells": [
  {
   "cell_type": "code",
   "execution_count": 1,
   "metadata": {
    "collapsed": true,
    "pycharm": {
     "name": "#%%\n"
    }
   },
   "outputs": [
    {
     "data": {
      "text/plain": "'%.3f'"
     },
     "execution_count": 1,
     "metadata": {},
     "output_type": "execute_result"
    }
   ],
   "source": [
    "import numpy as np\n",
    "import numpy.random as random\n",
    "import scipy as sp\n",
    "import pandas as pd\n",
    "from pandas import Series,DataFrame\n",
    "\n",
    "# 視覺化函式庫\n",
    "import matplotlib.pyplot as plt\n",
    "import matplotlib as mpl\n",
    "import seaborn as sns\n",
    "%matplotlib inline\n",
    "\n",
    "# 機器學習函式庫\n",
    "import sklearn\n",
    "\n",
    "\n",
    "import requests, zipfile\n",
    "import io\n",
    "\n",
    "# 顯示到小數點後第3位\n",
    "%precision 3"
   ]
  },
  {
   "cell_type": "markdown",
   "source": [
    "- Lasso、Ridge迴歸有著避免讓迴歸係數變大的機制，迴歸係數越大越易造成過度學習"
   ],
   "metadata": {
    "collapsed": false,
    "pycharm": {
     "name": "#%% md\n"
    }
   }
  },
  {
   "cell_type": "code",
   "execution_count": 8,
   "outputs": [],
   "source": [
    "# 取得汽車價格資料\n",
    "url = 'http://archive.ics.uci.edu/ml/machine-learning-databases/autos/imports-85.data'\n",
    "res = requests.get(url).content\n",
    "\n",
    "# 將取得的資料作為DataFrame物件讀取\n",
    "auto = pd.read_csv(io.StringIO(res.decode('utf-8')),header=None)\n",
    "\n",
    "# 在資料的行裡設定標籤\n",
    "auto.columns = ['symboling','normalized-losses','make','fuel-type','aspiration','num-of-doors',\n",
    "                'body-style','drive-wheels','engine-location','wheel-base','length','width','height',\n",
    "                'curb-weight','engine-type','num-of-cylinders','engine-size','fuel-system','bore',\n",
    "                'stroke','compression-ratio','horsepower','peak-rpm','city-mpg','highway-mpg','price']\n",
    "\n",
    "auto = auto[['price','horsepower','width','height']]\n",
    "auto = auto.replace('?',np.nan).dropna()\n",
    "auto = auto.assign(price = pd.to_numeric(auto.price))\n",
    "auto = auto.assign(horsepower = pd.to_numeric(auto.horsepower))"
   ],
   "metadata": {
    "collapsed": false,
    "pycharm": {
     "name": "#%%\n"
    }
   }
  },
  {
   "cell_type": "code",
   "execution_count": 9,
   "outputs": [
    {
     "data": {
      "text/plain": "   price  horsepower  width  height\n0  13495         111   64.1    48.8\n1  16500         111   64.1    48.8\n2  16500         154   65.5    52.4\n3  13950         102   66.2    54.3\n4  17450         115   66.4    54.3",
      "text/html": "<div>\n<style scoped>\n    .dataframe tbody tr th:only-of-type {\n        vertical-align: middle;\n    }\n\n    .dataframe tbody tr th {\n        vertical-align: top;\n    }\n\n    .dataframe thead th {\n        text-align: right;\n    }\n</style>\n<table border=\"1\" class=\"dataframe\">\n  <thead>\n    <tr style=\"text-align: right;\">\n      <th></th>\n      <th>price</th>\n      <th>horsepower</th>\n      <th>width</th>\n      <th>height</th>\n    </tr>\n  </thead>\n  <tbody>\n    <tr>\n      <th>0</th>\n      <td>13495</td>\n      <td>111</td>\n      <td>64.1</td>\n      <td>48.8</td>\n    </tr>\n    <tr>\n      <th>1</th>\n      <td>16500</td>\n      <td>111</td>\n      <td>64.1</td>\n      <td>48.8</td>\n    </tr>\n    <tr>\n      <th>2</th>\n      <td>16500</td>\n      <td>154</td>\n      <td>65.5</td>\n      <td>52.4</td>\n    </tr>\n    <tr>\n      <th>3</th>\n      <td>13950</td>\n      <td>102</td>\n      <td>66.2</td>\n      <td>54.3</td>\n    </tr>\n    <tr>\n      <th>4</th>\n      <td>17450</td>\n      <td>115</td>\n      <td>66.4</td>\n      <td>54.3</td>\n    </tr>\n  </tbody>\n</table>\n</div>"
     },
     "execution_count": 9,
     "metadata": {},
     "output_type": "execute_result"
    }
   ],
   "source": [
    "auto.head()"
   ],
   "metadata": {
    "collapsed": false,
    "pycharm": {
     "name": "#%%\n"
    }
   }
  },
  {
   "cell_type": "code",
   "execution_count": 10,
   "outputs": [
    {
     "name": "stdout",
     "output_type": "stream",
     "text": [
      "LinearRegression(trian):0.733358\n",
      "LinearRegression(test):0.737069\n",
      "Ridge(trian):0.733355\n",
      "Ridge(test):0.737768\n"
     ]
    }
   ],
   "source": [
    "from sklearn.model_selection import train_test_split\n",
    "\n",
    "# 多元線性迴歸模型建構的匯入\n",
    "from sklearn.linear_model import LinearRegression\n",
    "\n",
    "# Ridge迴歸模型匯入\n",
    "from sklearn.linear_model import Ridge\n",
    "\n",
    "# 指定目標變數為price、其他為解釋變數\n",
    "X = auto.drop('price', axis = 1)\n",
    "y = auto['price']\n",
    "\n",
    "# 分為訓練資料與測試資料\n",
    "X_train, X_test, y_train, y_test = train_test_split(X, y, test_size = .5, random_state = 0)\n",
    "\n",
    "# 模型建構與評估\n",
    "linear = LinearRegression()\n",
    "ridge = Ridge(random_state=0)\n",
    "\n",
    "for model in [linear,ridge]:\n",
    "    model.fit(X_train,y_train)\n",
    "    print('{}(trian):{:.6f}'.format(model.__class__.__name__,model.score(X_train,y_train)))\n",
    "    print('{}(test):{:.6f}'.format(model.__class__.__name__,model.score(X_test,y_test)))"
   ],
   "metadata": {
    "collapsed": false,
    "pycharm": {
     "name": "#%%\n"
    }
   }
  },
  {
   "cell_type": "markdown",
   "source": [
    "- 對於訓練資料，多元線性迴歸的準確度較高，對於測試資料則反之，可推測這是歸因於正則化項的效果。"
   ],
   "metadata": {
    "collapsed": false,
    "pycharm": {
     "name": "#%% md\n"
    }
   }
  },
  {
   "cell_type": "markdown",
   "source": [
    "#### 練習問題8-4"
   ],
   "metadata": {
    "collapsed": false,
    "pycharm": {
     "name": "#%% md\n"
    }
   }
  },
  {
   "cell_type": "code",
   "execution_count": 11,
   "outputs": [],
   "source": [
    "# 取得汽車價格資料\n",
    "url = 'http://archive.ics.uci.edu/ml/machine-learning-databases/autos/imports-85.data'\n",
    "res = requests.get(url).content\n",
    "\n",
    "# 將取得的資料作為DataFrame物件讀取\n",
    "auto = pd.read_csv(io.StringIO(res.decode('utf-8')),header=None)\n",
    "\n",
    "# 在資料的行裡設定標籤\n",
    "auto.columns = ['symboling','normalized-losses','make','fuel-type','aspiration','num-of-doors',\n",
    "                'body-style','drive-wheels','engine-location','wheel-base','length','width','height',\n",
    "                'curb-weight','engine-type','num-of-cylinders','engine-size','fuel-system','bore',\n",
    "                'stroke','compression-ratio','horsepower','peak-rpm','city-mpg','highway-mpg','price']\n",
    "\n",
    "auto = auto[['price','engine-size','width']]\n",
    "auto = auto.replace('?',np.nan).dropna()\n",
    "auto = auto.assign(price = pd.to_numeric(auto.price))"
   ],
   "metadata": {
    "collapsed": false,
    "pycharm": {
     "name": "#%%\n"
    }
   }
  },
  {
   "cell_type": "code",
   "execution_count": 23,
   "outputs": [
    {
     "data": {
      "text/plain": "            test     train\nlasso1  0.778290  0.783189\nlasso2  0.782421  0.782839\nlinear  0.778292  0.783189",
      "text/html": "<div>\n<style scoped>\n    .dataframe tbody tr th:only-of-type {\n        vertical-align: middle;\n    }\n\n    .dataframe tbody tr th {\n        vertical-align: top;\n    }\n\n    .dataframe thead th {\n        text-align: right;\n    }\n</style>\n<table border=\"1\" class=\"dataframe\">\n  <thead>\n    <tr style=\"text-align: right;\">\n      <th></th>\n      <th>test</th>\n      <th>train</th>\n    </tr>\n  </thead>\n  <tbody>\n    <tr>\n      <th>lasso1</th>\n      <td>0.778290</td>\n      <td>0.783189</td>\n    </tr>\n    <tr>\n      <th>lasso2</th>\n      <td>0.782421</td>\n      <td>0.782839</td>\n    </tr>\n    <tr>\n      <th>linear</th>\n      <td>0.778292</td>\n      <td>0.783189</td>\n    </tr>\n  </tbody>\n</table>\n</div>"
     },
     "execution_count": 23,
     "metadata": {},
     "output_type": "execute_result"
    }
   ],
   "source": [
    "from sklearn.linear_model import Lasso\n",
    "\n",
    "X = auto[['width','engine-size']]\n",
    "y = auto['price']\n",
    "\n",
    "# 分為訓練資料與測試資料\n",
    "X_train, X_test, y_train, y_test = train_test_split(X, y, test_size = .5, random_state = 0)\n",
    "\n",
    "# 模型建構與評估\n",
    "models = {'linear':LinearRegression(),\n",
    "          'lasso1':Lasso(alpha = .1,random_state=0),\n",
    "          'lasso2':Lasso(alpha = 200,random_state=0)\n",
    "          }\n",
    "\n",
    "\n",
    "scores = {}\n",
    "for model_name,model in models.items():\n",
    "    model.fit(X_train,y_train)\n",
    "    scores[(model_name,'train')] = model.score(X_train,y_train)\n",
    "    scores[(model_name,'test')] = model.score(X_test,y_test)\n",
    "\n",
    "pd.Series(scores).unstack()"
   ],
   "metadata": {
    "collapsed": false,
    "pycharm": {
     "name": "#%%\n"
    }
   }
  },
  {
   "cell_type": "code",
   "execution_count": 15,
   "outputs": [
    {
     "data": {
      "text/plain": "     price  engine-size  width\n0    13495          130   64.1\n1    16500          130   64.1\n2    16500          152   65.5\n3    13950          109   66.2\n4    17450          136   66.4\n..     ...          ...    ...\n200  16845          141   68.9\n201  19045          141   68.8\n202  21485          173   68.9\n203  22470          145   68.9\n204  22625          141   68.9\n\n[201 rows x 3 columns]",
      "text/html": "<div>\n<style scoped>\n    .dataframe tbody tr th:only-of-type {\n        vertical-align: middle;\n    }\n\n    .dataframe tbody tr th {\n        vertical-align: top;\n    }\n\n    .dataframe thead th {\n        text-align: right;\n    }\n</style>\n<table border=\"1\" class=\"dataframe\">\n  <thead>\n    <tr style=\"text-align: right;\">\n      <th></th>\n      <th>price</th>\n      <th>engine-size</th>\n      <th>width</th>\n    </tr>\n  </thead>\n  <tbody>\n    <tr>\n      <th>0</th>\n      <td>13495</td>\n      <td>130</td>\n      <td>64.1</td>\n    </tr>\n    <tr>\n      <th>1</th>\n      <td>16500</td>\n      <td>130</td>\n      <td>64.1</td>\n    </tr>\n    <tr>\n      <th>2</th>\n      <td>16500</td>\n      <td>152</td>\n      <td>65.5</td>\n    </tr>\n    <tr>\n      <th>3</th>\n      <td>13950</td>\n      <td>109</td>\n      <td>66.2</td>\n    </tr>\n    <tr>\n      <th>4</th>\n      <td>17450</td>\n      <td>136</td>\n      <td>66.4</td>\n    </tr>\n    <tr>\n      <th>...</th>\n      <td>...</td>\n      <td>...</td>\n      <td>...</td>\n    </tr>\n    <tr>\n      <th>200</th>\n      <td>16845</td>\n      <td>141</td>\n      <td>68.9</td>\n    </tr>\n    <tr>\n      <th>201</th>\n      <td>19045</td>\n      <td>141</td>\n      <td>68.8</td>\n    </tr>\n    <tr>\n      <th>202</th>\n      <td>21485</td>\n      <td>173</td>\n      <td>68.9</td>\n    </tr>\n    <tr>\n      <th>203</th>\n      <td>22470</td>\n      <td>145</td>\n      <td>68.9</td>\n    </tr>\n    <tr>\n      <th>204</th>\n      <td>22625</td>\n      <td>141</td>\n      <td>68.9</td>\n    </tr>\n  </tbody>\n</table>\n<p>201 rows × 3 columns</p>\n</div>"
     },
     "execution_count": 15,
     "metadata": {},
     "output_type": "execute_result"
    }
   ],
   "source": [
    "auto\n"
   ],
   "metadata": {
    "collapsed": false,
    "pycharm": {
     "name": "#%%\n"
    }
   }
  }
 ],
 "metadata": {
  "kernelspec": {
   "display_name": "Python 3",
   "language": "python",
   "name": "python3"
  },
  "language_info": {
   "codemirror_mode": {
    "name": "ipython",
    "version": 2
   },
   "file_extension": ".py",
   "mimetype": "text/x-python",
   "name": "python",
   "nbconvert_exporter": "python",
   "pygments_lexer": "ipython2",
   "version": "2.7.6"
  }
 },
 "nbformat": 4,
 "nbformat_minor": 0
}