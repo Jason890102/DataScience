{
 "cells": [
  {
   "cell_type": "code",
   "execution_count": 1,
   "metadata": {
    "collapsed": true,
    "pycharm": {
     "name": "#%%\n"
    }
   },
   "outputs": [
    {
     "name": "stdout",
     "output_type": "stream",
     "text": [
      "準確度（train）:0.925\n",
      "準確度（test）:0.930\n"
     ]
    },
    {
     "name": "stderr",
     "output_type": "stream",
     "text": [
      "/Library/Frameworks/Python.framework/Versions/3.9/lib/python3.9/site-packages/sklearn/svm/_base.py:1225: ConvergenceWarning: Liblinear failed to converge, increase the number of iterations.\n",
      "  warnings.warn(\n"
     ]
    }
   ],
   "source": [
    "# SVM的函式庫\n",
    "from sklearn.svm import LinearSVC\n",
    "\n",
    "# 乳癌資料函式庫\n",
    "from sklearn.datasets import load_breast_cancer\n",
    "\n",
    "# 區分訓練資料與測試資料的函式庫\n",
    "from sklearn.model_selection import train_test_split\n",
    "\n",
    "# 資料的讀取\n",
    "cancer = load_breast_cancer()\n",
    "\n",
    "# 分為訓練資料與測試資料\n",
    "X_train, X_test, y_train, y_test = train_test_split(cancer.data, cancer.target, stratify = cancer.target, random_state = 0)\n",
    "\n",
    "# 類別的初始化與學習\n",
    "model = LinearSVC()\n",
    "model.fit(X_train, y_train)\n",
    "\n",
    "# 訓練資料與測試資料的分數\n",
    "print('準確度（train）:{:.3f}'.format(model.score(X_train,y_train)))\n",
    "print('準確度（test）:{:.3f}'.format(model.score(X_test,y_test)))"
   ]
  },
  {
   "cell_type": "code",
   "execution_count": 2,
   "outputs": [
    {
     "name": "stdout",
     "output_type": "stream",
     "text": [
      "準確度（train）:0.993\n",
      "準確度（test）:0.951\n"
     ]
    }
   ],
   "source": [
    "# 標準化函式庫\n",
    "from sklearn.preprocessing import StandardScaler\n",
    "\n",
    "# 資料的讀取\n",
    "cancer = load_breast_cancer()\n",
    "\n",
    "# 分為訓練資料與測試資料\n",
    "X_train, X_test, y_train, y_test = train_test_split(cancer.data, cancer.target, stratify = cancer.target, random_state = 0)\n",
    "\n",
    "# 標準化處理\n",
    "sc = StandardScaler()\n",
    "sc.fit(X_train)\n",
    "X_train_std = sc.transform(X_train)\n",
    "X_test_std = sc.transform(X_test)\n",
    "\n",
    "# 邏輯迴歸的初始化學習\n",
    "model = LinearSVC()\n",
    "model.fit(X_train_std,y_train)\n",
    "\n",
    "print('準確度（train）:{:.3f}'.format(model.score(X_train_std,y_train)))\n",
    "print('準確度（test）:{:.3f}'.format(model.score(X_test_std,y_test)))"
   ],
   "metadata": {
    "collapsed": false,
    "pycharm": {
     "name": "#%%\n"
    }
   }
  },
  {
   "cell_type": "markdown",
   "source": [
    "#### 練習問題8-8"
   ],
   "metadata": {
    "collapsed": false,
    "pycharm": {
     "name": "#%% md\n"
    }
   }
  },
  {
   "cell_type": "code",
   "execution_count": 5,
   "outputs": [
    {
     "name": "stdout",
     "output_type": "stream",
     "text": [
      "準確度（train）:0.988\n",
      "準確度（test）:0.986\n"
     ]
    }
   ],
   "source": [
    "from sklearn.svm import SVC\n",
    "\n",
    "# 分為訓練資料與測試資料\n",
    "X_train, X_test, y_train, y_test = train_test_split(cancer.data, cancer.target, stratify = cancer.target, random_state = 50)\n",
    "\n",
    "# 標準化處理\n",
    "sc = StandardScaler()\n",
    "sc.fit(X_train)\n",
    "X_train_std = sc.transform(X_train)\n",
    "X_test_std = sc.transform(X_test)\n",
    "\n",
    "# 邏輯迴歸的初始化學習\n",
    "model = SVC(kernel = 'rbf', random_state = 0, C = 2)\n",
    "model.fit(X_train_std,y_train)\n",
    "\n",
    "print('準確度（train）:{:.3f}'.format(model.score(X_train_std,y_train)))\n",
    "print('準確度（test）:{:.3f}'.format(model.score(X_test_std,y_test)))"
   ],
   "metadata": {
    "collapsed": false,
    "pycharm": {
     "name": "#%%\n"
    }
   }
  },
  {
   "cell_type": "markdown",
   "source": [
    "### 第8章 綜合問題"
   ],
   "metadata": {
    "collapsed": false,
    "pycharm": {
     "name": "#%% md\n"
    }
   }
  },
  {
   "cell_type": "markdown",
   "source": [
    "#### 綜合問題8-2 決策樹"
   ],
   "metadata": {
    "collapsed": false,
    "pycharm": {
     "name": "#%% md\n"
    }
   }
  },
  {
   "cell_type": "code",
   "execution_count": 8,
   "outputs": [
    {
     "name": "stdout",
     "output_type": "stream",
     "text": [
      "準確度（train）:0.964\n",
      "準確度（test）:0.947\n"
     ]
    }
   ],
   "source": [
    "from sklearn.tree import DecisionTreeClassifier\n",
    "from sklearn.model_selection import train_test_split\n",
    "from sklearn.datasets import load_iris\n",
    "\n",
    "iris = load_iris()\n",
    "\n",
    "\n",
    "# 分為訓練資料與測試資料\n",
    "X_train, X_test, y_train, y_test = train_test_split(iris.data, iris.target, stratify = iris.target, random_state = 0)\n",
    "\n",
    "# 決策樹類別的初始化與學習\n",
    "model = DecisionTreeClassifier(criterion = 'entropy', max_depth = 3, random_state = 0)\n",
    "# criterion = 'entropy' 分歧條件指定為熵\n",
    "# max_depth 為分歧的數量\n",
    "model.fit(X_train,y_train)\n",
    "\n",
    "print('準確度（train）:{:.3f}'.format(model.score(X_train,y_train)))\n",
    "print('準確度（test）:{:.3f}'.format(model.score(X_test,y_test)))"
   ],
   "metadata": {
    "collapsed": false,
    "pycharm": {
     "name": "#%%\n"
    }
   }
  },
  {
   "cell_type": "markdown",
   "source": [
    "#### 綜合問題8-3 no-free-lunch"
   ],
   "metadata": {
    "collapsed": false,
    "pycharm": {
     "name": "#%% md\n"
    }
   }
  },
  {
   "cell_type": "code",
   "execution_count": 10,
   "outputs": [
    {
     "data": {
      "text/plain": "              test     train\nknn       0.951049  0.978873\nlogistic  0.958042  0.990610\nsvc1      0.951049  0.992958\nsvc2      0.958042  0.992958\ntree      0.902098  1.000000",
      "text/html": "<div>\n<style scoped>\n    .dataframe tbody tr th:only-of-type {\n        vertical-align: middle;\n    }\n\n    .dataframe tbody tr th {\n        vertical-align: top;\n    }\n\n    .dataframe thead th {\n        text-align: right;\n    }\n</style>\n<table border=\"1\" class=\"dataframe\">\n  <thead>\n    <tr style=\"text-align: right;\">\n      <th></th>\n      <th>test</th>\n      <th>train</th>\n    </tr>\n  </thead>\n  <tbody>\n    <tr>\n      <th>knn</th>\n      <td>0.951049</td>\n      <td>0.978873</td>\n    </tr>\n    <tr>\n      <th>logistic</th>\n      <td>0.958042</td>\n      <td>0.990610</td>\n    </tr>\n    <tr>\n      <th>svc1</th>\n      <td>0.951049</td>\n      <td>0.992958</td>\n    </tr>\n    <tr>\n      <th>svc2</th>\n      <td>0.958042</td>\n      <td>0.992958</td>\n    </tr>\n    <tr>\n      <th>tree</th>\n      <td>0.902098</td>\n      <td>1.000000</td>\n    </tr>\n  </tbody>\n</table>\n</div>"
     },
     "execution_count": 10,
     "metadata": {},
     "output_type": "execute_result"
    }
   ],
   "source": [
    "# 所需函式匯入\n",
    "from sklearn.neighbors import KNeighborsClassifier\n",
    "from sklearn.tree import DecisionTreeClassifier\n",
    "from sklearn.linear_model import LogisticRegression\n",
    "from sklearn.svm import LinearSVC,SVC\n",
    "import pandas as pd\n",
    "\n",
    "# 這裡以乳癌資料為例，以load_breast_cancer\n",
    "cancer = load_breast_cancer()\n",
    "X_train, X_test, y_train, y_test = train_test_split(cancer.data, cancer.target, stratify = cancer.target, random_state = 0)\n",
    "\n",
    "# 標準化\n",
    "sc = StandardScaler()\n",
    "sc.fit(X_train)\n",
    "X_train_std = sc.transform(X_train)\n",
    "X_test_std = sc.transform(X_test)\n",
    "\n",
    "# 多個模型設定\n",
    "models = {\n",
    "    'knn': KNeighborsClassifier(),\n",
    "    'tree' : DecisionTreeClassifier(random_state = 0),\n",
    "    'logistic' : LogisticRegression(random_state = 0),\n",
    "    'svc1' : LinearSVC(random_state = 0),\n",
    "    'svc2' : SVC(random_state = 0)\n",
    "}\n",
    "\n",
    "# 為了持有分數的空Dict資料\n",
    "scores = {}\n",
    "\n",
    "# 對各個模型求得分數\n",
    "for model_name, model in models.items():\n",
    "    model.fit(X_train_std,y_train)\n",
    "    scores[(model_name,'train')] = model.score(X_train_std,y_train)\n",
    "    scores[(model_name,'test')] = model.score(X_test_std,y_test)\n",
    "\n",
    "# 最後顯示各個分數結果\n",
    "pd.Series(scores).unstack()"
   ],
   "metadata": {
    "collapsed": false,
    "pycharm": {
     "name": "#%%\n"
    }
   }
  }
 ],
 "metadata": {
  "kernelspec": {
   "display_name": "Python 3",
   "language": "python",
   "name": "python3"
  },
  "language_info": {
   "codemirror_mode": {
    "name": "ipython",
    "version": 2
   },
   "file_extension": ".py",
   "mimetype": "text/x-python",
   "name": "python",
   "nbconvert_exporter": "python",
   "pygments_lexer": "ipython2",
   "version": "2.7.6"
  }
 },
 "nbformat": 4,
 "nbformat_minor": 0
}