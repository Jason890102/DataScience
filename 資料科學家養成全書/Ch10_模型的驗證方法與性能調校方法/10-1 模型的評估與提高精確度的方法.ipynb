{
 "cells": [
  {
   "cell_type": "markdown",
   "source": [
    "#### 10-1-1 機器學習的問題與手法"
   ],
   "metadata": {
    "collapsed": false
   }
  },
  {
   "cell_type": "markdown",
   "source": [
    "1. 無法套用於新資料時\n",
    "    可預先抽出測試用資料的*Holdout法*和*交叉驗證法*。\n",
    "\n",
    "2. 判斷模型好壞的指標與方法\n",
    "    *混淆矩陣*、*ROC曲線*，關於分類、迴歸的評估指標。\n",
    "\n",
    "3. 製作準確度高的模型\n",
    "    使用集成式學習，具體手法包括*Bagging*、*Boosting*"
   ],
   "metadata": {
    "collapsed": false
   }
  },
  {
   "cell_type": "code",
   "execution_count": null,
   "outputs": [],
   "source": [],
   "metadata": {
    "collapsed": false
   }
  }
 ],
 "metadata": {
  "kernelspec": {
   "display_name": "Python 3",
   "language": "python",
   "name": "python3"
  },
  "language_info": {
   "codemirror_mode": {
    "name": "ipython",
    "version": 2
   },
   "file_extension": ".py",
   "mimetype": "text/x-python",
   "name": "python",
   "nbconvert_exporter": "python",
   "pygments_lexer": "ipython2",
   "version": "2.7.6"
  }
 },
 "nbformat": 4,
 "nbformat_minor": 0
}
