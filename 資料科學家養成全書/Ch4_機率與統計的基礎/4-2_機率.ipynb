{
 "cells": [
  {
   "cell_type": "code",
   "execution_count": 1,
   "metadata": {
    "collapsed": true,
    "pycharm": {
     "name": "#%%\n"
    }
   },
   "outputs": [],
   "source": [
    "import numpy as np\n",
    "import scipy as sp\n",
    "import pandas as pd\n",
    "from pandas import Series, DataFrame\n",
    "\n",
    "\n",
    "import matplotlib.pyplot as plt\n",
    "import matplotlib as mpl\n",
    "import seaborn as sns\n",
    "%matplotlib inline\n",
    "\n",
    "# 顯示到小數點後第3位\n",
    "%precision 3\n",
    "\n",
    "# 固定亂數種子\n",
    "np.random.seed(0)"
   ]
  },
  {
   "cell_type": "code",
   "execution_count": 2,
   "outputs": [],
   "source": [
    "# 儲存骰子可能得到的值\n",
    "dice_data = np.array([1,2,3,4,5,6])"
   ],
   "metadata": {
    "collapsed": false,
    "pycharm": {
     "name": "#%%\n"
    }
   }
  },
  {
   "cell_type": "code",
   "execution_count": 14,
   "outputs": [
    {
     "name": "stdout",
     "output_type": "stream",
     "text": [
      "隨機取出1個值： [1]\n"
     ]
    }
   ],
   "source": [
    "# 這裡的引述意指從對象資料dice_data裡隨機取出1個\n",
    "print('隨機取出1個值：',np.random.choice(dice_data,1))"
   ],
   "metadata": {
    "collapsed": false,
    "pycharm": {
     "name": "#%%\n"
    }
   }
  },
  {
   "cell_type": "code",
   "execution_count": 15,
   "outputs": [
    {
     "name": "stdout",
     "output_type": "stream",
     "text": [
      "1 出現的機率 0.17\n",
      "2 出現的機率 0.159\n",
      "3 出現的機率 0.158\n",
      "4 出現的機率 0.182\n",
      "5 出現的機率 0.161\n",
      "6 出現的機率 0.17\n"
     ]
    }
   ],
   "source": [
    "# 丟擲骰子1000次\n",
    "calc_steps = 1000\n",
    "\n",
    "# 從1到6的資料當中，進行1000次的取出\n",
    "dice_rolls = np.random.choice(dice_data,calc_steps)\n",
    "\n",
    "# 計算各種數字分別以多少的比例被取出\n",
    "for i in range(1,7):\n",
    "    p = len(dice_rolls[dice_rolls == i])/calc_steps\n",
    "    print(i,'出現的機率',p)"
   ],
   "metadata": {
    "collapsed": false,
    "pycharm": {
     "name": "#%%\n"
    }
   }
  },
  {
   "cell_type": "code",
   "execution_count": null,
   "outputs": [],
   "source": [],
   "metadata": {
    "collapsed": false,
    "pycharm": {
     "name": "#%%\n"
    }
   }
  }
 ],
 "metadata": {
  "kernelspec": {
   "display_name": "Python 3",
   "language": "python",
   "name": "python3"
  },
  "language_info": {
   "codemirror_mode": {
    "name": "ipython",
    "version": 2
   },
   "file_extension": ".py",
   "mimetype": "text/x-python",
   "name": "python",
   "nbconvert_exporter": "python",
   "pygments_lexer": "ipython2",
   "version": "2.7.6"
  }
 },
 "nbformat": 4,
 "nbformat_minor": 0
}