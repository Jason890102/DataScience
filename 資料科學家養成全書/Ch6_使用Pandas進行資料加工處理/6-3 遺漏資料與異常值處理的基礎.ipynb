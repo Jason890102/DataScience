{
 "cells": [
  {
   "cell_type": "markdown",
   "source": [
    "### 6-3-1 遺漏資料的處理方法"
   ],
   "metadata": {
    "collapsed": false,
    "pycharm": {
     "name": "#%% md\n"
    }
   }
  },
  {
   "cell_type": "code",
   "execution_count": 1,
   "metadata": {
    "collapsed": true,
    "pycharm": {
     "name": "#%%\n"
    }
   },
   "outputs": [],
   "source": [
    "import numpy as np\n",
    "from numpy import nan as NA\n",
    "import pandas as pd\n",
    "\n",
    "df = pd.DataFrame(np.random.rand(10,4))\n",
    "\n",
    "# 設定為NA\n",
    "df.iloc[1,0] = NA\n",
    "df.iloc[2:3,2] = NA\n",
    "df.iloc[5:,3] = NA"
   ]
  },
  {
   "cell_type": "code",
   "execution_count": 2,
   "outputs": [
    {
     "data": {
      "text/plain": "          0         1         2         3\n0  0.301974  0.987429  0.723113  0.730064\n1       NaN  0.998495  0.519317  0.683654\n2  0.296273  0.435256       NaN  0.131207\n3  0.394902  0.256377  0.241552  0.168446\n4  0.097590  0.439073  0.767179  0.396987\n5  0.138265  0.159345  0.462462       NaN\n6  0.458835  0.546847  0.919949       NaN\n7  0.514916  0.056260  0.465390       NaN\n8  0.945792  0.600119  0.800126       NaN\n9  0.450496  0.360723  0.952125       NaN",
      "text/html": "<div>\n<style scoped>\n    .dataframe tbody tr th:only-of-type {\n        vertical-align: middle;\n    }\n\n    .dataframe tbody tr th {\n        vertical-align: top;\n    }\n\n    .dataframe thead th {\n        text-align: right;\n    }\n</style>\n<table border=\"1\" class=\"dataframe\">\n  <thead>\n    <tr style=\"text-align: right;\">\n      <th></th>\n      <th>0</th>\n      <th>1</th>\n      <th>2</th>\n      <th>3</th>\n    </tr>\n  </thead>\n  <tbody>\n    <tr>\n      <th>0</th>\n      <td>0.301974</td>\n      <td>0.987429</td>\n      <td>0.723113</td>\n      <td>0.730064</td>\n    </tr>\n    <tr>\n      <th>1</th>\n      <td>NaN</td>\n      <td>0.998495</td>\n      <td>0.519317</td>\n      <td>0.683654</td>\n    </tr>\n    <tr>\n      <th>2</th>\n      <td>0.296273</td>\n      <td>0.435256</td>\n      <td>NaN</td>\n      <td>0.131207</td>\n    </tr>\n    <tr>\n      <th>3</th>\n      <td>0.394902</td>\n      <td>0.256377</td>\n      <td>0.241552</td>\n      <td>0.168446</td>\n    </tr>\n    <tr>\n      <th>4</th>\n      <td>0.097590</td>\n      <td>0.439073</td>\n      <td>0.767179</td>\n      <td>0.396987</td>\n    </tr>\n    <tr>\n      <th>5</th>\n      <td>0.138265</td>\n      <td>0.159345</td>\n      <td>0.462462</td>\n      <td>NaN</td>\n    </tr>\n    <tr>\n      <th>6</th>\n      <td>0.458835</td>\n      <td>0.546847</td>\n      <td>0.919949</td>\n      <td>NaN</td>\n    </tr>\n    <tr>\n      <th>7</th>\n      <td>0.514916</td>\n      <td>0.056260</td>\n      <td>0.465390</td>\n      <td>NaN</td>\n    </tr>\n    <tr>\n      <th>8</th>\n      <td>0.945792</td>\n      <td>0.600119</td>\n      <td>0.800126</td>\n      <td>NaN</td>\n    </tr>\n    <tr>\n      <th>9</th>\n      <td>0.450496</td>\n      <td>0.360723</td>\n      <td>0.952125</td>\n      <td>NaN</td>\n    </tr>\n  </tbody>\n</table>\n</div>"
     },
     "execution_count": 2,
     "metadata": {},
     "output_type": "execute_result"
    }
   ],
   "source": [
    "df"
   ],
   "metadata": {
    "collapsed": false,
    "pycharm": {
     "name": "#%%\n"
    }
   }
  },
  {
   "cell_type": "code",
   "execution_count": 3,
   "outputs": [
    {
     "data": {
      "text/plain": "          0         1         2         3\n0  0.301974  0.987429  0.723113  0.730064\n3  0.394902  0.256377  0.241552  0.168446\n4  0.097590  0.439073  0.767179  0.396987",
      "text/html": "<div>\n<style scoped>\n    .dataframe tbody tr th:only-of-type {\n        vertical-align: middle;\n    }\n\n    .dataframe tbody tr th {\n        vertical-align: top;\n    }\n\n    .dataframe thead th {\n        text-align: right;\n    }\n</style>\n<table border=\"1\" class=\"dataframe\">\n  <thead>\n    <tr style=\"text-align: right;\">\n      <th></th>\n      <th>0</th>\n      <th>1</th>\n      <th>2</th>\n      <th>3</th>\n    </tr>\n  </thead>\n  <tbody>\n    <tr>\n      <th>0</th>\n      <td>0.301974</td>\n      <td>0.987429</td>\n      <td>0.723113</td>\n      <td>0.730064</td>\n    </tr>\n    <tr>\n      <th>3</th>\n      <td>0.394902</td>\n      <td>0.256377</td>\n      <td>0.241552</td>\n      <td>0.168446</td>\n    </tr>\n    <tr>\n      <th>4</th>\n      <td>0.097590</td>\n      <td>0.439073</td>\n      <td>0.767179</td>\n      <td>0.396987</td>\n    </tr>\n  </tbody>\n</table>\n</div>"
     },
     "execution_count": 3,
     "metadata": {},
     "output_type": "execute_result"
    }
   ],
   "source": [
    "# 成批刪除，將存在NaN的列全部刪除\n",
    "df.dropna()"
   ],
   "metadata": {
    "collapsed": false,
    "pycharm": {
     "name": "#%%\n"
    }
   }
  },
  {
   "cell_type": "code",
   "execution_count": 4,
   "outputs": [
    {
     "data": {
      "text/plain": "          0         1\n0  0.301974  0.987429\n2  0.296273  0.435256\n3  0.394902  0.256377\n4  0.097590  0.439073\n5  0.138265  0.159345\n6  0.458835  0.546847\n7  0.514916  0.056260\n8  0.945792  0.600119\n9  0.450496  0.360723",
      "text/html": "<div>\n<style scoped>\n    .dataframe tbody tr th:only-of-type {\n        vertical-align: middle;\n    }\n\n    .dataframe tbody tr th {\n        vertical-align: top;\n    }\n\n    .dataframe thead th {\n        text-align: right;\n    }\n</style>\n<table border=\"1\" class=\"dataframe\">\n  <thead>\n    <tr style=\"text-align: right;\">\n      <th></th>\n      <th>0</th>\n      <th>1</th>\n    </tr>\n  </thead>\n  <tbody>\n    <tr>\n      <th>0</th>\n      <td>0.301974</td>\n      <td>0.987429</td>\n    </tr>\n    <tr>\n      <th>2</th>\n      <td>0.296273</td>\n      <td>0.435256</td>\n    </tr>\n    <tr>\n      <th>3</th>\n      <td>0.394902</td>\n      <td>0.256377</td>\n    </tr>\n    <tr>\n      <th>4</th>\n      <td>0.097590</td>\n      <td>0.439073</td>\n    </tr>\n    <tr>\n      <th>5</th>\n      <td>0.138265</td>\n      <td>0.159345</td>\n    </tr>\n    <tr>\n      <th>6</th>\n      <td>0.458835</td>\n      <td>0.546847</td>\n    </tr>\n    <tr>\n      <th>7</th>\n      <td>0.514916</td>\n      <td>0.056260</td>\n    </tr>\n    <tr>\n      <th>8</th>\n      <td>0.945792</td>\n      <td>0.600119</td>\n    </tr>\n    <tr>\n      <th>9</th>\n      <td>0.450496</td>\n      <td>0.360723</td>\n    </tr>\n  </tbody>\n</table>\n</div>"
     },
     "execution_count": 4,
     "metadata": {},
     "output_type": "execute_result"
    }
   ],
   "source": [
    "# 逐對刪除，刪除指定的列\n",
    "df[[0,1]].dropna()"
   ],
   "metadata": {
    "collapsed": false,
    "pycharm": {
     "name": "#%%\n"
    }
   }
  },
  {
   "cell_type": "code",
   "execution_count": 6,
   "outputs": [
    {
     "data": {
      "text/plain": "          0         1         2         3\n0  0.301974  0.987429  0.723113  0.730064\n1  0.000000  0.998495  0.519317  0.683654\n2  0.296273  0.435256  0.000000  0.131207\n3  0.394902  0.256377  0.241552  0.168446\n4  0.097590  0.439073  0.767179  0.396987\n5  0.138265  0.159345  0.462462  0.000000\n6  0.458835  0.546847  0.919949  0.000000\n7  0.514916  0.056260  0.465390  0.000000\n8  0.945792  0.600119  0.800126  0.000000\n9  0.450496  0.360723  0.952125  0.000000",
      "text/html": "<div>\n<style scoped>\n    .dataframe tbody tr th:only-of-type {\n        vertical-align: middle;\n    }\n\n    .dataframe tbody tr th {\n        vertical-align: top;\n    }\n\n    .dataframe thead th {\n        text-align: right;\n    }\n</style>\n<table border=\"1\" class=\"dataframe\">\n  <thead>\n    <tr style=\"text-align: right;\">\n      <th></th>\n      <th>0</th>\n      <th>1</th>\n      <th>2</th>\n      <th>3</th>\n    </tr>\n  </thead>\n  <tbody>\n    <tr>\n      <th>0</th>\n      <td>0.301974</td>\n      <td>0.987429</td>\n      <td>0.723113</td>\n      <td>0.730064</td>\n    </tr>\n    <tr>\n      <th>1</th>\n      <td>0.000000</td>\n      <td>0.998495</td>\n      <td>0.519317</td>\n      <td>0.683654</td>\n    </tr>\n    <tr>\n      <th>2</th>\n      <td>0.296273</td>\n      <td>0.435256</td>\n      <td>0.000000</td>\n      <td>0.131207</td>\n    </tr>\n    <tr>\n      <th>3</th>\n      <td>0.394902</td>\n      <td>0.256377</td>\n      <td>0.241552</td>\n      <td>0.168446</td>\n    </tr>\n    <tr>\n      <th>4</th>\n      <td>0.097590</td>\n      <td>0.439073</td>\n      <td>0.767179</td>\n      <td>0.396987</td>\n    </tr>\n    <tr>\n      <th>5</th>\n      <td>0.138265</td>\n      <td>0.159345</td>\n      <td>0.462462</td>\n      <td>0.000000</td>\n    </tr>\n    <tr>\n      <th>6</th>\n      <td>0.458835</td>\n      <td>0.546847</td>\n      <td>0.919949</td>\n      <td>0.000000</td>\n    </tr>\n    <tr>\n      <th>7</th>\n      <td>0.514916</td>\n      <td>0.056260</td>\n      <td>0.465390</td>\n      <td>0.000000</td>\n    </tr>\n    <tr>\n      <th>8</th>\n      <td>0.945792</td>\n      <td>0.600119</td>\n      <td>0.800126</td>\n      <td>0.000000</td>\n    </tr>\n    <tr>\n      <th>9</th>\n      <td>0.450496</td>\n      <td>0.360723</td>\n      <td>0.952125</td>\n      <td>0.000000</td>\n    </tr>\n  </tbody>\n</table>\n</div>"
     },
     "execution_count": 6,
     "metadata": {},
     "output_type": "execute_result"
    }
   ],
   "source": [
    "# 填補，將NaN的位置上補上指定的值，這裡示範填上0\n",
    "df.fillna(0)"
   ],
   "metadata": {
    "collapsed": false,
    "pycharm": {
     "name": "#%%\n"
    }
   }
  },
  {
   "cell_type": "code",
   "execution_count": 11,
   "outputs": [
    {
     "data": {
      "text/plain": "          0         1         2         3\n0  0.301974  0.987429  0.723113  0.730064\n1  0.301974  0.998495  0.519317  0.683654\n2  0.296273  0.435256  0.519317  0.131207\n3  0.394902  0.256377  0.241552  0.168446\n4  0.097590  0.439073  0.767179  0.396987\n5  0.138265  0.159345  0.462462  0.396987\n6  0.458835  0.546847  0.919949  0.396987\n7  0.514916  0.056260  0.465390  0.396987\n8  0.945792  0.600119  0.800126  0.396987\n9  0.450496  0.360723  0.952125  0.396987",
      "text/html": "<div>\n<style scoped>\n    .dataframe tbody tr th:only-of-type {\n        vertical-align: middle;\n    }\n\n    .dataframe tbody tr th {\n        vertical-align: top;\n    }\n\n    .dataframe thead th {\n        text-align: right;\n    }\n</style>\n<table border=\"1\" class=\"dataframe\">\n  <thead>\n    <tr style=\"text-align: right;\">\n      <th></th>\n      <th>0</th>\n      <th>1</th>\n      <th>2</th>\n      <th>3</th>\n    </tr>\n  </thead>\n  <tbody>\n    <tr>\n      <th>0</th>\n      <td>0.301974</td>\n      <td>0.987429</td>\n      <td>0.723113</td>\n      <td>0.730064</td>\n    </tr>\n    <tr>\n      <th>1</th>\n      <td>0.301974</td>\n      <td>0.998495</td>\n      <td>0.519317</td>\n      <td>0.683654</td>\n    </tr>\n    <tr>\n      <th>2</th>\n      <td>0.296273</td>\n      <td>0.435256</td>\n      <td>0.519317</td>\n      <td>0.131207</td>\n    </tr>\n    <tr>\n      <th>3</th>\n      <td>0.394902</td>\n      <td>0.256377</td>\n      <td>0.241552</td>\n      <td>0.168446</td>\n    </tr>\n    <tr>\n      <th>4</th>\n      <td>0.097590</td>\n      <td>0.439073</td>\n      <td>0.767179</td>\n      <td>0.396987</td>\n    </tr>\n    <tr>\n      <th>5</th>\n      <td>0.138265</td>\n      <td>0.159345</td>\n      <td>0.462462</td>\n      <td>0.396987</td>\n    </tr>\n    <tr>\n      <th>6</th>\n      <td>0.458835</td>\n      <td>0.546847</td>\n      <td>0.919949</td>\n      <td>0.396987</td>\n    </tr>\n    <tr>\n      <th>7</th>\n      <td>0.514916</td>\n      <td>0.056260</td>\n      <td>0.465390</td>\n      <td>0.396987</td>\n    </tr>\n    <tr>\n      <th>8</th>\n      <td>0.945792</td>\n      <td>0.600119</td>\n      <td>0.800126</td>\n      <td>0.396987</td>\n    </tr>\n    <tr>\n      <th>9</th>\n      <td>0.450496</td>\n      <td>0.360723</td>\n      <td>0.952125</td>\n      <td>0.396987</td>\n    </tr>\n  </tbody>\n</table>\n</div>"
     },
     "execution_count": 11,
     "metadata": {},
     "output_type": "execute_result"
    }
   ],
   "source": [
    "# 以同列的上一個值來填補\n",
    "df.fillna(method = 'ffill')"
   ],
   "metadata": {
    "collapsed": false,
    "pycharm": {
     "name": "#%%\n"
    }
   }
  },
  {
   "cell_type": "code",
   "execution_count": 12,
   "outputs": [
    {
     "data": {
      "text/plain": "0    0.399894\n1    0.483993\n2    0.650135\n3    0.422072\ndtype: float64"
     },
     "execution_count": 12,
     "metadata": {},
     "output_type": "execute_result"
    }
   ],
   "source": [
    "# 各行的平均值（確認用）\n",
    "df.mean()"
   ],
   "metadata": {
    "collapsed": false,
    "pycharm": {
     "name": "#%%\n"
    }
   }
  },
  {
   "cell_type": "code",
   "execution_count": 13,
   "outputs": [
    {
     "data": {
      "text/plain": "          0         1         2         3\n0  0.301974  0.987429  0.723113  0.730064\n1  0.399894  0.998495  0.519317  0.683654\n2  0.296273  0.435256  0.650135  0.131207\n3  0.394902  0.256377  0.241552  0.168446\n4  0.097590  0.439073  0.767179  0.396987\n5  0.138265  0.159345  0.462462  0.422072\n6  0.458835  0.546847  0.919949  0.422072\n7  0.514916  0.056260  0.465390  0.422072\n8  0.945792  0.600119  0.800126  0.422072\n9  0.450496  0.360723  0.952125  0.422072",
      "text/html": "<div>\n<style scoped>\n    .dataframe tbody tr th:only-of-type {\n        vertical-align: middle;\n    }\n\n    .dataframe tbody tr th {\n        vertical-align: top;\n    }\n\n    .dataframe thead th {\n        text-align: right;\n    }\n</style>\n<table border=\"1\" class=\"dataframe\">\n  <thead>\n    <tr style=\"text-align: right;\">\n      <th></th>\n      <th>0</th>\n      <th>1</th>\n      <th>2</th>\n      <th>3</th>\n    </tr>\n  </thead>\n  <tbody>\n    <tr>\n      <th>0</th>\n      <td>0.301974</td>\n      <td>0.987429</td>\n      <td>0.723113</td>\n      <td>0.730064</td>\n    </tr>\n    <tr>\n      <th>1</th>\n      <td>0.399894</td>\n      <td>0.998495</td>\n      <td>0.519317</td>\n      <td>0.683654</td>\n    </tr>\n    <tr>\n      <th>2</th>\n      <td>0.296273</td>\n      <td>0.435256</td>\n      <td>0.650135</td>\n      <td>0.131207</td>\n    </tr>\n    <tr>\n      <th>3</th>\n      <td>0.394902</td>\n      <td>0.256377</td>\n      <td>0.241552</td>\n      <td>0.168446</td>\n    </tr>\n    <tr>\n      <th>4</th>\n      <td>0.097590</td>\n      <td>0.439073</td>\n      <td>0.767179</td>\n      <td>0.396987</td>\n    </tr>\n    <tr>\n      <th>5</th>\n      <td>0.138265</td>\n      <td>0.159345</td>\n      <td>0.462462</td>\n      <td>0.422072</td>\n    </tr>\n    <tr>\n      <th>6</th>\n      <td>0.458835</td>\n      <td>0.546847</td>\n      <td>0.919949</td>\n      <td>0.422072</td>\n    </tr>\n    <tr>\n      <th>7</th>\n      <td>0.514916</td>\n      <td>0.056260</td>\n      <td>0.465390</td>\n      <td>0.422072</td>\n    </tr>\n    <tr>\n      <th>8</th>\n      <td>0.945792</td>\n      <td>0.600119</td>\n      <td>0.800126</td>\n      <td>0.422072</td>\n    </tr>\n    <tr>\n      <th>9</th>\n      <td>0.450496</td>\n      <td>0.360723</td>\n      <td>0.952125</td>\n      <td>0.422072</td>\n    </tr>\n  </tbody>\n</table>\n</div>"
     },
     "execution_count": 13,
     "metadata": {},
     "output_type": "execute_result"
    }
   ],
   "source": [
    "# 以平均值填補\n",
    "df.fillna(df.mean())"
   ],
   "metadata": {
    "collapsed": false,
    "pycharm": {
     "name": "#%%\n"
    }
   }
  },
  {
   "cell_type": "markdown",
   "source": [
    "#### 練習問題6-13"
   ],
   "metadata": {
    "collapsed": false,
    "pycharm": {
     "name": "#%% md\n"
    }
   }
  },
  {
   "cell_type": "code",
   "execution_count": 15,
   "outputs": [
    {
     "data": {
      "text/plain": "           0         1         2         3         4         5\n0   0.280873  0.361174  0.831726  0.000527  0.332562  0.496813\n1   0.434767  0.467769  0.042339  0.426126  0.508405  0.663182\n2        NaN  0.973699  0.162277  0.043975  0.062317  0.948551\n3   0.085847  0.485289  0.527748  0.409363  0.671392  0.760615\n4   0.443084  0.254999  0.591717  0.211530  0.556490  0.602048\n5   0.705820  0.146579       NaN  0.680726  0.760529  0.359586\n6   0.407835  0.221520       NaN  0.825697  0.558914  0.870867\n7   0.948557  0.669749       NaN       NaN  0.506716  0.119724\n8   0.202862  0.169435  0.745610       NaN  0.981722  0.462112\n9   0.835567  0.636170  0.443324  0.685062  0.081836  0.457096\n10  0.952980  0.361685  0.676749  0.601566  0.190532       NaN\n11  0.774464  0.037664  0.314031  0.915800  0.133826  0.096108\n12  0.792987  0.669050  0.656524  0.005008  0.978051  0.701769\n13  0.071520  0.100934  0.156470  0.456634  0.238460  0.786167\n14  0.871131  0.623069  0.750385  0.759984  0.113319  0.701630",
      "text/html": "<div>\n<style scoped>\n    .dataframe tbody tr th:only-of-type {\n        vertical-align: middle;\n    }\n\n    .dataframe tbody tr th {\n        vertical-align: top;\n    }\n\n    .dataframe thead th {\n        text-align: right;\n    }\n</style>\n<table border=\"1\" class=\"dataframe\">\n  <thead>\n    <tr style=\"text-align: right;\">\n      <th></th>\n      <th>0</th>\n      <th>1</th>\n      <th>2</th>\n      <th>3</th>\n      <th>4</th>\n      <th>5</th>\n    </tr>\n  </thead>\n  <tbody>\n    <tr>\n      <th>0</th>\n      <td>0.280873</td>\n      <td>0.361174</td>\n      <td>0.831726</td>\n      <td>0.000527</td>\n      <td>0.332562</td>\n      <td>0.496813</td>\n    </tr>\n    <tr>\n      <th>1</th>\n      <td>0.434767</td>\n      <td>0.467769</td>\n      <td>0.042339</td>\n      <td>0.426126</td>\n      <td>0.508405</td>\n      <td>0.663182</td>\n    </tr>\n    <tr>\n      <th>2</th>\n      <td>NaN</td>\n      <td>0.973699</td>\n      <td>0.162277</td>\n      <td>0.043975</td>\n      <td>0.062317</td>\n      <td>0.948551</td>\n    </tr>\n    <tr>\n      <th>3</th>\n      <td>0.085847</td>\n      <td>0.485289</td>\n      <td>0.527748</td>\n      <td>0.409363</td>\n      <td>0.671392</td>\n      <td>0.760615</td>\n    </tr>\n    <tr>\n      <th>4</th>\n      <td>0.443084</td>\n      <td>0.254999</td>\n      <td>0.591717</td>\n      <td>0.211530</td>\n      <td>0.556490</td>\n      <td>0.602048</td>\n    </tr>\n    <tr>\n      <th>5</th>\n      <td>0.705820</td>\n      <td>0.146579</td>\n      <td>NaN</td>\n      <td>0.680726</td>\n      <td>0.760529</td>\n      <td>0.359586</td>\n    </tr>\n    <tr>\n      <th>6</th>\n      <td>0.407835</td>\n      <td>0.221520</td>\n      <td>NaN</td>\n      <td>0.825697</td>\n      <td>0.558914</td>\n      <td>0.870867</td>\n    </tr>\n    <tr>\n      <th>7</th>\n      <td>0.948557</td>\n      <td>0.669749</td>\n      <td>NaN</td>\n      <td>NaN</td>\n      <td>0.506716</td>\n      <td>0.119724</td>\n    </tr>\n    <tr>\n      <th>8</th>\n      <td>0.202862</td>\n      <td>0.169435</td>\n      <td>0.745610</td>\n      <td>NaN</td>\n      <td>0.981722</td>\n      <td>0.462112</td>\n    </tr>\n    <tr>\n      <th>9</th>\n      <td>0.835567</td>\n      <td>0.636170</td>\n      <td>0.443324</td>\n      <td>0.685062</td>\n      <td>0.081836</td>\n      <td>0.457096</td>\n    </tr>\n    <tr>\n      <th>10</th>\n      <td>0.952980</td>\n      <td>0.361685</td>\n      <td>0.676749</td>\n      <td>0.601566</td>\n      <td>0.190532</td>\n      <td>NaN</td>\n    </tr>\n    <tr>\n      <th>11</th>\n      <td>0.774464</td>\n      <td>0.037664</td>\n      <td>0.314031</td>\n      <td>0.915800</td>\n      <td>0.133826</td>\n      <td>0.096108</td>\n    </tr>\n    <tr>\n      <th>12</th>\n      <td>0.792987</td>\n      <td>0.669050</td>\n      <td>0.656524</td>\n      <td>0.005008</td>\n      <td>0.978051</td>\n      <td>0.701769</td>\n    </tr>\n    <tr>\n      <th>13</th>\n      <td>0.071520</td>\n      <td>0.100934</td>\n      <td>0.156470</td>\n      <td>0.456634</td>\n      <td>0.238460</td>\n      <td>0.786167</td>\n    </tr>\n    <tr>\n      <th>14</th>\n      <td>0.871131</td>\n      <td>0.623069</td>\n      <td>0.750385</td>\n      <td>0.759984</td>\n      <td>0.113319</td>\n      <td>0.701630</td>\n    </tr>\n  </tbody>\n</table>\n</div>"
     },
     "execution_count": 15,
     "metadata": {},
     "output_type": "execute_result"
    }
   ],
   "source": [
    "import numpy as np\n",
    "from numpy import nan as NA\n",
    "import pandas as pd\n",
    "\n",
    "df2 = pd.DataFrame(np.random.rand(15,6))\n",
    "\n",
    "# 設定為NA\n",
    "df2.iloc[2,0] = NA\n",
    "df2.iloc[5:8,2] = NA\n",
    "df2.iloc[7:9,3] = NA\n",
    "df2.iloc[10,5] = NA\n",
    "df2"
   ],
   "metadata": {
    "collapsed": false,
    "pycharm": {
     "name": "#%%\n"
    }
   }
  },
  {
   "cell_type": "code",
   "execution_count": 16,
   "outputs": [
    {
     "data": {
      "text/plain": "           0         1         2         3         4         5\n0   0.280873  0.361174  0.831726  0.000527  0.332562  0.496813\n1   0.434767  0.467769  0.042339  0.426126  0.508405  0.663182\n3   0.085847  0.485289  0.527748  0.409363  0.671392  0.760615\n4   0.443084  0.254999  0.591717  0.211530  0.556490  0.602048\n9   0.835567  0.636170  0.443324  0.685062  0.081836  0.457096\n11  0.774464  0.037664  0.314031  0.915800  0.133826  0.096108\n12  0.792987  0.669050  0.656524  0.005008  0.978051  0.701769\n13  0.071520  0.100934  0.156470  0.456634  0.238460  0.786167\n14  0.871131  0.623069  0.750385  0.759984  0.113319  0.701630",
      "text/html": "<div>\n<style scoped>\n    .dataframe tbody tr th:only-of-type {\n        vertical-align: middle;\n    }\n\n    .dataframe tbody tr th {\n        vertical-align: top;\n    }\n\n    .dataframe thead th {\n        text-align: right;\n    }\n</style>\n<table border=\"1\" class=\"dataframe\">\n  <thead>\n    <tr style=\"text-align: right;\">\n      <th></th>\n      <th>0</th>\n      <th>1</th>\n      <th>2</th>\n      <th>3</th>\n      <th>4</th>\n      <th>5</th>\n    </tr>\n  </thead>\n  <tbody>\n    <tr>\n      <th>0</th>\n      <td>0.280873</td>\n      <td>0.361174</td>\n      <td>0.831726</td>\n      <td>0.000527</td>\n      <td>0.332562</td>\n      <td>0.496813</td>\n    </tr>\n    <tr>\n      <th>1</th>\n      <td>0.434767</td>\n      <td>0.467769</td>\n      <td>0.042339</td>\n      <td>0.426126</td>\n      <td>0.508405</td>\n      <td>0.663182</td>\n    </tr>\n    <tr>\n      <th>3</th>\n      <td>0.085847</td>\n      <td>0.485289</td>\n      <td>0.527748</td>\n      <td>0.409363</td>\n      <td>0.671392</td>\n      <td>0.760615</td>\n    </tr>\n    <tr>\n      <th>4</th>\n      <td>0.443084</td>\n      <td>0.254999</td>\n      <td>0.591717</td>\n      <td>0.211530</td>\n      <td>0.556490</td>\n      <td>0.602048</td>\n    </tr>\n    <tr>\n      <th>9</th>\n      <td>0.835567</td>\n      <td>0.636170</td>\n      <td>0.443324</td>\n      <td>0.685062</td>\n      <td>0.081836</td>\n      <td>0.457096</td>\n    </tr>\n    <tr>\n      <th>11</th>\n      <td>0.774464</td>\n      <td>0.037664</td>\n      <td>0.314031</td>\n      <td>0.915800</td>\n      <td>0.133826</td>\n      <td>0.096108</td>\n    </tr>\n    <tr>\n      <th>12</th>\n      <td>0.792987</td>\n      <td>0.669050</td>\n      <td>0.656524</td>\n      <td>0.005008</td>\n      <td>0.978051</td>\n      <td>0.701769</td>\n    </tr>\n    <tr>\n      <th>13</th>\n      <td>0.071520</td>\n      <td>0.100934</td>\n      <td>0.156470</td>\n      <td>0.456634</td>\n      <td>0.238460</td>\n      <td>0.786167</td>\n    </tr>\n    <tr>\n      <th>14</th>\n      <td>0.871131</td>\n      <td>0.623069</td>\n      <td>0.750385</td>\n      <td>0.759984</td>\n      <td>0.113319</td>\n      <td>0.701630</td>\n    </tr>\n  </tbody>\n</table>\n</div>"
     },
     "execution_count": 16,
     "metadata": {},
     "output_type": "execute_result"
    }
   ],
   "source": [
    "df2.dropna()"
   ],
   "metadata": {
    "collapsed": false,
    "pycharm": {
     "name": "#%%\n"
    }
   }
  },
  {
   "cell_type": "markdown",
   "source": [
    "#### 練習問題6-14"
   ],
   "metadata": {
    "collapsed": false,
    "pycharm": {
     "name": "#%% md\n"
    }
   }
  },
  {
   "cell_type": "code",
   "execution_count": 17,
   "outputs": [
    {
     "data": {
      "text/plain": "           0         1         2         3         4         5\n0   0.280873  0.361174  0.831726  0.000527  0.332562  0.496813\n1   0.434767  0.467769  0.042339  0.426126  0.508405  0.663182\n2   0.000000  0.973699  0.162277  0.043975  0.062317  0.948551\n3   0.085847  0.485289  0.527748  0.409363  0.671392  0.760615\n4   0.443084  0.254999  0.591717  0.211530  0.556490  0.602048\n5   0.705820  0.146579  0.000000  0.680726  0.760529  0.359586\n6   0.407835  0.221520  0.000000  0.825697  0.558914  0.870867\n7   0.948557  0.669749  0.000000  0.000000  0.506716  0.119724\n8   0.202862  0.169435  0.745610  0.000000  0.981722  0.462112\n9   0.835567  0.636170  0.443324  0.685062  0.081836  0.457096\n10  0.952980  0.361685  0.676749  0.601566  0.190532  0.000000\n11  0.774464  0.037664  0.314031  0.915800  0.133826  0.096108\n12  0.792987  0.669050  0.656524  0.005008  0.978051  0.701769\n13  0.071520  0.100934  0.156470  0.456634  0.238460  0.786167\n14  0.871131  0.623069  0.750385  0.759984  0.113319  0.701630",
      "text/html": "<div>\n<style scoped>\n    .dataframe tbody tr th:only-of-type {\n        vertical-align: middle;\n    }\n\n    .dataframe tbody tr th {\n        vertical-align: top;\n    }\n\n    .dataframe thead th {\n        text-align: right;\n    }\n</style>\n<table border=\"1\" class=\"dataframe\">\n  <thead>\n    <tr style=\"text-align: right;\">\n      <th></th>\n      <th>0</th>\n      <th>1</th>\n      <th>2</th>\n      <th>3</th>\n      <th>4</th>\n      <th>5</th>\n    </tr>\n  </thead>\n  <tbody>\n    <tr>\n      <th>0</th>\n      <td>0.280873</td>\n      <td>0.361174</td>\n      <td>0.831726</td>\n      <td>0.000527</td>\n      <td>0.332562</td>\n      <td>0.496813</td>\n    </tr>\n    <tr>\n      <th>1</th>\n      <td>0.434767</td>\n      <td>0.467769</td>\n      <td>0.042339</td>\n      <td>0.426126</td>\n      <td>0.508405</td>\n      <td>0.663182</td>\n    </tr>\n    <tr>\n      <th>2</th>\n      <td>0.000000</td>\n      <td>0.973699</td>\n      <td>0.162277</td>\n      <td>0.043975</td>\n      <td>0.062317</td>\n      <td>0.948551</td>\n    </tr>\n    <tr>\n      <th>3</th>\n      <td>0.085847</td>\n      <td>0.485289</td>\n      <td>0.527748</td>\n      <td>0.409363</td>\n      <td>0.671392</td>\n      <td>0.760615</td>\n    </tr>\n    <tr>\n      <th>4</th>\n      <td>0.443084</td>\n      <td>0.254999</td>\n      <td>0.591717</td>\n      <td>0.211530</td>\n      <td>0.556490</td>\n      <td>0.602048</td>\n    </tr>\n    <tr>\n      <th>5</th>\n      <td>0.705820</td>\n      <td>0.146579</td>\n      <td>0.000000</td>\n      <td>0.680726</td>\n      <td>0.760529</td>\n      <td>0.359586</td>\n    </tr>\n    <tr>\n      <th>6</th>\n      <td>0.407835</td>\n      <td>0.221520</td>\n      <td>0.000000</td>\n      <td>0.825697</td>\n      <td>0.558914</td>\n      <td>0.870867</td>\n    </tr>\n    <tr>\n      <th>7</th>\n      <td>0.948557</td>\n      <td>0.669749</td>\n      <td>0.000000</td>\n      <td>0.000000</td>\n      <td>0.506716</td>\n      <td>0.119724</td>\n    </tr>\n    <tr>\n      <th>8</th>\n      <td>0.202862</td>\n      <td>0.169435</td>\n      <td>0.745610</td>\n      <td>0.000000</td>\n      <td>0.981722</td>\n      <td>0.462112</td>\n    </tr>\n    <tr>\n      <th>9</th>\n      <td>0.835567</td>\n      <td>0.636170</td>\n      <td>0.443324</td>\n      <td>0.685062</td>\n      <td>0.081836</td>\n      <td>0.457096</td>\n    </tr>\n    <tr>\n      <th>10</th>\n      <td>0.952980</td>\n      <td>0.361685</td>\n      <td>0.676749</td>\n      <td>0.601566</td>\n      <td>0.190532</td>\n      <td>0.000000</td>\n    </tr>\n    <tr>\n      <th>11</th>\n      <td>0.774464</td>\n      <td>0.037664</td>\n      <td>0.314031</td>\n      <td>0.915800</td>\n      <td>0.133826</td>\n      <td>0.096108</td>\n    </tr>\n    <tr>\n      <th>12</th>\n      <td>0.792987</td>\n      <td>0.669050</td>\n      <td>0.656524</td>\n      <td>0.005008</td>\n      <td>0.978051</td>\n      <td>0.701769</td>\n    </tr>\n    <tr>\n      <th>13</th>\n      <td>0.071520</td>\n      <td>0.100934</td>\n      <td>0.156470</td>\n      <td>0.456634</td>\n      <td>0.238460</td>\n      <td>0.786167</td>\n    </tr>\n    <tr>\n      <th>14</th>\n      <td>0.871131</td>\n      <td>0.623069</td>\n      <td>0.750385</td>\n      <td>0.759984</td>\n      <td>0.113319</td>\n      <td>0.701630</td>\n    </tr>\n  </tbody>\n</table>\n</div>"
     },
     "execution_count": 17,
     "metadata": {},
     "output_type": "execute_result"
    }
   ],
   "source": [
    "df2.fillna(0)"
   ],
   "metadata": {
    "collapsed": false,
    "pycharm": {
     "name": "#%%\n"
    }
   }
  },
  {
   "cell_type": "code",
   "execution_count": 18,
   "outputs": [
    {
     "data": {
      "text/plain": "          0         1         2         3\n0  0.301974  0.987429  0.723113  0.730064\n1  0.399894  0.998495  0.519317  0.683654\n2  0.296273  0.435256  0.650135  0.131207\n3  0.394902  0.256377  0.241552  0.168446\n4  0.097590  0.439073  0.767179  0.396987\n5  0.138265  0.159345  0.462462  0.422072\n6  0.458835  0.546847  0.919949  0.422072\n7  0.514916  0.056260  0.465390  0.422072\n8  0.945792  0.600119  0.800126  0.422072\n9  0.450496  0.360723  0.952125  0.422072",
      "text/html": "<div>\n<style scoped>\n    .dataframe tbody tr th:only-of-type {\n        vertical-align: middle;\n    }\n\n    .dataframe tbody tr th {\n        vertical-align: top;\n    }\n\n    .dataframe thead th {\n        text-align: right;\n    }\n</style>\n<table border=\"1\" class=\"dataframe\">\n  <thead>\n    <tr style=\"text-align: right;\">\n      <th></th>\n      <th>0</th>\n      <th>1</th>\n      <th>2</th>\n      <th>3</th>\n    </tr>\n  </thead>\n  <tbody>\n    <tr>\n      <th>0</th>\n      <td>0.301974</td>\n      <td>0.987429</td>\n      <td>0.723113</td>\n      <td>0.730064</td>\n    </tr>\n    <tr>\n      <th>1</th>\n      <td>0.399894</td>\n      <td>0.998495</td>\n      <td>0.519317</td>\n      <td>0.683654</td>\n    </tr>\n    <tr>\n      <th>2</th>\n      <td>0.296273</td>\n      <td>0.435256</td>\n      <td>0.650135</td>\n      <td>0.131207</td>\n    </tr>\n    <tr>\n      <th>3</th>\n      <td>0.394902</td>\n      <td>0.256377</td>\n      <td>0.241552</td>\n      <td>0.168446</td>\n    </tr>\n    <tr>\n      <th>4</th>\n      <td>0.097590</td>\n      <td>0.439073</td>\n      <td>0.767179</td>\n      <td>0.396987</td>\n    </tr>\n    <tr>\n      <th>5</th>\n      <td>0.138265</td>\n      <td>0.159345</td>\n      <td>0.462462</td>\n      <td>0.422072</td>\n    </tr>\n    <tr>\n      <th>6</th>\n      <td>0.458835</td>\n      <td>0.546847</td>\n      <td>0.919949</td>\n      <td>0.422072</td>\n    </tr>\n    <tr>\n      <th>7</th>\n      <td>0.514916</td>\n      <td>0.056260</td>\n      <td>0.465390</td>\n      <td>0.422072</td>\n    </tr>\n    <tr>\n      <th>8</th>\n      <td>0.945792</td>\n      <td>0.600119</td>\n      <td>0.800126</td>\n      <td>0.422072</td>\n    </tr>\n    <tr>\n      <th>9</th>\n      <td>0.450496</td>\n      <td>0.360723</td>\n      <td>0.952125</td>\n      <td>0.422072</td>\n    </tr>\n  </tbody>\n</table>\n</div>"
     },
     "execution_count": 18,
     "metadata": {},
     "output_type": "execute_result"
    }
   ],
   "source": [
    "df.fillna(df.mean())"
   ],
   "metadata": {
    "collapsed": false,
    "pycharm": {
     "name": "#%%\n"
    }
   }
  }
 ],
 "metadata": {
  "kernelspec": {
   "display_name": "Python 3",
   "language": "python",
   "name": "python3"
  },
  "language_info": {
   "codemirror_mode": {
    "name": "ipython",
    "version": 2
   },
   "file_extension": ".py",
   "mimetype": "text/x-python",
   "name": "python",
   "nbconvert_exporter": "python",
   "pygments_lexer": "ipython2",
   "version": "2.7.6"
  }
 },
 "nbformat": 4,
 "nbformat_minor": 0
}