{
 "cells": [
  {
   "cell_type": "code",
   "execution_count": 3,
   "metadata": {
    "collapsed": true,
    "pycharm": {
     "name": "#%%\n"
    }
   },
   "outputs": [
    {
     "data": {
      "text/plain": "'%.3f'"
     },
     "execution_count": 3,
     "metadata": {},
     "output_type": "execute_result"
    }
   ],
   "source": [
    "import numpy as np\n",
    "import numpy.random as random\n",
    "import scipy as sp\n",
    "import pandas as pd\n",
    "from pandas import Series,DataFrame\n",
    "\n",
    "# 視覺化函式庫\n",
    "import matplotlib.pyplot as plt\n",
    "import matplotlib as mpl\n",
    "import seaborn as sns\n",
    "%matplotlib inline\n",
    "\n",
    "# 顯示到小數點後第3位\n",
    "%precision 3"
   ]
  },
  {
   "cell_type": "code",
   "execution_count": 4,
   "outputs": [
    {
     "data": {
      "text/plain": "    Osaka Tokyo Osaka\n     Blue   Red   Red\na 1     0     1     2\n  2     3     4     5\nb 2     6     7     8",
      "text/html": "<div>\n<style scoped>\n    .dataframe tbody tr th:only-of-type {\n        vertical-align: middle;\n    }\n\n    .dataframe tbody tr th {\n        vertical-align: top;\n    }\n\n    .dataframe thead tr th {\n        text-align: left;\n    }\n</style>\n<table border=\"1\" class=\"dataframe\">\n  <thead>\n    <tr>\n      <th></th>\n      <th></th>\n      <th>Osaka</th>\n      <th>Tokyo</th>\n      <th>Osaka</th>\n    </tr>\n    <tr>\n      <th></th>\n      <th></th>\n      <th>Blue</th>\n      <th>Red</th>\n      <th>Red</th>\n    </tr>\n  </thead>\n  <tbody>\n    <tr>\n      <th rowspan=\"2\" valign=\"top\">a</th>\n      <th>1</th>\n      <td>0</td>\n      <td>1</td>\n      <td>2</td>\n    </tr>\n    <tr>\n      <th>2</th>\n      <td>3</td>\n      <td>4</td>\n      <td>5</td>\n    </tr>\n    <tr>\n      <th>b</th>\n      <th>2</th>\n      <td>6</td>\n      <td>7</td>\n      <td>8</td>\n    </tr>\n  </tbody>\n</table>\n</div>"
     },
     "execution_count": 4,
     "metadata": {},
     "output_type": "execute_result"
    }
   ],
   "source": [
    "# 製作3行3列的資料，設定index與colums\n",
    "hier_df = DataFrame(\n",
    "    np.arange(9).reshape((3,3)),\n",
    "    index = [\n",
    "        ['a','a','b'], # 第一層索引\n",
    "        [1,2,2]        # 第二層索引\n",
    "    ],\n",
    "    columns = [\n",
    "        ['Osaka','Tokyo','Osaka'], # 第一層行\n",
    "        ['Blue','Red','Red']       # 第二層行\n",
    "    ]\n",
    ")\n",
    "hier_df"
   ],
   "metadata": {
    "collapsed": false,
    "pycharm": {
     "name": "#%%\n"
    }
   }
  },
  {
   "cell_type": "code",
   "execution_count": 5,
   "outputs": [
    {
     "data": {
      "text/plain": "city      Osaka Tokyo Osaka\ncolor      Blue   Red   Red\nkey1 key2                  \na    1        0     1     2\n     2        3     4     5\nb    2        6     7     8",
      "text/html": "<div>\n<style scoped>\n    .dataframe tbody tr th:only-of-type {\n        vertical-align: middle;\n    }\n\n    .dataframe tbody tr th {\n        vertical-align: top;\n    }\n\n    .dataframe thead tr th {\n        text-align: left;\n    }\n\n    .dataframe thead tr:last-of-type th {\n        text-align: right;\n    }\n</style>\n<table border=\"1\" class=\"dataframe\">\n  <thead>\n    <tr>\n      <th></th>\n      <th>city</th>\n      <th>Osaka</th>\n      <th>Tokyo</th>\n      <th>Osaka</th>\n    </tr>\n    <tr>\n      <th></th>\n      <th>color</th>\n      <th>Blue</th>\n      <th>Red</th>\n      <th>Red</th>\n    </tr>\n    <tr>\n      <th>key1</th>\n      <th>key2</th>\n      <th></th>\n      <th></th>\n      <th></th>\n    </tr>\n  </thead>\n  <tbody>\n    <tr>\n      <th rowspan=\"2\" valign=\"top\">a</th>\n      <th>1</th>\n      <td>0</td>\n      <td>1</td>\n      <td>2</td>\n    </tr>\n    <tr>\n      <th>2</th>\n      <td>3</td>\n      <td>4</td>\n      <td>5</td>\n    </tr>\n    <tr>\n      <th>b</th>\n      <th>2</th>\n      <td>6</td>\n      <td>7</td>\n      <td>8</td>\n    </tr>\n  </tbody>\n</table>\n</div>"
     },
     "execution_count": 5,
     "metadata": {},
     "output_type": "execute_result"
    }
   ],
   "source": [
    "# 對index附加名稱\n",
    "hier_df.index.names = ['key1','key2'] # key1為第一層索引的名稱,key2為第二層索引的名稱\n",
    "# 對columns附加名稱\n",
    "hier_df.columns.names = ['city','color'] # city為第一層行的名稱,color為第二層行的名稱\n",
    "hier_df"
   ],
   "metadata": {
    "collapsed": false,
    "pycharm": {
     "name": "#%%\n"
    }
   }
  },
  {
   "cell_type": "code",
   "execution_count": 6,
   "outputs": [
    {
     "data": {
      "text/plain": "color      Blue  Red\nkey1 key2           \na    1        0    2\n     2        3    5\nb    2        6    8",
      "text/html": "<div>\n<style scoped>\n    .dataframe tbody tr th:only-of-type {\n        vertical-align: middle;\n    }\n\n    .dataframe tbody tr th {\n        vertical-align: top;\n    }\n\n    .dataframe thead th {\n        text-align: right;\n    }\n</style>\n<table border=\"1\" class=\"dataframe\">\n  <thead>\n    <tr style=\"text-align: right;\">\n      <th></th>\n      <th>color</th>\n      <th>Blue</th>\n      <th>Red</th>\n    </tr>\n    <tr>\n      <th>key1</th>\n      <th>key2</th>\n      <th></th>\n      <th></th>\n    </tr>\n  </thead>\n  <tbody>\n    <tr>\n      <th rowspan=\"2\" valign=\"top\">a</th>\n      <th>1</th>\n      <td>0</td>\n      <td>2</td>\n    </tr>\n    <tr>\n      <th>2</th>\n      <td>3</td>\n      <td>5</td>\n    </tr>\n    <tr>\n      <th>b</th>\n      <th>2</th>\n      <td>6</td>\n      <td>8</td>\n    </tr>\n  </tbody>\n</table>\n</div>"
     },
     "execution_count": 6,
     "metadata": {},
     "output_type": "execute_result"
    }
   ],
   "source": [
    "# 看City為Osaka的資料\n",
    "hier_df['Osaka']"
   ],
   "metadata": {
    "collapsed": false,
    "pycharm": {
     "name": "#%%\n"
    }
   }
  },
  {
   "cell_type": "code",
   "execution_count": 7,
   "outputs": [
    {
     "name": "stderr",
     "output_type": "stream",
     "text": [
      "/var/folders/gr/wkmgmg2d0w7dft51ggc120900000gn/T/ipykernel_1143/325459981.py:2: FutureWarning: Using the level keyword in DataFrame and Series aggregations is deprecated and will be removed in a future version. Use groupby instead. df.sum(level=1) should use df.groupby(level=1).sum().\n",
      "  hier_df.sum(level = 'key2', axis = 0)\n"
     ]
    },
    {
     "data": {
      "text/plain": "city  Osaka Tokyo Osaka\ncolor  Blue   Red   Red\nkey2                   \n1         0     1     2\n2         9    11    13",
      "text/html": "<div>\n<style scoped>\n    .dataframe tbody tr th:only-of-type {\n        vertical-align: middle;\n    }\n\n    .dataframe tbody tr th {\n        vertical-align: top;\n    }\n\n    .dataframe thead tr th {\n        text-align: left;\n    }\n\n    .dataframe thead tr:last-of-type th {\n        text-align: right;\n    }\n</style>\n<table border=\"1\" class=\"dataframe\">\n  <thead>\n    <tr>\n      <th>city</th>\n      <th>Osaka</th>\n      <th>Tokyo</th>\n      <th>Osaka</th>\n    </tr>\n    <tr>\n      <th>color</th>\n      <th>Blue</th>\n      <th>Red</th>\n      <th>Red</th>\n    </tr>\n    <tr>\n      <th>key2</th>\n      <th></th>\n      <th></th>\n      <th></th>\n    </tr>\n  </thead>\n  <tbody>\n    <tr>\n      <th>1</th>\n      <td>0</td>\n      <td>1</td>\n      <td>2</td>\n    </tr>\n    <tr>\n      <th>2</th>\n      <td>9</td>\n      <td>11</td>\n      <td>13</td>\n    </tr>\n  </tbody>\n</table>\n</div>"
     },
     "execution_count": 7,
     "metadata": {},
     "output_type": "execute_result"
    }
   ],
   "source": [
    "# 每層的摘要統計量：列的總和\n",
    "# Key2中索引相同的相加\n",
    "hier_df.sum(level = 'key2', axis = 0)"
   ],
   "metadata": {
    "collapsed": false,
    "pycharm": {
     "name": "#%%\n"
    }
   }
  },
  {
   "cell_type": "code",
   "execution_count": 8,
   "outputs": [
    {
     "name": "stderr",
     "output_type": "stream",
     "text": [
      "/var/folders/gr/wkmgmg2d0w7dft51ggc120900000gn/T/ipykernel_1143/3305716765.py:2: FutureWarning: Using the level keyword in DataFrame and Series aggregations is deprecated and will be removed in a future version. Use groupby instead. df.sum(level=1) should use df.groupby(level=1).sum().\n",
      "  hier_df.sum(level = 'color', axis = 1)\n"
     ]
    },
    {
     "data": {
      "text/plain": "color      Blue  Red\nkey1 key2           \na    1        0    3\n     2        3    9\nb    2        6   15",
      "text/html": "<div>\n<style scoped>\n    .dataframe tbody tr th:only-of-type {\n        vertical-align: middle;\n    }\n\n    .dataframe tbody tr th {\n        vertical-align: top;\n    }\n\n    .dataframe thead th {\n        text-align: right;\n    }\n</style>\n<table border=\"1\" class=\"dataframe\">\n  <thead>\n    <tr style=\"text-align: right;\">\n      <th></th>\n      <th>color</th>\n      <th>Blue</th>\n      <th>Red</th>\n    </tr>\n    <tr>\n      <th>key1</th>\n      <th>key2</th>\n      <th></th>\n      <th></th>\n    </tr>\n  </thead>\n  <tbody>\n    <tr>\n      <th rowspan=\"2\" valign=\"top\">a</th>\n      <th>1</th>\n      <td>0</td>\n      <td>3</td>\n    </tr>\n    <tr>\n      <th>2</th>\n      <td>3</td>\n      <td>9</td>\n    </tr>\n    <tr>\n      <th>b</th>\n      <th>2</th>\n      <td>6</td>\n      <td>15</td>\n    </tr>\n  </tbody>\n</table>\n</div>"
     },
     "execution_count": 8,
     "metadata": {},
     "output_type": "execute_result"
    }
   ],
   "source": [
    "# 行的總和\n",
    "# color中行相同的相加\n",
    "hier_df.sum(level = 'color', axis = 1)"
   ],
   "metadata": {
    "collapsed": false,
    "pycharm": {
     "name": "#%%\n"
    }
   }
  },
  {
   "cell_type": "code",
   "execution_count": 9,
   "outputs": [
    {
     "data": {
      "text/plain": "city      Osaka Tokyo Osaka\ncolor      Blue   Red   Red\nkey1 key2                  \na    1        0     1     2\n     2        3     4     5",
      "text/html": "<div>\n<style scoped>\n    .dataframe tbody tr th:only-of-type {\n        vertical-align: middle;\n    }\n\n    .dataframe tbody tr th {\n        vertical-align: top;\n    }\n\n    .dataframe thead tr th {\n        text-align: left;\n    }\n\n    .dataframe thead tr:last-of-type th {\n        text-align: right;\n    }\n</style>\n<table border=\"1\" class=\"dataframe\">\n  <thead>\n    <tr>\n      <th></th>\n      <th>city</th>\n      <th>Osaka</th>\n      <th>Tokyo</th>\n      <th>Osaka</th>\n    </tr>\n    <tr>\n      <th></th>\n      <th>color</th>\n      <th>Blue</th>\n      <th>Red</th>\n      <th>Red</th>\n    </tr>\n    <tr>\n      <th>key1</th>\n      <th>key2</th>\n      <th></th>\n      <th></th>\n      <th></th>\n    </tr>\n  </thead>\n  <tbody>\n    <tr>\n      <th rowspan=\"2\" valign=\"top\">a</th>\n      <th>1</th>\n      <td>0</td>\n      <td>1</td>\n      <td>2</td>\n    </tr>\n    <tr>\n      <th>2</th>\n      <td>3</td>\n      <td>4</td>\n      <td>5</td>\n    </tr>\n  </tbody>\n</table>\n</div>"
     },
     "execution_count": 9,
     "metadata": {},
     "output_type": "execute_result"
    }
   ],
   "source": [
    "# 刪除索引為b的資料\n",
    "hier_df.drop(['b'])"
   ],
   "metadata": {
    "collapsed": false,
    "pycharm": {
     "name": "#%%\n"
    }
   }
  },
  {
   "cell_type": "markdown",
   "source": [
    "#### 練習問題6-1"
   ],
   "metadata": {
    "collapsed": false,
    "pycharm": {
     "name": "#%% md\n"
    }
   }
  },
  {
   "cell_type": "code",
   "execution_count": 15,
   "outputs": [
    {
     "data": {
      "text/plain": "city       Kyoto Nagoya Hokkaido Kyoto\ncolor     Yellow Yellow      Red  Blue\nkey1 key2                             \nc    1         0      1        2     3\nd    2         4      5        6     7\n     1         8      9       10    11",
      "text/html": "<div>\n<style scoped>\n    .dataframe tbody tr th:only-of-type {\n        vertical-align: middle;\n    }\n\n    .dataframe tbody tr th {\n        vertical-align: top;\n    }\n\n    .dataframe thead tr th {\n        text-align: left;\n    }\n\n    .dataframe thead tr:last-of-type th {\n        text-align: right;\n    }\n</style>\n<table border=\"1\" class=\"dataframe\">\n  <thead>\n    <tr>\n      <th></th>\n      <th>city</th>\n      <th>Kyoto</th>\n      <th>Nagoya</th>\n      <th>Hokkaido</th>\n      <th>Kyoto</th>\n    </tr>\n    <tr>\n      <th></th>\n      <th>color</th>\n      <th>Yellow</th>\n      <th>Yellow</th>\n      <th>Red</th>\n      <th>Blue</th>\n    </tr>\n    <tr>\n      <th>key1</th>\n      <th>key2</th>\n      <th></th>\n      <th></th>\n      <th></th>\n      <th></th>\n    </tr>\n  </thead>\n  <tbody>\n    <tr>\n      <th>c</th>\n      <th>1</th>\n      <td>0</td>\n      <td>1</td>\n      <td>2</td>\n      <td>3</td>\n    </tr>\n    <tr>\n      <th rowspan=\"2\" valign=\"top\">d</th>\n      <th>2</th>\n      <td>4</td>\n      <td>5</td>\n      <td>6</td>\n      <td>7</td>\n    </tr>\n    <tr>\n      <th>1</th>\n      <td>8</td>\n      <td>9</td>\n      <td>10</td>\n      <td>11</td>\n    </tr>\n  </tbody>\n</table>\n</div>"
     },
     "execution_count": 15,
     "metadata": {},
     "output_type": "execute_result"
    }
   ],
   "source": [
    "# 製作3行4列的資料，設定index與colums\n",
    "hier_df1 = DataFrame(\n",
    "    np.arange(12).reshape((3,4)),\n",
    "    index = [\n",
    "        ['c','d','d'], # 第一層索引\n",
    "        [1,2,1]        # 第二層索引\n",
    "    ],\n",
    "    columns = [\n",
    "        ['Kyoto','Nagoya','Hokkaido','Kyoto'], # 第一層行\n",
    "        ['Yellow','Yellow','Red','Blue']       # 第二層行\n",
    "    ]\n",
    ")\n",
    "hier_df1.index.names = ['key1','key2']\n",
    "hier_df1.columns.names = ['city','color']\n",
    "hier_df1"
   ],
   "metadata": {
    "collapsed": false,
    "pycharm": {
     "name": "#%%\n"
    }
   }
  },
  {
   "cell_type": "code",
   "execution_count": 14,
   "outputs": [
    {
     "data": {
      "text/plain": "color      Yellow  Blue\nkey1 key2              \nc    1          0     3\nd    2          4     7\n     1          8    11",
      "text/html": "<div>\n<style scoped>\n    .dataframe tbody tr th:only-of-type {\n        vertical-align: middle;\n    }\n\n    .dataframe tbody tr th {\n        vertical-align: top;\n    }\n\n    .dataframe thead th {\n        text-align: right;\n    }\n</style>\n<table border=\"1\" class=\"dataframe\">\n  <thead>\n    <tr style=\"text-align: right;\">\n      <th></th>\n      <th>color</th>\n      <th>Yellow</th>\n      <th>Blue</th>\n    </tr>\n    <tr>\n      <th>key1</th>\n      <th>key2</th>\n      <th></th>\n      <th></th>\n    </tr>\n  </thead>\n  <tbody>\n    <tr>\n      <th>c</th>\n      <th>1</th>\n      <td>0</td>\n      <td>3</td>\n    </tr>\n    <tr>\n      <th rowspan=\"2\" valign=\"top\">d</th>\n      <th>2</th>\n      <td>4</td>\n      <td>7</td>\n    </tr>\n    <tr>\n      <th>1</th>\n      <td>8</td>\n      <td>11</td>\n    </tr>\n  </tbody>\n</table>\n</div>"
     },
     "execution_count": 14,
     "metadata": {},
     "output_type": "execute_result"
    }
   ],
   "source": [
    "hier_df1['Kyoto']"
   ],
   "metadata": {
    "collapsed": false,
    "pycharm": {
     "name": "#%%\n"
    }
   }
  },
  {
   "cell_type": "markdown",
   "source": [],
   "metadata": {
    "collapsed": false,
    "pycharm": {
     "name": "#%% md\n"
    }
   }
  },
  {
   "cell_type": "markdown",
   "source": [
    "#### 練習問題6-2"
   ],
   "metadata": {
    "collapsed": false,
    "pycharm": {
     "name": "#%% md\n"
    }
   }
  },
  {
   "cell_type": "code",
   "execution_count": 19,
   "outputs": [
    {
     "name": "stderr",
     "output_type": "stream",
     "text": [
      "/var/folders/gr/wkmgmg2d0w7dft51ggc120900000gn/T/ipykernel_1143/2320938975.py:1: FutureWarning: Using the level keyword in DataFrame and Series aggregations is deprecated and will be removed in a future version. Use groupby instead. df.median(level=1) should use df.groupby(level=1).median().\n",
      "  hier_df1.mean(level = 'city', axis = 1)\n"
     ]
    },
    {
     "data": {
      "text/plain": "city       Kyoto  Nagoya  Hokkaido\nkey1 key2                         \nc    1       1.5     1.0       2.0\nd    2       5.5     5.0       6.0\n     1       9.5     9.0      10.0",
      "text/html": "<div>\n<style scoped>\n    .dataframe tbody tr th:only-of-type {\n        vertical-align: middle;\n    }\n\n    .dataframe tbody tr th {\n        vertical-align: top;\n    }\n\n    .dataframe thead th {\n        text-align: right;\n    }\n</style>\n<table border=\"1\" class=\"dataframe\">\n  <thead>\n    <tr style=\"text-align: right;\">\n      <th></th>\n      <th>city</th>\n      <th>Kyoto</th>\n      <th>Nagoya</th>\n      <th>Hokkaido</th>\n    </tr>\n    <tr>\n      <th>key1</th>\n      <th>key2</th>\n      <th></th>\n      <th></th>\n      <th></th>\n    </tr>\n  </thead>\n  <tbody>\n    <tr>\n      <th>c</th>\n      <th>1</th>\n      <td>1.5</td>\n      <td>1.0</td>\n      <td>2.0</td>\n    </tr>\n    <tr>\n      <th rowspan=\"2\" valign=\"top\">d</th>\n      <th>2</th>\n      <td>5.5</td>\n      <td>5.0</td>\n      <td>6.0</td>\n    </tr>\n    <tr>\n      <th>1</th>\n      <td>9.5</td>\n      <td>9.0</td>\n      <td>10.0</td>\n    </tr>\n  </tbody>\n</table>\n</div>"
     },
     "execution_count": 19,
     "metadata": {},
     "output_type": "execute_result"
    }
   ],
   "source": [
    "hier_df1.mean(level = 'city', axis = 1)"
   ],
   "metadata": {
    "collapsed": false,
    "pycharm": {
     "name": "#%%\n"
    }
   }
  },
  {
   "cell_type": "code",
   "execution_count": 18,
   "outputs": [
    {
     "name": "stderr",
     "output_type": "stream",
     "text": [
      "/var/folders/gr/wkmgmg2d0w7dft51ggc120900000gn/T/ipykernel_1143/736322672.py:1: FutureWarning: Using the level keyword in DataFrame and Series aggregations is deprecated and will be removed in a future version. Use groupby instead. df.sum(level=1) should use df.groupby(level=1).sum().\n",
      "  hier_df1.sum(level = 'key2', axis = 0)\n"
     ]
    },
    {
     "data": {
      "text/plain": "city   Kyoto Nagoya Hokkaido Kyoto\ncolor Yellow Yellow      Red  Blue\nkey2                              \n1          8     10       12    14\n2          4      5        6     7",
      "text/html": "<div>\n<style scoped>\n    .dataframe tbody tr th:only-of-type {\n        vertical-align: middle;\n    }\n\n    .dataframe tbody tr th {\n        vertical-align: top;\n    }\n\n    .dataframe thead tr th {\n        text-align: left;\n    }\n\n    .dataframe thead tr:last-of-type th {\n        text-align: right;\n    }\n</style>\n<table border=\"1\" class=\"dataframe\">\n  <thead>\n    <tr>\n      <th>city</th>\n      <th>Kyoto</th>\n      <th>Nagoya</th>\n      <th>Hokkaido</th>\n      <th>Kyoto</th>\n    </tr>\n    <tr>\n      <th>color</th>\n      <th>Yellow</th>\n      <th>Yellow</th>\n      <th>Red</th>\n      <th>Blue</th>\n    </tr>\n    <tr>\n      <th>key2</th>\n      <th></th>\n      <th></th>\n      <th></th>\n      <th></th>\n    </tr>\n  </thead>\n  <tbody>\n    <tr>\n      <th>1</th>\n      <td>8</td>\n      <td>10</td>\n      <td>12</td>\n      <td>14</td>\n    </tr>\n    <tr>\n      <th>2</th>\n      <td>4</td>\n      <td>5</td>\n      <td>6</td>\n      <td>7</td>\n    </tr>\n  </tbody>\n</table>\n</div>"
     },
     "execution_count": 18,
     "metadata": {},
     "output_type": "execute_result"
    }
   ],
   "source": [
    "hier_df1.sum(level = 'key2', axis = 0)"
   ],
   "metadata": {
    "collapsed": false,
    "pycharm": {
     "name": "#%%\n"
    }
   }
  },
  {
   "cell_type": "markdown",
   "source": [
    "### 6-2-2資料的結合"
   ],
   "metadata": {
    "collapsed": false,
    "pycharm": {
     "name": "#%% md\n"
    }
   }
  },
  {
   "cell_type": "code",
   "execution_count": 4,
   "outputs": [
    {
     "data": {
      "text/plain": "    Id      City  Birth_year     Name\n0  100     Tokyo        1990  Hiroshi\n1  101     Osaka        1989    Akiko\n2  102     Kyoto        1992     Yuki\n3  103  Hollaido        1997   Satoru\n4  104     Tokyo        1982  Stteeve\n5  106     Tokyo        1991   Mituru\n6  108     Osaka        1988      Aoi\n7  110     Kyoto        1990    Tarou\n8  111  Hollaido        1995   Suguru\n9  113     Tokyo        1981   Mitsuo",
      "text/html": "<div>\n<style scoped>\n    .dataframe tbody tr th:only-of-type {\n        vertical-align: middle;\n    }\n\n    .dataframe tbody tr th {\n        vertical-align: top;\n    }\n\n    .dataframe thead th {\n        text-align: right;\n    }\n</style>\n<table border=\"1\" class=\"dataframe\">\n  <thead>\n    <tr style=\"text-align: right;\">\n      <th></th>\n      <th>Id</th>\n      <th>City</th>\n      <th>Birth_year</th>\n      <th>Name</th>\n    </tr>\n  </thead>\n  <tbody>\n    <tr>\n      <th>0</th>\n      <td>100</td>\n      <td>Tokyo</td>\n      <td>1990</td>\n      <td>Hiroshi</td>\n    </tr>\n    <tr>\n      <th>1</th>\n      <td>101</td>\n      <td>Osaka</td>\n      <td>1989</td>\n      <td>Akiko</td>\n    </tr>\n    <tr>\n      <th>2</th>\n      <td>102</td>\n      <td>Kyoto</td>\n      <td>1992</td>\n      <td>Yuki</td>\n    </tr>\n    <tr>\n      <th>3</th>\n      <td>103</td>\n      <td>Hollaido</td>\n      <td>1997</td>\n      <td>Satoru</td>\n    </tr>\n    <tr>\n      <th>4</th>\n      <td>104</td>\n      <td>Tokyo</td>\n      <td>1982</td>\n      <td>Stteeve</td>\n    </tr>\n    <tr>\n      <th>5</th>\n      <td>106</td>\n      <td>Tokyo</td>\n      <td>1991</td>\n      <td>Mituru</td>\n    </tr>\n    <tr>\n      <th>6</th>\n      <td>108</td>\n      <td>Osaka</td>\n      <td>1988</td>\n      <td>Aoi</td>\n    </tr>\n    <tr>\n      <th>7</th>\n      <td>110</td>\n      <td>Kyoto</td>\n      <td>1990</td>\n      <td>Tarou</td>\n    </tr>\n    <tr>\n      <th>8</th>\n      <td>111</td>\n      <td>Hollaido</td>\n      <td>1995</td>\n      <td>Suguru</td>\n    </tr>\n    <tr>\n      <th>9</th>\n      <td>113</td>\n      <td>Tokyo</td>\n      <td>1981</td>\n      <td>Mitsuo</td>\n    </tr>\n  </tbody>\n</table>\n</div>"
     },
     "execution_count": 4,
     "metadata": {},
     "output_type": "execute_result"
    }
   ],
   "source": [
    "data1 = {\n",
    "    'Id':['100','101','102','103','104','106','108','110','111','113'],\n",
    "    'City':['Tokyo','Osaka','Kyoto','Hollaido','Tokyo','Tokyo','Osaka','Kyoto','Hollaido','Tokyo'],\n",
    "    'Birth_year':[1990,1989,1992,1997,1982,1991,1988,1990,1995,1981],\n",
    "    'Name':['Hiroshi','Akiko','Yuki','Satoru','Stteeve','Mituru','Aoi','Tarou','Suguru','Mitsuo']\n",
    "}\n",
    "df1 = DataFrame(data1)\n",
    "df1"
   ],
   "metadata": {
    "collapsed": false,
    "pycharm": {
     "name": "#%%\n"
    }
   }
  },
  {
   "cell_type": "code",
   "execution_count": 24,
   "outputs": [
    {
     "data": {
      "text/plain": "    Id  Math  English Sex  index_num\n0  100    50       90   M          0\n1  101    43       30   F          1\n2  102    33       20   F          2\n3  105    76       50   M          3\n4  107    98       30   M          4",
      "text/html": "<div>\n<style scoped>\n    .dataframe tbody tr th:only-of-type {\n        vertical-align: middle;\n    }\n\n    .dataframe tbody tr th {\n        vertical-align: top;\n    }\n\n    .dataframe thead th {\n        text-align: right;\n    }\n</style>\n<table border=\"1\" class=\"dataframe\">\n  <thead>\n    <tr style=\"text-align: right;\">\n      <th></th>\n      <th>Id</th>\n      <th>Math</th>\n      <th>English</th>\n      <th>Sex</th>\n      <th>index_num</th>\n    </tr>\n  </thead>\n  <tbody>\n    <tr>\n      <th>0</th>\n      <td>100</td>\n      <td>50</td>\n      <td>90</td>\n      <td>M</td>\n      <td>0</td>\n    </tr>\n    <tr>\n      <th>1</th>\n      <td>101</td>\n      <td>43</td>\n      <td>30</td>\n      <td>F</td>\n      <td>1</td>\n    </tr>\n    <tr>\n      <th>2</th>\n      <td>102</td>\n      <td>33</td>\n      <td>20</td>\n      <td>F</td>\n      <td>2</td>\n    </tr>\n    <tr>\n      <th>3</th>\n      <td>105</td>\n      <td>76</td>\n      <td>50</td>\n      <td>M</td>\n      <td>3</td>\n    </tr>\n    <tr>\n      <th>4</th>\n      <td>107</td>\n      <td>98</td>\n      <td>30</td>\n      <td>M</td>\n      <td>4</td>\n    </tr>\n  </tbody>\n</table>\n</div>"
     },
     "execution_count": 24,
     "metadata": {},
     "output_type": "execute_result"
    }
   ],
   "source": [
    "data2 = {\n",
    "    'Id':['100','101','102','105','107'],\n",
    "    'Math':[50,43,33,76,98],\n",
    "    'English':[90,30,20,50,30],\n",
    "    'Sex':['M','F','F','M','M'],\n",
    "    'index_num':[0,1,2,3,4]\n",
    "}\n",
    "df2 = DataFrame(data2)\n",
    "df2"
   ],
   "metadata": {
    "collapsed": false,
    "pycharm": {
     "name": "#%%\n"
    }
   }
  },
  {
   "cell_type": "code",
   "execution_count": 25,
   "outputs": [
    {
     "name": "stdout",
     "output_type": "stream",
     "text": [
      "結合Table\n"
     ]
    },
    {
     "data": {
      "text/plain": "    Id   City  Birth_year     Name  Math  English Sex  index_num\n0  100  Tokyo        1990  Hiroshi    50       90   M          0\n1  101  Osaka        1989    Akiko    43       30   F          1\n2  102  Kyoto        1992     Yuki    33       20   F          2",
      "text/html": "<div>\n<style scoped>\n    .dataframe tbody tr th:only-of-type {\n        vertical-align: middle;\n    }\n\n    .dataframe tbody tr th {\n        vertical-align: top;\n    }\n\n    .dataframe thead th {\n        text-align: right;\n    }\n</style>\n<table border=\"1\" class=\"dataframe\">\n  <thead>\n    <tr style=\"text-align: right;\">\n      <th></th>\n      <th>Id</th>\n      <th>City</th>\n      <th>Birth_year</th>\n      <th>Name</th>\n      <th>Math</th>\n      <th>English</th>\n      <th>Sex</th>\n      <th>index_num</th>\n    </tr>\n  </thead>\n  <tbody>\n    <tr>\n      <th>0</th>\n      <td>100</td>\n      <td>Tokyo</td>\n      <td>1990</td>\n      <td>Hiroshi</td>\n      <td>50</td>\n      <td>90</td>\n      <td>M</td>\n      <td>0</td>\n    </tr>\n    <tr>\n      <th>1</th>\n      <td>101</td>\n      <td>Osaka</td>\n      <td>1989</td>\n      <td>Akiko</td>\n      <td>43</td>\n      <td>30</td>\n      <td>F</td>\n      <td>1</td>\n    </tr>\n    <tr>\n      <th>2</th>\n      <td>102</td>\n      <td>Kyoto</td>\n      <td>1992</td>\n      <td>Yuki</td>\n      <td>33</td>\n      <td>20</td>\n      <td>F</td>\n      <td>2</td>\n    </tr>\n  </tbody>\n</table>\n</div>"
     },
     "execution_count": 25,
     "metadata": {},
     "output_type": "execute_result"
    }
   ],
   "source": [
    "# 資料的合併（內部結合。雖然鍵可自動被識別，以on來明確指定也可以）\n",
    "print('結合Table')\n",
    "pd.merge(df1,df2,on = 'Id') # 只有當Id之值在兩邊的DataFrame物件裡都存在的記錄會被顯示"
   ],
   "metadata": {
    "collapsed": false,
    "pycharm": {
     "name": "#%%\n"
    }
   }
  },
  {
   "cell_type": "code",
   "execution_count": 26,
   "outputs": [
    {
     "data": {
      "text/plain": "     Id      City  Birth_year     Name  Math  English  Sex  index_num\n0   100     Tokyo      1990.0  Hiroshi  50.0     90.0    M        0.0\n1   101     Osaka      1989.0    Akiko  43.0     30.0    F        1.0\n2   102     Kyoto      1992.0     Yuki  33.0     20.0    F        2.0\n3   103  Hollaido      1997.0   Satoru   NaN      NaN  NaN        NaN\n4   104     Tokyo      1982.0  Stteeve   NaN      NaN  NaN        NaN\n5   106     Tokyo      1991.0   Mituru   NaN      NaN  NaN        NaN\n6   108     Osaka      1988.0      Aoi   NaN      NaN  NaN        NaN\n7   110     Kyoto      1990.0    Tarou   NaN      NaN  NaN        NaN\n8   111  Hollaido      1995.0   Suguru   NaN      NaN  NaN        NaN\n9   113     Tokyo      1981.0   Mitsuo   NaN      NaN  NaN        NaN\n10  105       NaN         NaN      NaN  76.0     50.0    M        3.0\n11  107       NaN         NaN      NaN  98.0     30.0    M        4.0",
      "text/html": "<div>\n<style scoped>\n    .dataframe tbody tr th:only-of-type {\n        vertical-align: middle;\n    }\n\n    .dataframe tbody tr th {\n        vertical-align: top;\n    }\n\n    .dataframe thead th {\n        text-align: right;\n    }\n</style>\n<table border=\"1\" class=\"dataframe\">\n  <thead>\n    <tr style=\"text-align: right;\">\n      <th></th>\n      <th>Id</th>\n      <th>City</th>\n      <th>Birth_year</th>\n      <th>Name</th>\n      <th>Math</th>\n      <th>English</th>\n      <th>Sex</th>\n      <th>index_num</th>\n    </tr>\n  </thead>\n  <tbody>\n    <tr>\n      <th>0</th>\n      <td>100</td>\n      <td>Tokyo</td>\n      <td>1990.0</td>\n      <td>Hiroshi</td>\n      <td>50.0</td>\n      <td>90.0</td>\n      <td>M</td>\n      <td>0.0</td>\n    </tr>\n    <tr>\n      <th>1</th>\n      <td>101</td>\n      <td>Osaka</td>\n      <td>1989.0</td>\n      <td>Akiko</td>\n      <td>43.0</td>\n      <td>30.0</td>\n      <td>F</td>\n      <td>1.0</td>\n    </tr>\n    <tr>\n      <th>2</th>\n      <td>102</td>\n      <td>Kyoto</td>\n      <td>1992.0</td>\n      <td>Yuki</td>\n      <td>33.0</td>\n      <td>20.0</td>\n      <td>F</td>\n      <td>2.0</td>\n    </tr>\n    <tr>\n      <th>3</th>\n      <td>103</td>\n      <td>Hollaido</td>\n      <td>1997.0</td>\n      <td>Satoru</td>\n      <td>NaN</td>\n      <td>NaN</td>\n      <td>NaN</td>\n      <td>NaN</td>\n    </tr>\n    <tr>\n      <th>4</th>\n      <td>104</td>\n      <td>Tokyo</td>\n      <td>1982.0</td>\n      <td>Stteeve</td>\n      <td>NaN</td>\n      <td>NaN</td>\n      <td>NaN</td>\n      <td>NaN</td>\n    </tr>\n    <tr>\n      <th>5</th>\n      <td>106</td>\n      <td>Tokyo</td>\n      <td>1991.0</td>\n      <td>Mituru</td>\n      <td>NaN</td>\n      <td>NaN</td>\n      <td>NaN</td>\n      <td>NaN</td>\n    </tr>\n    <tr>\n      <th>6</th>\n      <td>108</td>\n      <td>Osaka</td>\n      <td>1988.0</td>\n      <td>Aoi</td>\n      <td>NaN</td>\n      <td>NaN</td>\n      <td>NaN</td>\n      <td>NaN</td>\n    </tr>\n    <tr>\n      <th>7</th>\n      <td>110</td>\n      <td>Kyoto</td>\n      <td>1990.0</td>\n      <td>Tarou</td>\n      <td>NaN</td>\n      <td>NaN</td>\n      <td>NaN</td>\n      <td>NaN</td>\n    </tr>\n    <tr>\n      <th>8</th>\n      <td>111</td>\n      <td>Hollaido</td>\n      <td>1995.0</td>\n      <td>Suguru</td>\n      <td>NaN</td>\n      <td>NaN</td>\n      <td>NaN</td>\n      <td>NaN</td>\n    </tr>\n    <tr>\n      <th>9</th>\n      <td>113</td>\n      <td>Tokyo</td>\n      <td>1981.0</td>\n      <td>Mitsuo</td>\n      <td>NaN</td>\n      <td>NaN</td>\n      <td>NaN</td>\n      <td>NaN</td>\n    </tr>\n    <tr>\n      <th>10</th>\n      <td>105</td>\n      <td>NaN</td>\n      <td>NaN</td>\n      <td>NaN</td>\n      <td>76.0</td>\n      <td>50.0</td>\n      <td>M</td>\n      <td>3.0</td>\n    </tr>\n    <tr>\n      <th>11</th>\n      <td>107</td>\n      <td>NaN</td>\n      <td>NaN</td>\n      <td>NaN</td>\n      <td>98.0</td>\n      <td>30.0</td>\n      <td>M</td>\n      <td>4.0</td>\n    </tr>\n  </tbody>\n</table>\n</div>"
     },
     "execution_count": 26,
     "metadata": {},
     "output_type": "execute_result"
    }
   ],
   "source": [
    "# 資料的結合（全結合）\n",
    "pd.merge(df1,df2,how = 'outer')"
   ],
   "metadata": {
    "collapsed": false,
    "pycharm": {
     "name": "#%%\n"
    }
   }
  },
  {
   "cell_type": "code",
   "execution_count": 27,
   "outputs": [
    {
     "data": {
      "text/plain": "  Id_x      City  Birth_year     Name Id_y  Math  English Sex  index_num\n0  100     Tokyo        1990  Hiroshi  100    50       90   M          0\n1  101     Osaka        1989    Akiko  101    43       30   F          1\n2  102     Kyoto        1992     Yuki  102    33       20   F          2\n3  103  Hollaido        1997   Satoru  105    76       50   M          3\n4  104     Tokyo        1982  Stteeve  107    98       30   M          4",
      "text/html": "<div>\n<style scoped>\n    .dataframe tbody tr th:only-of-type {\n        vertical-align: middle;\n    }\n\n    .dataframe tbody tr th {\n        vertical-align: top;\n    }\n\n    .dataframe thead th {\n        text-align: right;\n    }\n</style>\n<table border=\"1\" class=\"dataframe\">\n  <thead>\n    <tr style=\"text-align: right;\">\n      <th></th>\n      <th>Id_x</th>\n      <th>City</th>\n      <th>Birth_year</th>\n      <th>Name</th>\n      <th>Id_y</th>\n      <th>Math</th>\n      <th>English</th>\n      <th>Sex</th>\n      <th>index_num</th>\n    </tr>\n  </thead>\n  <tbody>\n    <tr>\n      <th>0</th>\n      <td>100</td>\n      <td>Tokyo</td>\n      <td>1990</td>\n      <td>Hiroshi</td>\n      <td>100</td>\n      <td>50</td>\n      <td>90</td>\n      <td>M</td>\n      <td>0</td>\n    </tr>\n    <tr>\n      <th>1</th>\n      <td>101</td>\n      <td>Osaka</td>\n      <td>1989</td>\n      <td>Akiko</td>\n      <td>101</td>\n      <td>43</td>\n      <td>30</td>\n      <td>F</td>\n      <td>1</td>\n    </tr>\n    <tr>\n      <th>2</th>\n      <td>102</td>\n      <td>Kyoto</td>\n      <td>1992</td>\n      <td>Yuki</td>\n      <td>102</td>\n      <td>33</td>\n      <td>20</td>\n      <td>F</td>\n      <td>2</td>\n    </tr>\n    <tr>\n      <th>3</th>\n      <td>103</td>\n      <td>Hollaido</td>\n      <td>1997</td>\n      <td>Satoru</td>\n      <td>105</td>\n      <td>76</td>\n      <td>50</td>\n      <td>M</td>\n      <td>3</td>\n    </tr>\n    <tr>\n      <th>4</th>\n      <td>104</td>\n      <td>Tokyo</td>\n      <td>1982</td>\n      <td>Stteeve</td>\n      <td>107</td>\n      <td>98</td>\n      <td>30</td>\n      <td>M</td>\n      <td>4</td>\n    </tr>\n  </tbody>\n</table>\n</div>"
     },
     "execution_count": 27,
     "metadata": {},
     "output_type": "execute_result"
    }
   ],
   "source": [
    "# 使用index來合併\n",
    "pd.merge(df1,df2,left_index=True,right_on='index_num') # 將左側的資料之索引，以及右側資料之index_num行作為鍵來指定"
   ],
   "metadata": {
    "collapsed": false,
    "pycharm": {
     "name": "#%%\n"
    }
   }
  },
  {
   "cell_type": "code",
   "execution_count": 28,
   "outputs": [
    {
     "data": {
      "text/plain": "    Id      City  Birth_year     Name  Math  English  Sex  index_num\n0  100     Tokyo        1990  Hiroshi  50.0     90.0    M        0.0\n1  101     Osaka        1989    Akiko  43.0     30.0    F        1.0\n2  102     Kyoto        1992     Yuki  33.0     20.0    F        2.0\n3  103  Hollaido        1997   Satoru   NaN      NaN  NaN        NaN\n4  104     Tokyo        1982  Stteeve   NaN      NaN  NaN        NaN\n5  106     Tokyo        1991   Mituru   NaN      NaN  NaN        NaN\n6  108     Osaka        1988      Aoi   NaN      NaN  NaN        NaN\n7  110     Kyoto        1990    Tarou   NaN      NaN  NaN        NaN\n8  111  Hollaido        1995   Suguru   NaN      NaN  NaN        NaN\n9  113     Tokyo        1981   Mitsuo   NaN      NaN  NaN        NaN",
      "text/html": "<div>\n<style scoped>\n    .dataframe tbody tr th:only-of-type {\n        vertical-align: middle;\n    }\n\n    .dataframe tbody tr th {\n        vertical-align: top;\n    }\n\n    .dataframe thead th {\n        text-align: right;\n    }\n</style>\n<table border=\"1\" class=\"dataframe\">\n  <thead>\n    <tr style=\"text-align: right;\">\n      <th></th>\n      <th>Id</th>\n      <th>City</th>\n      <th>Birth_year</th>\n      <th>Name</th>\n      <th>Math</th>\n      <th>English</th>\n      <th>Sex</th>\n      <th>index_num</th>\n    </tr>\n  </thead>\n  <tbody>\n    <tr>\n      <th>0</th>\n      <td>100</td>\n      <td>Tokyo</td>\n      <td>1990</td>\n      <td>Hiroshi</td>\n      <td>50.0</td>\n      <td>90.0</td>\n      <td>M</td>\n      <td>0.0</td>\n    </tr>\n    <tr>\n      <th>1</th>\n      <td>101</td>\n      <td>Osaka</td>\n      <td>1989</td>\n      <td>Akiko</td>\n      <td>43.0</td>\n      <td>30.0</td>\n      <td>F</td>\n      <td>1.0</td>\n    </tr>\n    <tr>\n      <th>2</th>\n      <td>102</td>\n      <td>Kyoto</td>\n      <td>1992</td>\n      <td>Yuki</td>\n      <td>33.0</td>\n      <td>20.0</td>\n      <td>F</td>\n      <td>2.0</td>\n    </tr>\n    <tr>\n      <th>3</th>\n      <td>103</td>\n      <td>Hollaido</td>\n      <td>1997</td>\n      <td>Satoru</td>\n      <td>NaN</td>\n      <td>NaN</td>\n      <td>NaN</td>\n      <td>NaN</td>\n    </tr>\n    <tr>\n      <th>4</th>\n      <td>104</td>\n      <td>Tokyo</td>\n      <td>1982</td>\n      <td>Stteeve</td>\n      <td>NaN</td>\n      <td>NaN</td>\n      <td>NaN</td>\n      <td>NaN</td>\n    </tr>\n    <tr>\n      <th>5</th>\n      <td>106</td>\n      <td>Tokyo</td>\n      <td>1991</td>\n      <td>Mituru</td>\n      <td>NaN</td>\n      <td>NaN</td>\n      <td>NaN</td>\n      <td>NaN</td>\n    </tr>\n    <tr>\n      <th>6</th>\n      <td>108</td>\n      <td>Osaka</td>\n      <td>1988</td>\n      <td>Aoi</td>\n      <td>NaN</td>\n      <td>NaN</td>\n      <td>NaN</td>\n      <td>NaN</td>\n    </tr>\n    <tr>\n      <th>7</th>\n      <td>110</td>\n      <td>Kyoto</td>\n      <td>1990</td>\n      <td>Tarou</td>\n      <td>NaN</td>\n      <td>NaN</td>\n      <td>NaN</td>\n      <td>NaN</td>\n    </tr>\n    <tr>\n      <th>8</th>\n      <td>111</td>\n      <td>Hollaido</td>\n      <td>1995</td>\n      <td>Suguru</td>\n      <td>NaN</td>\n      <td>NaN</td>\n      <td>NaN</td>\n      <td>NaN</td>\n    </tr>\n    <tr>\n      <th>9</th>\n      <td>113</td>\n      <td>Tokyo</td>\n      <td>1981</td>\n      <td>Mitsuo</td>\n      <td>NaN</td>\n      <td>NaN</td>\n      <td>NaN</td>\n      <td>NaN</td>\n    </tr>\n  </tbody>\n</table>\n</div>"
     },
     "execution_count": 28,
     "metadata": {},
     "output_type": "execute_result"
    }
   ],
   "source": [
    "# 資料的結合（左外部結合）\n",
    "pd.merge(df1,df2,how = 'left') # 當df2沒有對應到df1的資料時為NaN"
   ],
   "metadata": {
    "collapsed": false,
    "pycharm": {
     "name": "#%%\n"
    }
   }
  },
  {
   "cell_type": "code",
   "execution_count": 29,
   "outputs": [
    {
     "data": {
      "text/plain": "    Id      City  Birth_year     Name\n0  117     Chiba        1990   Suguru\n1  118  Kanagawa        1989  Kouichi\n2  119     Tokyo        1992  Satochi\n3  120   Fukuoka        1997    Yukie\n4  125   Okinawa        1982    Akari",
      "text/html": "<div>\n<style scoped>\n    .dataframe tbody tr th:only-of-type {\n        vertical-align: middle;\n    }\n\n    .dataframe tbody tr th {\n        vertical-align: top;\n    }\n\n    .dataframe thead th {\n        text-align: right;\n    }\n</style>\n<table border=\"1\" class=\"dataframe\">\n  <thead>\n    <tr style=\"text-align: right;\">\n      <th></th>\n      <th>Id</th>\n      <th>City</th>\n      <th>Birth_year</th>\n      <th>Name</th>\n    </tr>\n  </thead>\n  <tbody>\n    <tr>\n      <th>0</th>\n      <td>117</td>\n      <td>Chiba</td>\n      <td>1990</td>\n      <td>Suguru</td>\n    </tr>\n    <tr>\n      <th>1</th>\n      <td>118</td>\n      <td>Kanagawa</td>\n      <td>1989</td>\n      <td>Kouichi</td>\n    </tr>\n    <tr>\n      <th>2</th>\n      <td>119</td>\n      <td>Tokyo</td>\n      <td>1992</td>\n      <td>Satochi</td>\n    </tr>\n    <tr>\n      <th>3</th>\n      <td>120</td>\n      <td>Fukuoka</td>\n      <td>1997</td>\n      <td>Yukie</td>\n    </tr>\n    <tr>\n      <th>4</th>\n      <td>125</td>\n      <td>Okinawa</td>\n      <td>1982</td>\n      <td>Akari</td>\n    </tr>\n  </tbody>\n</table>\n</div>"
     },
     "execution_count": 29,
     "metadata": {},
     "output_type": "execute_result"
    }
   ],
   "source": [
    "data3 = {\n",
    "    'Id':['117','118','119','120','125'],\n",
    "    'City':['Chiba','Kanagawa','Tokyo','Fukuoka','Okinawa'],\n",
    "    'Birth_year':[1990,1989,1992,1997,1982],\n",
    "    'Name':['Suguru','Kouichi','Satochi','Yukie','Akari']\n",
    "}\n",
    "df3 = DataFrame(data3)\n",
    "df3"
   ],
   "metadata": {
    "collapsed": false,
    "pycharm": {
     "name": "#%%\n"
    }
   }
  },
  {
   "cell_type": "code",
   "execution_count": 30,
   "outputs": [
    {
     "data": {
      "text/plain": "    Id      City  Birth_year     Name\n0  100     Tokyo        1990  Hiroshi\n1  101     Osaka        1989    Akiko\n2  102     Kyoto        1992     Yuki\n3  103  Hollaido        1997   Satoru\n4  104     Tokyo        1982  Stteeve\n5  106     Tokyo        1991   Mituru\n6  108     Osaka        1988      Aoi\n7  110     Kyoto        1990    Tarou\n8  111  Hollaido        1995   Suguru\n9  113     Tokyo        1981   Mitsuo\n0  117     Chiba        1990   Suguru\n1  118  Kanagawa        1989  Kouichi\n2  119     Tokyo        1992  Satochi\n3  120   Fukuoka        1997    Yukie\n4  125   Okinawa        1982    Akari",
      "text/html": "<div>\n<style scoped>\n    .dataframe tbody tr th:only-of-type {\n        vertical-align: middle;\n    }\n\n    .dataframe tbody tr th {\n        vertical-align: top;\n    }\n\n    .dataframe thead th {\n        text-align: right;\n    }\n</style>\n<table border=\"1\" class=\"dataframe\">\n  <thead>\n    <tr style=\"text-align: right;\">\n      <th></th>\n      <th>Id</th>\n      <th>City</th>\n      <th>Birth_year</th>\n      <th>Name</th>\n    </tr>\n  </thead>\n  <tbody>\n    <tr>\n      <th>0</th>\n      <td>100</td>\n      <td>Tokyo</td>\n      <td>1990</td>\n      <td>Hiroshi</td>\n    </tr>\n    <tr>\n      <th>1</th>\n      <td>101</td>\n      <td>Osaka</td>\n      <td>1989</td>\n      <td>Akiko</td>\n    </tr>\n    <tr>\n      <th>2</th>\n      <td>102</td>\n      <td>Kyoto</td>\n      <td>1992</td>\n      <td>Yuki</td>\n    </tr>\n    <tr>\n      <th>3</th>\n      <td>103</td>\n      <td>Hollaido</td>\n      <td>1997</td>\n      <td>Satoru</td>\n    </tr>\n    <tr>\n      <th>4</th>\n      <td>104</td>\n      <td>Tokyo</td>\n      <td>1982</td>\n      <td>Stteeve</td>\n    </tr>\n    <tr>\n      <th>5</th>\n      <td>106</td>\n      <td>Tokyo</td>\n      <td>1991</td>\n      <td>Mituru</td>\n    </tr>\n    <tr>\n      <th>6</th>\n      <td>108</td>\n      <td>Osaka</td>\n      <td>1988</td>\n      <td>Aoi</td>\n    </tr>\n    <tr>\n      <th>7</th>\n      <td>110</td>\n      <td>Kyoto</td>\n      <td>1990</td>\n      <td>Tarou</td>\n    </tr>\n    <tr>\n      <th>8</th>\n      <td>111</td>\n      <td>Hollaido</td>\n      <td>1995</td>\n      <td>Suguru</td>\n    </tr>\n    <tr>\n      <th>9</th>\n      <td>113</td>\n      <td>Tokyo</td>\n      <td>1981</td>\n      <td>Mitsuo</td>\n    </tr>\n    <tr>\n      <th>0</th>\n      <td>117</td>\n      <td>Chiba</td>\n      <td>1990</td>\n      <td>Suguru</td>\n    </tr>\n    <tr>\n      <th>1</th>\n      <td>118</td>\n      <td>Kanagawa</td>\n      <td>1989</td>\n      <td>Kouichi</td>\n    </tr>\n    <tr>\n      <th>2</th>\n      <td>119</td>\n      <td>Tokyo</td>\n      <td>1992</td>\n      <td>Satochi</td>\n    </tr>\n    <tr>\n      <th>3</th>\n      <td>120</td>\n      <td>Fukuoka</td>\n      <td>1997</td>\n      <td>Yukie</td>\n    </tr>\n    <tr>\n      <th>4</th>\n      <td>125</td>\n      <td>Okinawa</td>\n      <td>1982</td>\n      <td>Akari</td>\n    </tr>\n  </tbody>\n</table>\n</div>"
     },
     "execution_count": 30,
     "metadata": {},
     "output_type": "execute_result"
    }
   ],
   "source": [
    "# concat縱結合\n",
    "concat_data = pd.concat([df1,df3])\n",
    "concat_data"
   ],
   "metadata": {
    "collapsed": false,
    "pycharm": {
     "name": "#%%\n"
    }
   }
  },
  {
   "cell_type": "markdown",
   "source": [
    "#### 練習問題6-4"
   ],
   "metadata": {
    "collapsed": false,
    "pycharm": {
     "name": "#%% md\n"
    }
   }
  },
  {
   "cell_type": "code",
   "execution_count": 31,
   "outputs": [
    {
     "data": {
      "text/plain": "   Id      City  Birth_year     Name\n0   0     Tokyo        1990  Hiroshi\n1   1     Osaka        1989    Akiko\n2   2     Kyoto        1992     Yuki\n3   3  Hollaido        1997   Satoru\n4   4     Tokyo        1982  Stteeve\n5   6     Tokyo        1991   Mituru\n6   8     Osaka        1988      Aoi\n7  11     Kyoto        1990    Tarou\n8  12  Hollaido        1995   Suguru\n9  13     Tokyo        1981   Mitsuo",
      "text/html": "<div>\n<style scoped>\n    .dataframe tbody tr th:only-of-type {\n        vertical-align: middle;\n    }\n\n    .dataframe tbody tr th {\n        vertical-align: top;\n    }\n\n    .dataframe thead th {\n        text-align: right;\n    }\n</style>\n<table border=\"1\" class=\"dataframe\">\n  <thead>\n    <tr style=\"text-align: right;\">\n      <th></th>\n      <th>Id</th>\n      <th>City</th>\n      <th>Birth_year</th>\n      <th>Name</th>\n    </tr>\n  </thead>\n  <tbody>\n    <tr>\n      <th>0</th>\n      <td>0</td>\n      <td>Tokyo</td>\n      <td>1990</td>\n      <td>Hiroshi</td>\n    </tr>\n    <tr>\n      <th>1</th>\n      <td>1</td>\n      <td>Osaka</td>\n      <td>1989</td>\n      <td>Akiko</td>\n    </tr>\n    <tr>\n      <th>2</th>\n      <td>2</td>\n      <td>Kyoto</td>\n      <td>1992</td>\n      <td>Yuki</td>\n    </tr>\n    <tr>\n      <th>3</th>\n      <td>3</td>\n      <td>Hollaido</td>\n      <td>1997</td>\n      <td>Satoru</td>\n    </tr>\n    <tr>\n      <th>4</th>\n      <td>4</td>\n      <td>Tokyo</td>\n      <td>1982</td>\n      <td>Stteeve</td>\n    </tr>\n    <tr>\n      <th>5</th>\n      <td>6</td>\n      <td>Tokyo</td>\n      <td>1991</td>\n      <td>Mituru</td>\n    </tr>\n    <tr>\n      <th>6</th>\n      <td>8</td>\n      <td>Osaka</td>\n      <td>1988</td>\n      <td>Aoi</td>\n    </tr>\n    <tr>\n      <th>7</th>\n      <td>11</td>\n      <td>Kyoto</td>\n      <td>1990</td>\n      <td>Tarou</td>\n    </tr>\n    <tr>\n      <th>8</th>\n      <td>12</td>\n      <td>Hollaido</td>\n      <td>1995</td>\n      <td>Suguru</td>\n    </tr>\n    <tr>\n      <th>9</th>\n      <td>13</td>\n      <td>Tokyo</td>\n      <td>1981</td>\n      <td>Mitsuo</td>\n    </tr>\n  </tbody>\n</table>\n</div>"
     },
     "execution_count": 31,
     "metadata": {},
     "output_type": "execute_result"
    }
   ],
   "source": [
    "data4 = {\n",
    "    'Id':['0','1','2','3','4','6','8','11','12','13'],\n",
    "    'City':['Tokyo','Osaka','Kyoto','Hollaido','Tokyo','Tokyo','Osaka','Kyoto','Hollaido','Tokyo'],\n",
    "    'Birth_year':[1990,1989,1992,1997,1982,1991,1988,1990,1995,1981],\n",
    "    'Name':['Hiroshi','Akiko','Yuki','Satoru','Stteeve','Mituru','Aoi','Tarou','Suguru','Mitsuo']\n",
    "}\n",
    "df4 = DataFrame(data4)\n",
    "df4"
   ],
   "metadata": {
    "collapsed": false,
    "pycharm": {
     "name": "#%%\n"
    }
   }
  },
  {
   "cell_type": "code",
   "execution_count": 32,
   "outputs": [
    {
     "data": {
      "text/plain": "  Id  Math  English Sex  index_num\n0  0    20       30   M          0\n1  1    30       50   F          1\n2  3    50       50   F          2\n3  6    70       70   M          3\n4  8    90       20   M          4",
      "text/html": "<div>\n<style scoped>\n    .dataframe tbody tr th:only-of-type {\n        vertical-align: middle;\n    }\n\n    .dataframe tbody tr th {\n        vertical-align: top;\n    }\n\n    .dataframe thead th {\n        text-align: right;\n    }\n</style>\n<table border=\"1\" class=\"dataframe\">\n  <thead>\n    <tr style=\"text-align: right;\">\n      <th></th>\n      <th>Id</th>\n      <th>Math</th>\n      <th>English</th>\n      <th>Sex</th>\n      <th>index_num</th>\n    </tr>\n  </thead>\n  <tbody>\n    <tr>\n      <th>0</th>\n      <td>0</td>\n      <td>20</td>\n      <td>30</td>\n      <td>M</td>\n      <td>0</td>\n    </tr>\n    <tr>\n      <th>1</th>\n      <td>1</td>\n      <td>30</td>\n      <td>50</td>\n      <td>F</td>\n      <td>1</td>\n    </tr>\n    <tr>\n      <th>2</th>\n      <td>3</td>\n      <td>50</td>\n      <td>50</td>\n      <td>F</td>\n      <td>2</td>\n    </tr>\n    <tr>\n      <th>3</th>\n      <td>6</td>\n      <td>70</td>\n      <td>70</td>\n      <td>M</td>\n      <td>3</td>\n    </tr>\n    <tr>\n      <th>4</th>\n      <td>8</td>\n      <td>90</td>\n      <td>20</td>\n      <td>M</td>\n      <td>4</td>\n    </tr>\n  </tbody>\n</table>\n</div>"
     },
     "execution_count": 32,
     "metadata": {},
     "output_type": "execute_result"
    }
   ],
   "source": [
    "data5 = {\n",
    "    'Id':['0','1','3','6','8'],\n",
    "    'Math':[20,30,50,70,90],\n",
    "    'English':[30,50,50,70,20],\n",
    "    'Sex':['M','F','F','M','M'],\n",
    "    'index_num':[0,1,2,3,4]\n",
    "}\n",
    "df5 = DataFrame(data5)\n",
    "df5"
   ],
   "metadata": {
    "collapsed": false,
    "pycharm": {
     "name": "#%%\n"
    }
   }
  },
  {
   "cell_type": "code",
   "execution_count": 37,
   "outputs": [
    {
     "data": {
      "text/plain": "  Id      City  Birth_year     Name  Math  English Sex  index_num\n0  0     Tokyo        1990  Hiroshi    20       30   M          0\n1  1     Osaka        1989    Akiko    30       50   F          1\n2  3  Hollaido        1997   Satoru    50       50   F          2\n3  6     Tokyo        1991   Mituru    70       70   M          3\n4  8     Osaka        1988      Aoi    90       20   M          4",
      "text/html": "<div>\n<style scoped>\n    .dataframe tbody tr th:only-of-type {\n        vertical-align: middle;\n    }\n\n    .dataframe tbody tr th {\n        vertical-align: top;\n    }\n\n    .dataframe thead th {\n        text-align: right;\n    }\n</style>\n<table border=\"1\" class=\"dataframe\">\n  <thead>\n    <tr style=\"text-align: right;\">\n      <th></th>\n      <th>Id</th>\n      <th>City</th>\n      <th>Birth_year</th>\n      <th>Name</th>\n      <th>Math</th>\n      <th>English</th>\n      <th>Sex</th>\n      <th>index_num</th>\n    </tr>\n  </thead>\n  <tbody>\n    <tr>\n      <th>0</th>\n      <td>0</td>\n      <td>Tokyo</td>\n      <td>1990</td>\n      <td>Hiroshi</td>\n      <td>20</td>\n      <td>30</td>\n      <td>M</td>\n      <td>0</td>\n    </tr>\n    <tr>\n      <th>1</th>\n      <td>1</td>\n      <td>Osaka</td>\n      <td>1989</td>\n      <td>Akiko</td>\n      <td>30</td>\n      <td>50</td>\n      <td>F</td>\n      <td>1</td>\n    </tr>\n    <tr>\n      <th>2</th>\n      <td>3</td>\n      <td>Hollaido</td>\n      <td>1997</td>\n      <td>Satoru</td>\n      <td>50</td>\n      <td>50</td>\n      <td>F</td>\n      <td>2</td>\n    </tr>\n    <tr>\n      <th>3</th>\n      <td>6</td>\n      <td>Tokyo</td>\n      <td>1991</td>\n      <td>Mituru</td>\n      <td>70</td>\n      <td>70</td>\n      <td>M</td>\n      <td>3</td>\n    </tr>\n    <tr>\n      <th>4</th>\n      <td>8</td>\n      <td>Osaka</td>\n      <td>1988</td>\n      <td>Aoi</td>\n      <td>90</td>\n      <td>20</td>\n      <td>M</td>\n      <td>4</td>\n    </tr>\n  </tbody>\n</table>\n</div>"
     },
     "execution_count": 37,
     "metadata": {},
     "output_type": "execute_result"
    }
   ],
   "source": [
    "pd.merge(df4,df5,on = 'Id')"
   ],
   "metadata": {
    "collapsed": false,
    "pycharm": {
     "name": "#%%\n"
    }
   }
  },
  {
   "cell_type": "code",
   "execution_count": 38,
   "outputs": [
    {
     "data": {
      "text/plain": "   Id      City  Birth_year     Name  Math  English  Sex  index_num\n0   0     Tokyo        1990  Hiroshi  20.0     30.0    M        0.0\n1   1     Osaka        1989    Akiko  30.0     50.0    F        1.0\n2   2     Kyoto        1992     Yuki   NaN      NaN  NaN        NaN\n3   3  Hollaido        1997   Satoru  50.0     50.0    F        2.0\n4   4     Tokyo        1982  Stteeve   NaN      NaN  NaN        NaN\n5   6     Tokyo        1991   Mituru  70.0     70.0    M        3.0\n6   8     Osaka        1988      Aoi  90.0     20.0    M        4.0\n7  11     Kyoto        1990    Tarou   NaN      NaN  NaN        NaN\n8  12  Hollaido        1995   Suguru   NaN      NaN  NaN        NaN\n9  13     Tokyo        1981   Mitsuo   NaN      NaN  NaN        NaN",
      "text/html": "<div>\n<style scoped>\n    .dataframe tbody tr th:only-of-type {\n        vertical-align: middle;\n    }\n\n    .dataframe tbody tr th {\n        vertical-align: top;\n    }\n\n    .dataframe thead th {\n        text-align: right;\n    }\n</style>\n<table border=\"1\" class=\"dataframe\">\n  <thead>\n    <tr style=\"text-align: right;\">\n      <th></th>\n      <th>Id</th>\n      <th>City</th>\n      <th>Birth_year</th>\n      <th>Name</th>\n      <th>Math</th>\n      <th>English</th>\n      <th>Sex</th>\n      <th>index_num</th>\n    </tr>\n  </thead>\n  <tbody>\n    <tr>\n      <th>0</th>\n      <td>0</td>\n      <td>Tokyo</td>\n      <td>1990</td>\n      <td>Hiroshi</td>\n      <td>20.0</td>\n      <td>30.0</td>\n      <td>M</td>\n      <td>0.0</td>\n    </tr>\n    <tr>\n      <th>1</th>\n      <td>1</td>\n      <td>Osaka</td>\n      <td>1989</td>\n      <td>Akiko</td>\n      <td>30.0</td>\n      <td>50.0</td>\n      <td>F</td>\n      <td>1.0</td>\n    </tr>\n    <tr>\n      <th>2</th>\n      <td>2</td>\n      <td>Kyoto</td>\n      <td>1992</td>\n      <td>Yuki</td>\n      <td>NaN</td>\n      <td>NaN</td>\n      <td>NaN</td>\n      <td>NaN</td>\n    </tr>\n    <tr>\n      <th>3</th>\n      <td>3</td>\n      <td>Hollaido</td>\n      <td>1997</td>\n      <td>Satoru</td>\n      <td>50.0</td>\n      <td>50.0</td>\n      <td>F</td>\n      <td>2.0</td>\n    </tr>\n    <tr>\n      <th>4</th>\n      <td>4</td>\n      <td>Tokyo</td>\n      <td>1982</td>\n      <td>Stteeve</td>\n      <td>NaN</td>\n      <td>NaN</td>\n      <td>NaN</td>\n      <td>NaN</td>\n    </tr>\n    <tr>\n      <th>5</th>\n      <td>6</td>\n      <td>Tokyo</td>\n      <td>1991</td>\n      <td>Mituru</td>\n      <td>70.0</td>\n      <td>70.0</td>\n      <td>M</td>\n      <td>3.0</td>\n    </tr>\n    <tr>\n      <th>6</th>\n      <td>8</td>\n      <td>Osaka</td>\n      <td>1988</td>\n      <td>Aoi</td>\n      <td>90.0</td>\n      <td>20.0</td>\n      <td>M</td>\n      <td>4.0</td>\n    </tr>\n    <tr>\n      <th>7</th>\n      <td>11</td>\n      <td>Kyoto</td>\n      <td>1990</td>\n      <td>Tarou</td>\n      <td>NaN</td>\n      <td>NaN</td>\n      <td>NaN</td>\n      <td>NaN</td>\n    </tr>\n    <tr>\n      <th>8</th>\n      <td>12</td>\n      <td>Hollaido</td>\n      <td>1995</td>\n      <td>Suguru</td>\n      <td>NaN</td>\n      <td>NaN</td>\n      <td>NaN</td>\n      <td>NaN</td>\n    </tr>\n    <tr>\n      <th>9</th>\n      <td>13</td>\n      <td>Tokyo</td>\n      <td>1981</td>\n      <td>Mitsuo</td>\n      <td>NaN</td>\n      <td>NaN</td>\n      <td>NaN</td>\n      <td>NaN</td>\n    </tr>\n  </tbody>\n</table>\n</div>"
     },
     "execution_count": 38,
     "metadata": {},
     "output_type": "execute_result"
    }
   ],
   "source": [
    "pd.merge(df4,df5,how = 'outer')"
   ],
   "metadata": {
    "collapsed": false,
    "pycharm": {
     "name": "#%%\n"
    }
   }
  },
  {
   "cell_type": "code",
   "execution_count": 35,
   "outputs": [
    {
     "data": {
      "text/plain": "    Id      City  Birth_year     Name\n0   70     Chiba        1980   Suguru\n1   80  Kanagawa        1999  Kouichi\n2   90     Tokyo        1995  Satochi\n3  120   Fukuoka        1994    Yukie\n4  150   Okinawa        1984    Akari",
      "text/html": "<div>\n<style scoped>\n    .dataframe tbody tr th:only-of-type {\n        vertical-align: middle;\n    }\n\n    .dataframe tbody tr th {\n        vertical-align: top;\n    }\n\n    .dataframe thead th {\n        text-align: right;\n    }\n</style>\n<table border=\"1\" class=\"dataframe\">\n  <thead>\n    <tr style=\"text-align: right;\">\n      <th></th>\n      <th>Id</th>\n      <th>City</th>\n      <th>Birth_year</th>\n      <th>Name</th>\n    </tr>\n  </thead>\n  <tbody>\n    <tr>\n      <th>0</th>\n      <td>70</td>\n      <td>Chiba</td>\n      <td>1980</td>\n      <td>Suguru</td>\n    </tr>\n    <tr>\n      <th>1</th>\n      <td>80</td>\n      <td>Kanagawa</td>\n      <td>1999</td>\n      <td>Kouichi</td>\n    </tr>\n    <tr>\n      <th>2</th>\n      <td>90</td>\n      <td>Tokyo</td>\n      <td>1995</td>\n      <td>Satochi</td>\n    </tr>\n    <tr>\n      <th>3</th>\n      <td>120</td>\n      <td>Fukuoka</td>\n      <td>1994</td>\n      <td>Yukie</td>\n    </tr>\n    <tr>\n      <th>4</th>\n      <td>150</td>\n      <td>Okinawa</td>\n      <td>1984</td>\n      <td>Akari</td>\n    </tr>\n  </tbody>\n</table>\n</div>"
     },
     "execution_count": 35,
     "metadata": {},
     "output_type": "execute_result"
    }
   ],
   "source": [
    "data6 = {\n",
    "    'Id':['70','80','90','120','150'],\n",
    "    'City':['Chiba','Kanagawa','Tokyo','Fukuoka','Okinawa'],\n",
    "    'Birth_year':[1980,1999,1995,1994,1984],\n",
    "    'Name':['Suguru','Kouichi','Satochi','Yukie','Akari']\n",
    "}\n",
    "df6 = DataFrame(data6)\n",
    "df6"
   ],
   "metadata": {
    "collapsed": false,
    "pycharm": {
     "name": "#%%\n"
    }
   }
  },
  {
   "cell_type": "code",
   "execution_count": 36,
   "outputs": [
    {
     "data": {
      "text/plain": "    Id      City  Birth_year     Name\n0    0     Tokyo        1990  Hiroshi\n1    1     Osaka        1989    Akiko\n2    2     Kyoto        1992     Yuki\n3    3  Hollaido        1997   Satoru\n4    4     Tokyo        1982  Stteeve\n5    6     Tokyo        1991   Mituru\n6    8     Osaka        1988      Aoi\n7   11     Kyoto        1990    Tarou\n8   12  Hollaido        1995   Suguru\n9   13     Tokyo        1981   Mitsuo\n0   70     Chiba        1980   Suguru\n1   80  Kanagawa        1999  Kouichi\n2   90     Tokyo        1995  Satochi\n3  120   Fukuoka        1994    Yukie\n4  150   Okinawa        1984    Akari",
      "text/html": "<div>\n<style scoped>\n    .dataframe tbody tr th:only-of-type {\n        vertical-align: middle;\n    }\n\n    .dataframe tbody tr th {\n        vertical-align: top;\n    }\n\n    .dataframe thead th {\n        text-align: right;\n    }\n</style>\n<table border=\"1\" class=\"dataframe\">\n  <thead>\n    <tr style=\"text-align: right;\">\n      <th></th>\n      <th>Id</th>\n      <th>City</th>\n      <th>Birth_year</th>\n      <th>Name</th>\n    </tr>\n  </thead>\n  <tbody>\n    <tr>\n      <th>0</th>\n      <td>0</td>\n      <td>Tokyo</td>\n      <td>1990</td>\n      <td>Hiroshi</td>\n    </tr>\n    <tr>\n      <th>1</th>\n      <td>1</td>\n      <td>Osaka</td>\n      <td>1989</td>\n      <td>Akiko</td>\n    </tr>\n    <tr>\n      <th>2</th>\n      <td>2</td>\n      <td>Kyoto</td>\n      <td>1992</td>\n      <td>Yuki</td>\n    </tr>\n    <tr>\n      <th>3</th>\n      <td>3</td>\n      <td>Hollaido</td>\n      <td>1997</td>\n      <td>Satoru</td>\n    </tr>\n    <tr>\n      <th>4</th>\n      <td>4</td>\n      <td>Tokyo</td>\n      <td>1982</td>\n      <td>Stteeve</td>\n    </tr>\n    <tr>\n      <th>5</th>\n      <td>6</td>\n      <td>Tokyo</td>\n      <td>1991</td>\n      <td>Mituru</td>\n    </tr>\n    <tr>\n      <th>6</th>\n      <td>8</td>\n      <td>Osaka</td>\n      <td>1988</td>\n      <td>Aoi</td>\n    </tr>\n    <tr>\n      <th>7</th>\n      <td>11</td>\n      <td>Kyoto</td>\n      <td>1990</td>\n      <td>Tarou</td>\n    </tr>\n    <tr>\n      <th>8</th>\n      <td>12</td>\n      <td>Hollaido</td>\n      <td>1995</td>\n      <td>Suguru</td>\n    </tr>\n    <tr>\n      <th>9</th>\n      <td>13</td>\n      <td>Tokyo</td>\n      <td>1981</td>\n      <td>Mitsuo</td>\n    </tr>\n    <tr>\n      <th>0</th>\n      <td>70</td>\n      <td>Chiba</td>\n      <td>1980</td>\n      <td>Suguru</td>\n    </tr>\n    <tr>\n      <th>1</th>\n      <td>80</td>\n      <td>Kanagawa</td>\n      <td>1999</td>\n      <td>Kouichi</td>\n    </tr>\n    <tr>\n      <th>2</th>\n      <td>90</td>\n      <td>Tokyo</td>\n      <td>1995</td>\n      <td>Satochi</td>\n    </tr>\n    <tr>\n      <th>3</th>\n      <td>120</td>\n      <td>Fukuoka</td>\n      <td>1994</td>\n      <td>Yukie</td>\n    </tr>\n    <tr>\n      <th>4</th>\n      <td>150</td>\n      <td>Okinawa</td>\n      <td>1984</td>\n      <td>Akari</td>\n    </tr>\n  </tbody>\n</table>\n</div>"
     },
     "execution_count": 36,
     "metadata": {},
     "output_type": "execute_result"
    }
   ],
   "source": [
    "pd.concat([df4,df6])"
   ],
   "metadata": {
    "collapsed": false,
    "pycharm": {
     "name": "#%%\n"
    }
   }
  },
  {
   "cell_type": "markdown",
   "source": [
    "#### 6-2-3 資料的操作與變換"
   ],
   "metadata": {
    "collapsed": false,
    "pycharm": {
     "name": "#%% md\n"
    }
   }
  },
  {
   "cell_type": "code",
   "execution_count": 42,
   "outputs": [
    {
     "data": {
      "text/plain": "    Osaka Tokyo Osaka\n     Blue   Red   Red\na 1     0     1     2\n  2     3     4     5\nb 2     6     7     8",
      "text/html": "<div>\n<style scoped>\n    .dataframe tbody tr th:only-of-type {\n        vertical-align: middle;\n    }\n\n    .dataframe tbody tr th {\n        vertical-align: top;\n    }\n\n    .dataframe thead tr th {\n        text-align: left;\n    }\n</style>\n<table border=\"1\" class=\"dataframe\">\n  <thead>\n    <tr>\n      <th></th>\n      <th></th>\n      <th>Osaka</th>\n      <th>Tokyo</th>\n      <th>Osaka</th>\n    </tr>\n    <tr>\n      <th></th>\n      <th></th>\n      <th>Blue</th>\n      <th>Red</th>\n      <th>Red</th>\n    </tr>\n  </thead>\n  <tbody>\n    <tr>\n      <th rowspan=\"2\" valign=\"top\">a</th>\n      <th>1</th>\n      <td>0</td>\n      <td>1</td>\n      <td>2</td>\n    </tr>\n    <tr>\n      <th>2</th>\n      <td>3</td>\n      <td>4</td>\n      <td>5</td>\n    </tr>\n    <tr>\n      <th>b</th>\n      <th>2</th>\n      <td>6</td>\n      <td>7</td>\n      <td>8</td>\n    </tr>\n  </tbody>\n</table>\n</div>"
     },
     "execution_count": 42,
     "metadata": {},
     "output_type": "execute_result"
    }
   ],
   "source": [
    "# 準備hier_df\n",
    "hier_df = DataFrame(\n",
    "    np.arange(9).reshape((3,3)),\n",
    "    index = [\n",
    "        ['a','a','b'],\n",
    "        [1,2,2]\n",
    "    ],\n",
    "    columns = [\n",
    "        ['Osaka','Tokyo','Osaka'],\n",
    "        ['Blue','Red','Red']\n",
    "    ]\n",
    ")\n",
    "hier_df"
   ],
   "metadata": {
    "collapsed": false,
    "pycharm": {
     "name": "#%%\n"
    }
   }
  },
  {
   "cell_type": "code",
   "execution_count": 43,
   "outputs": [
    {
     "data": {
      "text/plain": "          Osaka  Tokyo\na 1 Blue      0    NaN\n    Red       2    1.0\n  2 Blue      3    NaN\n    Red       5    4.0\nb 2 Blue      6    NaN\n    Red       8    7.0",
      "text/html": "<div>\n<style scoped>\n    .dataframe tbody tr th:only-of-type {\n        vertical-align: middle;\n    }\n\n    .dataframe tbody tr th {\n        vertical-align: top;\n    }\n\n    .dataframe thead th {\n        text-align: right;\n    }\n</style>\n<table border=\"1\" class=\"dataframe\">\n  <thead>\n    <tr style=\"text-align: right;\">\n      <th></th>\n      <th></th>\n      <th></th>\n      <th>Osaka</th>\n      <th>Tokyo</th>\n    </tr>\n  </thead>\n  <tbody>\n    <tr>\n      <th rowspan=\"4\" valign=\"top\">a</th>\n      <th rowspan=\"2\" valign=\"top\">1</th>\n      <th>Blue</th>\n      <td>0</td>\n      <td>NaN</td>\n    </tr>\n    <tr>\n      <th>Red</th>\n      <td>2</td>\n      <td>1.0</td>\n    </tr>\n    <tr>\n      <th rowspan=\"2\" valign=\"top\">2</th>\n      <th>Blue</th>\n      <td>3</td>\n      <td>NaN</td>\n    </tr>\n    <tr>\n      <th>Red</th>\n      <td>5</td>\n      <td>4.0</td>\n    </tr>\n    <tr>\n      <th rowspan=\"2\" valign=\"top\">b</th>\n      <th rowspan=\"2\" valign=\"top\">2</th>\n      <th>Blue</th>\n      <td>6</td>\n      <td>NaN</td>\n    </tr>\n    <tr>\n      <th>Red</th>\n      <td>8</td>\n      <td>7.0</td>\n    </tr>\n  </tbody>\n</table>\n</div>"
     },
     "execution_count": 43,
     "metadata": {},
     "output_type": "execute_result"
    }
   ],
   "source": [
    "# 藉由樞紐操作將「Blue、Red」之行變更為列\n",
    "hier_df.stack()"
   ],
   "metadata": {
    "collapsed": false,
    "pycharm": {
     "name": "#%%\n"
    }
   }
  },
  {
   "cell_type": "code",
   "execution_count": 46,
   "outputs": [
    {
     "data": {
      "text/plain": "    Osaka     Tokyo     \n     Blue Red  Blue  Red\na 1     0   2   NaN  1.0\n  2     3   5   NaN  4.0\nb 2     6   8   NaN  7.0",
      "text/html": "<div>\n<style scoped>\n    .dataframe tbody tr th:only-of-type {\n        vertical-align: middle;\n    }\n\n    .dataframe tbody tr th {\n        vertical-align: top;\n    }\n\n    .dataframe thead tr th {\n        text-align: left;\n    }\n</style>\n<table border=\"1\" class=\"dataframe\">\n  <thead>\n    <tr>\n      <th></th>\n      <th></th>\n      <th colspan=\"2\" halign=\"left\">Osaka</th>\n      <th colspan=\"2\" halign=\"left\">Tokyo</th>\n    </tr>\n    <tr>\n      <th></th>\n      <th></th>\n      <th>Blue</th>\n      <th>Red</th>\n      <th>Blue</th>\n      <th>Red</th>\n    </tr>\n  </thead>\n  <tbody>\n    <tr>\n      <th rowspan=\"2\" valign=\"top\">a</th>\n      <th>1</th>\n      <td>0</td>\n      <td>2</td>\n      <td>NaN</td>\n      <td>1.0</td>\n    </tr>\n    <tr>\n      <th>2</th>\n      <td>3</td>\n      <td>5</td>\n      <td>NaN</td>\n      <td>4.0</td>\n    </tr>\n    <tr>\n      <th>b</th>\n      <th>2</th>\n      <td>6</td>\n      <td>8</td>\n      <td>NaN</td>\n      <td>7.0</td>\n    </tr>\n  </tbody>\n</table>\n</div>"
     },
     "execution_count": 46,
     "metadata": {},
     "output_type": "execute_result"
    }
   ],
   "source": [
    "# 使用unstack方法將「Blue、Red」之列變更為行\n",
    "hier_df.stack().unstack()"
   ],
   "metadata": {
    "collapsed": false,
    "pycharm": {
     "name": "#%%\n"
    }
   }
  },
  {
   "cell_type": "code",
   "execution_count": 47,
   "outputs": [
    {
     "name": "stdout",
     "output_type": "stream",
     "text": [
      "原本的資料\n"
     ]
    },
    {
     "data": {
      "text/plain": "   col1 col2\n0     1    a\n1     1    b\n2     2    b\n3     3    b\n4     4    c\n5     4    c\n6     6    b\n7     6    b",
      "text/html": "<div>\n<style scoped>\n    .dataframe tbody tr th:only-of-type {\n        vertical-align: middle;\n    }\n\n    .dataframe tbody tr th {\n        vertical-align: top;\n    }\n\n    .dataframe thead th {\n        text-align: right;\n    }\n</style>\n<table border=\"1\" class=\"dataframe\">\n  <thead>\n    <tr style=\"text-align: right;\">\n      <th></th>\n      <th>col1</th>\n      <th>col2</th>\n    </tr>\n  </thead>\n  <tbody>\n    <tr>\n      <th>0</th>\n      <td>1</td>\n      <td>a</td>\n    </tr>\n    <tr>\n      <th>1</th>\n      <td>1</td>\n      <td>b</td>\n    </tr>\n    <tr>\n      <th>2</th>\n      <td>2</td>\n      <td>b</td>\n    </tr>\n    <tr>\n      <th>3</th>\n      <td>3</td>\n      <td>b</td>\n    </tr>\n    <tr>\n      <th>4</th>\n      <td>4</td>\n      <td>c</td>\n    </tr>\n    <tr>\n      <th>5</th>\n      <td>4</td>\n      <td>c</td>\n    </tr>\n    <tr>\n      <th>6</th>\n      <td>6</td>\n      <td>b</td>\n    </tr>\n    <tr>\n      <th>7</th>\n      <td>6</td>\n      <td>b</td>\n    </tr>\n  </tbody>\n</table>\n</div>"
     },
     "execution_count": 47,
     "metadata": {},
     "output_type": "execute_result"
    }
   ],
   "source": [
    "# 有著重複的資料\n",
    "dupli_data = DataFrame({\n",
    "    'col1':[1,1,2,3,4,4,6,6],\n",
    "    'col2':['a','b','b','b','c','c','b','b']\n",
    "})\n",
    "print('原本的資料')\n",
    "dupli_data"
   ],
   "metadata": {
    "collapsed": false,
    "pycharm": {
     "name": "#%%\n"
    }
   }
  },
  {
   "cell_type": "code",
   "execution_count": 48,
   "outputs": [
    {
     "data": {
      "text/plain": "0    False\n1    False\n2    False\n3    False\n4    False\n5     True\n6    False\n7     True\ndtype: bool"
     },
     "execution_count": 48,
     "metadata": {},
     "output_type": "execute_result"
    }
   ],
   "source": [
    "# 重複的判斷\n",
    "# 需要兩行相同的重複出現才算\n",
    "# 第一次出現的是False，第二次出現的是True\n",
    "dupli_data.duplicated()"
   ],
   "metadata": {
    "collapsed": false,
    "pycharm": {
     "name": "#%%\n"
    }
   }
  },
  {
   "cell_type": "code",
   "execution_count": 49,
   "outputs": [
    {
     "data": {
      "text/plain": "   col1 col2\n0     1    a\n1     1    b\n2     2    b\n3     3    b\n4     4    c\n6     6    b",
      "text/html": "<div>\n<style scoped>\n    .dataframe tbody tr th:only-of-type {\n        vertical-align: middle;\n    }\n\n    .dataframe tbody tr th {\n        vertical-align: top;\n    }\n\n    .dataframe thead th {\n        text-align: right;\n    }\n</style>\n<table border=\"1\" class=\"dataframe\">\n  <thead>\n    <tr style=\"text-align: right;\">\n      <th></th>\n      <th>col1</th>\n      <th>col2</th>\n    </tr>\n  </thead>\n  <tbody>\n    <tr>\n      <th>0</th>\n      <td>1</td>\n      <td>a</td>\n    </tr>\n    <tr>\n      <th>1</th>\n      <td>1</td>\n      <td>b</td>\n    </tr>\n    <tr>\n      <th>2</th>\n      <td>2</td>\n      <td>b</td>\n    </tr>\n    <tr>\n      <th>3</th>\n      <td>3</td>\n      <td>b</td>\n    </tr>\n    <tr>\n      <th>4</th>\n      <td>4</td>\n      <td>c</td>\n    </tr>\n    <tr>\n      <th>6</th>\n      <td>6</td>\n      <td>b</td>\n    </tr>\n  </tbody>\n</table>\n</div>"
     },
     "execution_count": 49,
     "metadata": {},
     "output_type": "execute_result"
    }
   ],
   "source": [
    "# 將重複的資料刪除\n",
    "dupli_data.drop_duplicates()"
   ],
   "metadata": {
    "collapsed": false,
    "pycharm": {
     "name": "#%%\n"
    }
   }
  },
  {
   "cell_type": "code",
   "execution_count": 7,
   "outputs": [
    {
     "data": {
      "text/plain": "{'Tokyo': 'Kanto',\n 'Hollaido': 'Hollaido',\n 'Osaka': 'Kansai',\n 'Kyoto': 'Kansai'}"
     },
     "execution_count": 7,
     "metadata": {},
     "output_type": "execute_result"
    }
   ],
   "source": [
    "# 參照資料\n",
    "city_map = {\n",
    "    'Tokyo': 'Kanto',\n",
    "    'Hollaido': 'Hollaido',\n",
    "    'Osaka': 'Kansai',\n",
    "    'Kyoto': 'Kansai'\n",
    "}\n",
    "city_map"
   ],
   "metadata": {
    "collapsed": false,
    "pycharm": {
     "name": "#%%\n"
    }
   }
  },
  {
   "cell_type": "code",
   "execution_count": 8,
   "outputs": [
    {
     "data": {
      "text/plain": "    Id      City  Birth_year     Name    region\n0  100     Tokyo        1990  Hiroshi     Kanto\n1  101     Osaka        1989    Akiko    Kansai\n2  102     Kyoto        1992     Yuki    Kansai\n3  103  Hollaido        1997   Satoru  Hollaido\n4  104     Tokyo        1982  Stteeve     Kanto\n5  106     Tokyo        1991   Mituru     Kanto\n6  108     Osaka        1988      Aoi    Kansai\n7  110     Kyoto        1990    Tarou    Kansai\n8  111  Hollaido        1995   Suguru  Hollaido\n9  113     Tokyo        1981   Mitsuo     Kanto",
      "text/html": "<div>\n<style scoped>\n    .dataframe tbody tr th:only-of-type {\n        vertical-align: middle;\n    }\n\n    .dataframe tbody tr th {\n        vertical-align: top;\n    }\n\n    .dataframe thead th {\n        text-align: right;\n    }\n</style>\n<table border=\"1\" class=\"dataframe\">\n  <thead>\n    <tr style=\"text-align: right;\">\n      <th></th>\n      <th>Id</th>\n      <th>City</th>\n      <th>Birth_year</th>\n      <th>Name</th>\n      <th>region</th>\n    </tr>\n  </thead>\n  <tbody>\n    <tr>\n      <th>0</th>\n      <td>100</td>\n      <td>Tokyo</td>\n      <td>1990</td>\n      <td>Hiroshi</td>\n      <td>Kanto</td>\n    </tr>\n    <tr>\n      <th>1</th>\n      <td>101</td>\n      <td>Osaka</td>\n      <td>1989</td>\n      <td>Akiko</td>\n      <td>Kansai</td>\n    </tr>\n    <tr>\n      <th>2</th>\n      <td>102</td>\n      <td>Kyoto</td>\n      <td>1992</td>\n      <td>Yuki</td>\n      <td>Kansai</td>\n    </tr>\n    <tr>\n      <th>3</th>\n      <td>103</td>\n      <td>Hollaido</td>\n      <td>1997</td>\n      <td>Satoru</td>\n      <td>Hollaido</td>\n    </tr>\n    <tr>\n      <th>4</th>\n      <td>104</td>\n      <td>Tokyo</td>\n      <td>1982</td>\n      <td>Stteeve</td>\n      <td>Kanto</td>\n    </tr>\n    <tr>\n      <th>5</th>\n      <td>106</td>\n      <td>Tokyo</td>\n      <td>1991</td>\n      <td>Mituru</td>\n      <td>Kanto</td>\n    </tr>\n    <tr>\n      <th>6</th>\n      <td>108</td>\n      <td>Osaka</td>\n      <td>1988</td>\n      <td>Aoi</td>\n      <td>Kansai</td>\n    </tr>\n    <tr>\n      <th>7</th>\n      <td>110</td>\n      <td>Kyoto</td>\n      <td>1990</td>\n      <td>Tarou</td>\n      <td>Kansai</td>\n    </tr>\n    <tr>\n      <th>8</th>\n      <td>111</td>\n      <td>Hollaido</td>\n      <td>1995</td>\n      <td>Suguru</td>\n      <td>Hollaido</td>\n    </tr>\n    <tr>\n      <th>9</th>\n      <td>113</td>\n      <td>Tokyo</td>\n      <td>1981</td>\n      <td>Mitsuo</td>\n      <td>Kanto</td>\n    </tr>\n  </tbody>\n</table>\n</div>"
     },
     "execution_count": 8,
     "metadata": {},
     "output_type": "execute_result"
    }
   ],
   "source": [
    "# 結合參照資料\n",
    "# 如果沒有對應的資料，則為NaN\n",
    "df1['region'] = df1['City'].map(city_map) # 取得對應的區域名稱資料，將它在最右邊新增為region行\n",
    "df1"
   ],
   "metadata": {
    "collapsed": false,
    "pycharm": {
     "name": "#%%\n"
    }
   }
  },
  {
   "cell_type": "code",
   "execution_count": 54,
   "outputs": [
    {
     "data": {
      "text/plain": "    Id      City  Birth_year     Name    region up_two_num\n0  100     Tokyo        1990  Hiroshi     Kanto        199\n1  101     Osaka        1989    Akiko    Kansai        198\n2  102     Kyoto        1992     Yuki    Kansai        199\n3  103  Hollaido        1997   Satoru  Hollaido        199\n4  104     Tokyo        1982  Stteeve     Kanto        198\n5  106     Tokyo        1991   Mituru     Kanto        199\n6  108     Osaka        1988      Aoi    Kansai        198\n7  110     Kyoto        1990    Tarou    Kansai        199\n8  111  Hollaido        1995   Suguru  Hollaido        199\n9  113     Tokyo        1981   Mitsuo     Kanto        198",
      "text/html": "<div>\n<style scoped>\n    .dataframe tbody tr th:only-of-type {\n        vertical-align: middle;\n    }\n\n    .dataframe tbody tr th {\n        vertical-align: top;\n    }\n\n    .dataframe thead th {\n        text-align: right;\n    }\n</style>\n<table border=\"1\" class=\"dataframe\">\n  <thead>\n    <tr style=\"text-align: right;\">\n      <th></th>\n      <th>Id</th>\n      <th>City</th>\n      <th>Birth_year</th>\n      <th>Name</th>\n      <th>region</th>\n      <th>up_two_num</th>\n    </tr>\n  </thead>\n  <tbody>\n    <tr>\n      <th>0</th>\n      <td>100</td>\n      <td>Tokyo</td>\n      <td>1990</td>\n      <td>Hiroshi</td>\n      <td>Kanto</td>\n      <td>199</td>\n    </tr>\n    <tr>\n      <th>1</th>\n      <td>101</td>\n      <td>Osaka</td>\n      <td>1989</td>\n      <td>Akiko</td>\n      <td>Kansai</td>\n      <td>198</td>\n    </tr>\n    <tr>\n      <th>2</th>\n      <td>102</td>\n      <td>Kyoto</td>\n      <td>1992</td>\n      <td>Yuki</td>\n      <td>Kansai</td>\n      <td>199</td>\n    </tr>\n    <tr>\n      <th>3</th>\n      <td>103</td>\n      <td>Hollaido</td>\n      <td>1997</td>\n      <td>Satoru</td>\n      <td>Hollaido</td>\n      <td>199</td>\n    </tr>\n    <tr>\n      <th>4</th>\n      <td>104</td>\n      <td>Tokyo</td>\n      <td>1982</td>\n      <td>Stteeve</td>\n      <td>Kanto</td>\n      <td>198</td>\n    </tr>\n    <tr>\n      <th>5</th>\n      <td>106</td>\n      <td>Tokyo</td>\n      <td>1991</td>\n      <td>Mituru</td>\n      <td>Kanto</td>\n      <td>199</td>\n    </tr>\n    <tr>\n      <th>6</th>\n      <td>108</td>\n      <td>Osaka</td>\n      <td>1988</td>\n      <td>Aoi</td>\n      <td>Kansai</td>\n      <td>198</td>\n    </tr>\n    <tr>\n      <th>7</th>\n      <td>110</td>\n      <td>Kyoto</td>\n      <td>1990</td>\n      <td>Tarou</td>\n      <td>Kansai</td>\n      <td>199</td>\n    </tr>\n    <tr>\n      <th>8</th>\n      <td>111</td>\n      <td>Hollaido</td>\n      <td>1995</td>\n      <td>Suguru</td>\n      <td>Hollaido</td>\n      <td>199</td>\n    </tr>\n    <tr>\n      <th>9</th>\n      <td>113</td>\n      <td>Tokyo</td>\n      <td>1981</td>\n      <td>Mitsuo</td>\n      <td>Kanto</td>\n      <td>198</td>\n    </tr>\n  </tbody>\n</table>\n</div>"
     },
     "execution_count": 54,
     "metadata": {},
     "output_type": "execute_result"
    }
   ],
   "source": [
    "# 將birth_year的前3位數字、文字取出\n",
    "df1['up_two_num'] = df1['Birth_year'].map(lambda x: str(x)[0:3])\n",
    "df1"
   ],
   "metadata": {
    "collapsed": false,
    "pycharm": {
     "name": "#%%\n"
    }
   }
  },
  {
   "cell_type": "code",
   "execution_count": 56,
   "outputs": [
    {
     "data": {
      "text/plain": "0    (1985, 1990]\n1    (1985, 1990]\n2    (1990, 1995]\n3    (1995, 2000]\n4    (1980, 1985]\n5    (1990, 1995]\n6    (1985, 1990]\n7    (1985, 1990]\n8    (1990, 1995]\n9    (1980, 1985]\nName: Birth_year, dtype: category\nCategories (4, interval[int64, right]): [(1980, 1985] < (1985, 1990] < (1990, 1995] < (1995, 2000]]"
     },
     "execution_count": 56,
     "metadata": {},
     "output_type": "execute_result"
    }
   ],
   "source": [
    "# 分割的粗細程度\n",
    "birth_year_bins = [1980,1985,1990,1995,2000]\n",
    "\n",
    "# 進行分箱\n",
    "birth_year_cut_data = pd.cut(df1.Birth_year, birth_year_bins)\n",
    "birth_year_cut_data"
   ],
   "metadata": {
    "collapsed": false,
    "pycharm": {
     "name": "#%%\n"
    }
   }
  },
  {
   "cell_type": "code",
   "execution_count": 57,
   "outputs": [
    {
     "data": {
      "text/plain": "(1985, 1990]    4\n(1990, 1995]    3\n(1980, 1985]    2\n(1995, 2000]    1\nName: Birth_year, dtype: int64"
     },
     "execution_count": 57,
     "metadata": {},
     "output_type": "execute_result"
    }
   ],
   "source": [
    "# 統計結果\n",
    "pd.value_counts(birth_year_cut_data)"
   ],
   "metadata": {
    "collapsed": false,
    "pycharm": {
     "name": "#%%\n"
    }
   }
  },
  {
   "cell_type": "code",
   "execution_count": 59,
   "outputs": [
    {
     "data": {
      "text/plain": "late1980s     4\nearly1990s    3\nearly1980s    2\nlate1990s     1\nName: Birth_year, dtype: int64"
     },
     "execution_count": 59,
     "metadata": {},
     "output_type": "execute_result"
    }
   ],
   "source": [
    "# 加上名稱\n",
    "group_names = ['early1980s','late1980s','early1990s','late1990s']\n",
    "birth_year_cut_data = pd.cut(df1.Birth_year,birth_year_bins,labels = group_names)\n",
    "pd.value_counts(birth_year_cut_data)"
   ],
   "metadata": {
    "collapsed": false,
    "pycharm": {
     "name": "#%%\n"
    }
   }
  },
  {
   "cell_type": "code",
   "execution_count": 60,
   "outputs": [
    {
     "data": {
      "text/plain": "0      (1989.0, 1997.0]\n1    (1980.984, 1989.0]\n2      (1989.0, 1997.0]\n3      (1989.0, 1997.0]\n4    (1980.984, 1989.0]\n5      (1989.0, 1997.0]\n6    (1980.984, 1989.0]\n7      (1989.0, 1997.0]\n8      (1989.0, 1997.0]\n9    (1980.984, 1989.0]\nName: Birth_year, dtype: category\nCategories (2, interval[float64, right]): [(1980.984, 1989.0] < (1989.0, 1997.0]]"
     },
     "execution_count": 60,
     "metadata": {},
     "output_type": "execute_result"
    }
   ],
   "source": [
    "# 也能以數字來指定分割的數量。在這裡每2個進行分割\n",
    "pd.cut(df1.Birth_year,2)"
   ],
   "metadata": {
    "collapsed": false,
    "pycharm": {
     "name": "#%%\n"
    }
   }
  },
  {
   "cell_type": "code",
   "execution_count": 64,
   "outputs": [
    {
     "data": {
      "text/plain": "(1980.999, 1990.0]    6\n(1990.0, 1997.0]      4\nName: Birth_year, dtype: int64"
     },
     "execution_count": 64,
     "metadata": {},
     "output_type": "execute_result"
    }
   ],
   "source": [
    "# 以分位點進行分割\n",
    "pd.value_counts(pd.qcut(df1.Birth_year,2))"
   ],
   "metadata": {
    "collapsed": false,
    "pycharm": {
     "name": "#%%\n"
    }
   }
  },
  {
   "cell_type": "markdown",
   "source": [
    "#### 練習問題6-7"
   ],
   "metadata": {
    "collapsed": false,
    "pycharm": {
     "name": "#%% md\n"
    }
   }
  },
  {
   "cell_type": "code",
   "execution_count": 22,
   "outputs": [
    {
     "data": {
      "text/plain": "'/Users/yexiangyu/Desktop/東京大學資料科學家養成全書/Ch6_使用Pandas進行資料加工處理'"
     },
     "execution_count": 22,
     "metadata": {},
     "output_type": "execute_result"
    }
   ],
   "source": [
    "pwd"
   ],
   "metadata": {
    "collapsed": false,
    "pycharm": {
     "name": "#%%\n"
    }
   }
  },
  {
   "cell_type": "code",
   "execution_count": 23,
   "outputs": [
    {
     "name": "stdout",
     "output_type": "stream",
     "text": [
      "/Users/yexiangyu/Desktop/東京大學資料科學家養成全書/Ch3_敘述統計與簡單回歸分析/chap3\n"
     ]
    }
   ],
   "source": [
    "cd /Users/yexiangyu/Desktop/東京大學資料科學家養成全書/Ch3_敘述統計與簡單回歸分析/chap3"
   ],
   "metadata": {
    "collapsed": false,
    "pycharm": {
     "name": "#%%\n"
    }
   }
  },
  {
   "cell_type": "code",
   "execution_count": 24,
   "outputs": [
    {
     "data": {
      "text/plain": "'/Users/yexiangyu/Desktop/東京大學資料科學家養成全書/Ch3_敘述統計與簡單回歸分析/chap3'"
     },
     "execution_count": 24,
     "metadata": {},
     "output_type": "execute_result"
    }
   ],
   "source": [
    "pwd"
   ],
   "metadata": {
    "collapsed": false,
    "pycharm": {
     "name": "#%%\n"
    }
   }
  },
  {
   "cell_type": "code",
   "execution_count": 79,
   "outputs": [
    {
     "data": {
      "text/plain": "    school sex  age address famsize Pstatus  Medu  Fedu      Mjob      Fjob  \\\n0       GP   F   18       U     GT3       A     4     4   at_home   teacher   \n1       GP   F   17       U     GT3       T     1     1   at_home     other   \n2       GP   F   15       U     LE3       T     1     1   at_home     other   \n3       GP   F   15       U     GT3       T     4     2    health  services   \n4       GP   F   16       U     GT3       T     3     3     other     other   \n..     ...  ..  ...     ...     ...     ...   ...   ...       ...       ...   \n390     MS   M   20       U     LE3       A     2     2  services  services   \n391     MS   M   17       U     LE3       T     3     1  services  services   \n392     MS   M   21       R     GT3       T     1     1     other     other   \n393     MS   M   18       R     LE3       T     3     2  services     other   \n394     MS   M   19       U     LE3       T     1     1     other   at_home   \n\n     ... freetime goout  Dalc  Walc  health absences  G1  G2  G3 dbage  \n0    ...        3     4     1     1       3        6   5   6   6    36  \n1    ...        3     3     1     1       3        4   5   5   6    34  \n2    ...        3     2     2     3       3       10   7   8  10    30  \n3    ...        2     2     1     1       5        2  15  14  15    30  \n4    ...        3     2     1     2       5        4   6  10  10    32  \n..   ...      ...   ...   ...   ...     ...      ...  ..  ..  ..   ...  \n390  ...        5     4     4     5       4       11   9   9   9    40  \n391  ...        4     5     3     4       2        3  14  16  16    34  \n392  ...        5     3     3     3       3        3  10   8   7    42  \n393  ...        4     1     3     4       5        0  11  12  10    36  \n394  ...        2     3     3     3       5        5   8   9   9    38  \n\n[395 rows x 34 columns]",
      "text/html": "<div>\n<style scoped>\n    .dataframe tbody tr th:only-of-type {\n        vertical-align: middle;\n    }\n\n    .dataframe tbody tr th {\n        vertical-align: top;\n    }\n\n    .dataframe thead th {\n        text-align: right;\n    }\n</style>\n<table border=\"1\" class=\"dataframe\">\n  <thead>\n    <tr style=\"text-align: right;\">\n      <th></th>\n      <th>school</th>\n      <th>sex</th>\n      <th>age</th>\n      <th>address</th>\n      <th>famsize</th>\n      <th>Pstatus</th>\n      <th>Medu</th>\n      <th>Fedu</th>\n      <th>Mjob</th>\n      <th>Fjob</th>\n      <th>...</th>\n      <th>freetime</th>\n      <th>goout</th>\n      <th>Dalc</th>\n      <th>Walc</th>\n      <th>health</th>\n      <th>absences</th>\n      <th>G1</th>\n      <th>G2</th>\n      <th>G3</th>\n      <th>dbage</th>\n    </tr>\n  </thead>\n  <tbody>\n    <tr>\n      <th>0</th>\n      <td>GP</td>\n      <td>F</td>\n      <td>18</td>\n      <td>U</td>\n      <td>GT3</td>\n      <td>A</td>\n      <td>4</td>\n      <td>4</td>\n      <td>at_home</td>\n      <td>teacher</td>\n      <td>...</td>\n      <td>3</td>\n      <td>4</td>\n      <td>1</td>\n      <td>1</td>\n      <td>3</td>\n      <td>6</td>\n      <td>5</td>\n      <td>6</td>\n      <td>6</td>\n      <td>36</td>\n    </tr>\n    <tr>\n      <th>1</th>\n      <td>GP</td>\n      <td>F</td>\n      <td>17</td>\n      <td>U</td>\n      <td>GT3</td>\n      <td>T</td>\n      <td>1</td>\n      <td>1</td>\n      <td>at_home</td>\n      <td>other</td>\n      <td>...</td>\n      <td>3</td>\n      <td>3</td>\n      <td>1</td>\n      <td>1</td>\n      <td>3</td>\n      <td>4</td>\n      <td>5</td>\n      <td>5</td>\n      <td>6</td>\n      <td>34</td>\n    </tr>\n    <tr>\n      <th>2</th>\n      <td>GP</td>\n      <td>F</td>\n      <td>15</td>\n      <td>U</td>\n      <td>LE3</td>\n      <td>T</td>\n      <td>1</td>\n      <td>1</td>\n      <td>at_home</td>\n      <td>other</td>\n      <td>...</td>\n      <td>3</td>\n      <td>2</td>\n      <td>2</td>\n      <td>3</td>\n      <td>3</td>\n      <td>10</td>\n      <td>7</td>\n      <td>8</td>\n      <td>10</td>\n      <td>30</td>\n    </tr>\n    <tr>\n      <th>3</th>\n      <td>GP</td>\n      <td>F</td>\n      <td>15</td>\n      <td>U</td>\n      <td>GT3</td>\n      <td>T</td>\n      <td>4</td>\n      <td>2</td>\n      <td>health</td>\n      <td>services</td>\n      <td>...</td>\n      <td>2</td>\n      <td>2</td>\n      <td>1</td>\n      <td>1</td>\n      <td>5</td>\n      <td>2</td>\n      <td>15</td>\n      <td>14</td>\n      <td>15</td>\n      <td>30</td>\n    </tr>\n    <tr>\n      <th>4</th>\n      <td>GP</td>\n      <td>F</td>\n      <td>16</td>\n      <td>U</td>\n      <td>GT3</td>\n      <td>T</td>\n      <td>3</td>\n      <td>3</td>\n      <td>other</td>\n      <td>other</td>\n      <td>...</td>\n      <td>3</td>\n      <td>2</td>\n      <td>1</td>\n      <td>2</td>\n      <td>5</td>\n      <td>4</td>\n      <td>6</td>\n      <td>10</td>\n      <td>10</td>\n      <td>32</td>\n    </tr>\n    <tr>\n      <th>...</th>\n      <td>...</td>\n      <td>...</td>\n      <td>...</td>\n      <td>...</td>\n      <td>...</td>\n      <td>...</td>\n      <td>...</td>\n      <td>...</td>\n      <td>...</td>\n      <td>...</td>\n      <td>...</td>\n      <td>...</td>\n      <td>...</td>\n      <td>...</td>\n      <td>...</td>\n      <td>...</td>\n      <td>...</td>\n      <td>...</td>\n      <td>...</td>\n      <td>...</td>\n      <td>...</td>\n    </tr>\n    <tr>\n      <th>390</th>\n      <td>MS</td>\n      <td>M</td>\n      <td>20</td>\n      <td>U</td>\n      <td>LE3</td>\n      <td>A</td>\n      <td>2</td>\n      <td>2</td>\n      <td>services</td>\n      <td>services</td>\n      <td>...</td>\n      <td>5</td>\n      <td>4</td>\n      <td>4</td>\n      <td>5</td>\n      <td>4</td>\n      <td>11</td>\n      <td>9</td>\n      <td>9</td>\n      <td>9</td>\n      <td>40</td>\n    </tr>\n    <tr>\n      <th>391</th>\n      <td>MS</td>\n      <td>M</td>\n      <td>17</td>\n      <td>U</td>\n      <td>LE3</td>\n      <td>T</td>\n      <td>3</td>\n      <td>1</td>\n      <td>services</td>\n      <td>services</td>\n      <td>...</td>\n      <td>4</td>\n      <td>5</td>\n      <td>3</td>\n      <td>4</td>\n      <td>2</td>\n      <td>3</td>\n      <td>14</td>\n      <td>16</td>\n      <td>16</td>\n      <td>34</td>\n    </tr>\n    <tr>\n      <th>392</th>\n      <td>MS</td>\n      <td>M</td>\n      <td>21</td>\n      <td>R</td>\n      <td>GT3</td>\n      <td>T</td>\n      <td>1</td>\n      <td>1</td>\n      <td>other</td>\n      <td>other</td>\n      <td>...</td>\n      <td>5</td>\n      <td>3</td>\n      <td>3</td>\n      <td>3</td>\n      <td>3</td>\n      <td>3</td>\n      <td>10</td>\n      <td>8</td>\n      <td>7</td>\n      <td>42</td>\n    </tr>\n    <tr>\n      <th>393</th>\n      <td>MS</td>\n      <td>M</td>\n      <td>18</td>\n      <td>R</td>\n      <td>LE3</td>\n      <td>T</td>\n      <td>3</td>\n      <td>2</td>\n      <td>services</td>\n      <td>other</td>\n      <td>...</td>\n      <td>4</td>\n      <td>1</td>\n      <td>3</td>\n      <td>4</td>\n      <td>5</td>\n      <td>0</td>\n      <td>11</td>\n      <td>12</td>\n      <td>10</td>\n      <td>36</td>\n    </tr>\n    <tr>\n      <th>394</th>\n      <td>MS</td>\n      <td>M</td>\n      <td>19</td>\n      <td>U</td>\n      <td>LE3</td>\n      <td>T</td>\n      <td>1</td>\n      <td>1</td>\n      <td>other</td>\n      <td>at_home</td>\n      <td>...</td>\n      <td>2</td>\n      <td>3</td>\n      <td>3</td>\n      <td>3</td>\n      <td>5</td>\n      <td>5</td>\n      <td>8</td>\n      <td>9</td>\n      <td>9</td>\n      <td>38</td>\n    </tr>\n  </tbody>\n</table>\n<p>395 rows × 34 columns</p>\n</div>"
     },
     "execution_count": 79,
     "metadata": {},
     "output_type": "execute_result"
    }
   ],
   "source": [
    "student_data_math = pd.read_csv('student-mat.csv',sep=';')\n",
    "student_data_math['dbage'] = student_data_math['age'].map(lambda x: 2*x)\n",
    "student_data_math"
   ],
   "metadata": {
    "collapsed": false,
    "pycharm": {
     "name": "#%%\n"
    }
   }
  },
  {
   "cell_type": "markdown",
   "source": [
    "#### 練習問題6-8"
   ],
   "metadata": {
    "collapsed": false,
    "pycharm": {
     "name": "#%% md\n"
    }
   }
  },
  {
   "cell_type": "code",
   "execution_count": 81,
   "outputs": [
    {
     "data": {
      "text/plain": "0      [5, 100)\n1        [1, 5)\n2      [5, 100)\n3        [1, 5)\n4        [1, 5)\n         ...   \n390    [5, 100)\n391      [1, 5)\n392      [1, 5)\n393      [0, 1)\n394    [5, 100)\nName: absences, Length: 395, dtype: category\nCategories (3, interval[int64, left]): [[0, 1) < [1, 5) < [5, 100)]"
     },
     "execution_count": 81,
     "metadata": {},
     "output_type": "execute_result"
    }
   ],
   "source": [
    "absences_bins = [0,1,5,100]\n",
    "pd.cut(student_data_math.absences, absences_bins,right=False)"
   ],
   "metadata": {
    "collapsed": false,
    "pycharm": {
     "name": "#%%\n"
    }
   }
  },
  {
   "cell_type": "code",
   "execution_count": 83,
   "outputs": [
    {
     "data": {
      "text/plain": "[5, 100)    151\n[1, 5)      129\n[0, 1)      115\nName: absences, dtype: int64"
     },
     "execution_count": 83,
     "metadata": {},
     "output_type": "execute_result"
    }
   ],
   "source": [
    "pd.value_counts(pd.cut(student_data_math.absences, absences_bins,right=False))"
   ],
   "metadata": {
    "collapsed": false,
    "pycharm": {
     "name": "#%%\n"
    }
   }
  },
  {
   "cell_type": "markdown",
   "source": [
    "#### 練習問題6-9"
   ],
   "metadata": {
    "collapsed": false,
    "pycharm": {
     "name": "#%% md\n"
    }
   }
  },
  {
   "cell_type": "code",
   "execution_count": 85,
   "outputs": [
    {
     "data": {
      "text/plain": "(-0.001, 2.0]    183\n(6.0, 75.0]      115\n(2.0, 6.0]        97\nName: absences, dtype: int64"
     },
     "execution_count": 85,
     "metadata": {},
     "output_type": "execute_result"
    }
   ],
   "source": [
    "pd.value_counts(pd.qcut(student_data_math.absences,3))"
   ],
   "metadata": {
    "collapsed": false,
    "pycharm": {
     "name": "#%%\n"
    }
   }
  },
  {
   "cell_type": "markdown",
   "source": [
    "### 6-2-4 資料的聚合與群組運算"
   ],
   "metadata": {
    "collapsed": false,
    "pycharm": {
     "name": "#%% md\n"
    }
   }
  },
  {
   "cell_type": "code",
   "execution_count": 10,
   "outputs": [
    {
     "data": {
      "text/plain": "    Id      City  Birth_year     Name    region\n0  100     Tokyo        1990  Hiroshi     Kanto\n1  101     Osaka        1989    Akiko    Kansai\n2  102     Kyoto        1992     Yuki    Kansai\n3  103  Hollaido        1997   Satoru  Hollaido\n4  104     Tokyo        1982  Stteeve     Kanto\n5  106     Tokyo        1991   Mituru     Kanto\n6  108     Osaka        1988      Aoi    Kansai\n7  110     Kyoto        1990    Tarou    Kansai\n8  111  Hollaido        1995   Suguru  Hollaido\n9  113     Tokyo        1981   Mitsuo     Kanto",
      "text/html": "<div>\n<style scoped>\n    .dataframe tbody tr th:only-of-type {\n        vertical-align: middle;\n    }\n\n    .dataframe tbody tr th {\n        vertical-align: top;\n    }\n\n    .dataframe thead th {\n        text-align: right;\n    }\n</style>\n<table border=\"1\" class=\"dataframe\">\n  <thead>\n    <tr style=\"text-align: right;\">\n      <th></th>\n      <th>Id</th>\n      <th>City</th>\n      <th>Birth_year</th>\n      <th>Name</th>\n      <th>region</th>\n    </tr>\n  </thead>\n  <tbody>\n    <tr>\n      <th>0</th>\n      <td>100</td>\n      <td>Tokyo</td>\n      <td>1990</td>\n      <td>Hiroshi</td>\n      <td>Kanto</td>\n    </tr>\n    <tr>\n      <th>1</th>\n      <td>101</td>\n      <td>Osaka</td>\n      <td>1989</td>\n      <td>Akiko</td>\n      <td>Kansai</td>\n    </tr>\n    <tr>\n      <th>2</th>\n      <td>102</td>\n      <td>Kyoto</td>\n      <td>1992</td>\n      <td>Yuki</td>\n      <td>Kansai</td>\n    </tr>\n    <tr>\n      <th>3</th>\n      <td>103</td>\n      <td>Hollaido</td>\n      <td>1997</td>\n      <td>Satoru</td>\n      <td>Hollaido</td>\n    </tr>\n    <tr>\n      <th>4</th>\n      <td>104</td>\n      <td>Tokyo</td>\n      <td>1982</td>\n      <td>Stteeve</td>\n      <td>Kanto</td>\n    </tr>\n    <tr>\n      <th>5</th>\n      <td>106</td>\n      <td>Tokyo</td>\n      <td>1991</td>\n      <td>Mituru</td>\n      <td>Kanto</td>\n    </tr>\n    <tr>\n      <th>6</th>\n      <td>108</td>\n      <td>Osaka</td>\n      <td>1988</td>\n      <td>Aoi</td>\n      <td>Kansai</td>\n    </tr>\n    <tr>\n      <th>7</th>\n      <td>110</td>\n      <td>Kyoto</td>\n      <td>1990</td>\n      <td>Tarou</td>\n      <td>Kansai</td>\n    </tr>\n    <tr>\n      <th>8</th>\n      <td>111</td>\n      <td>Hollaido</td>\n      <td>1995</td>\n      <td>Suguru</td>\n      <td>Hollaido</td>\n    </tr>\n    <tr>\n      <th>9</th>\n      <td>113</td>\n      <td>Tokyo</td>\n      <td>1981</td>\n      <td>Mitsuo</td>\n      <td>Kanto</td>\n    </tr>\n  </tbody>\n</table>\n</div>"
     },
     "execution_count": 10,
     "metadata": {},
     "output_type": "execute_result"
    }
   ],
   "source": [
    "# 準備（確認）資料，不過加上region\n",
    "df1"
   ],
   "metadata": {
    "collapsed": false,
    "pycharm": {
     "name": "#%%\n"
    }
   }
  },
  {
   "cell_type": "code",
   "execution_count": 88,
   "outputs": [
    {
     "data": {
      "text/plain": "City\nHollaido    2\nKyoto       2\nOsaka       2\nTokyo       4\ndtype: int64"
     },
     "execution_count": 88,
     "metadata": {},
     "output_type": "execute_result"
    }
   ],
   "source": [
    "# 數量資訊\n",
    "df1.groupby('City').size()"
   ],
   "metadata": {
    "collapsed": false,
    "pycharm": {
     "name": "#%%\n"
    }
   }
  },
  {
   "cell_type": "code",
   "execution_count": 14,
   "outputs": [
    {
     "data": {
      "text/plain": "City\nHollaido    1996.0\nKyoto       1991.0\nOsaka       1988.5\nTokyo       1986.0\nName: Birth_year, dtype: float64"
     },
     "execution_count": 14,
     "metadata": {},
     "output_type": "execute_result"
    }
   ],
   "source": [
    "# 以City為基準，求得Birth_year的平均值\n",
    "df1.groupby('City')['Birth_year'].mean()"
   ],
   "metadata": {
    "collapsed": false,
    "pycharm": {
     "name": "#%%\n"
    }
   }
  },
  {
   "cell_type": "code",
   "execution_count": 16,
   "outputs": [
    {
     "data": {
      "text/plain": "region    City    \nHollaido  Hollaido    1996.0\nKansai    Kyoto       1991.0\n          Osaka       1988.5\nKanto     Tokyo       1986.0\nName: Birth_year, dtype: float64"
     },
     "execution_count": 16,
     "metadata": {},
     "output_type": "execute_result"
    }
   ],
   "source": [
    "# 以region、City為基準，求得Birth_year的平均值\n",
    "df1.groupby(['region','City'])['Birth_year'].mean()"
   ],
   "metadata": {
    "collapsed": false,
    "pycharm": {
     "name": "#%%\n"
    }
   }
  },
  {
   "cell_type": "code",
   "execution_count": 17,
   "outputs": [
    {
     "data": {
      "text/plain": "     region      City  Birth_year\n0  Hollaido  Hollaido      1996.0\n1    Kansai     Kyoto      1991.0\n2    Kansai     Osaka      1988.5\n3     Kanto     Tokyo      1986.0",
      "text/html": "<div>\n<style scoped>\n    .dataframe tbody tr th:only-of-type {\n        vertical-align: middle;\n    }\n\n    .dataframe tbody tr th {\n        vertical-align: top;\n    }\n\n    .dataframe thead th {\n        text-align: right;\n    }\n</style>\n<table border=\"1\" class=\"dataframe\">\n  <thead>\n    <tr style=\"text-align: right;\">\n      <th></th>\n      <th>region</th>\n      <th>City</th>\n      <th>Birth_year</th>\n    </tr>\n  </thead>\n  <tbody>\n    <tr>\n      <th>0</th>\n      <td>Hollaido</td>\n      <td>Hollaido</td>\n      <td>1996.0</td>\n    </tr>\n    <tr>\n      <th>1</th>\n      <td>Kansai</td>\n      <td>Kyoto</td>\n      <td>1991.0</td>\n    </tr>\n    <tr>\n      <th>2</th>\n      <td>Kansai</td>\n      <td>Osaka</td>\n      <td>1988.5</td>\n    </tr>\n    <tr>\n      <th>3</th>\n      <td>Kanto</td>\n      <td>Tokyo</td>\n      <td>1986.0</td>\n    </tr>\n  </tbody>\n</table>\n</div>"
     },
     "execution_count": 17,
     "metadata": {},
     "output_type": "execute_result"
    }
   ],
   "source": [
    "df1.groupby(['region','City'],as_index = False)['Birth_year'].mean()"
   ],
   "metadata": {
    "collapsed": false,
    "pycharm": {
     "name": "#%%\n"
    }
   }
  },
  {
   "cell_type": "code",
   "execution_count": 19,
   "outputs": [
    {
     "name": "stdout",
     "output_type": "stream",
     "text": [
      "======================================\n",
      "Region Name:Hollaido\n",
      "    Id      City  Birth_year    Name    region\n",
      "3  103  Hollaido        1997  Satoru  Hollaido\n",
      "8  111  Hollaido        1995  Suguru  Hollaido\n",
      "======================================\n",
      "Region Name:Kansai\n",
      "    Id   City  Birth_year   Name  region\n",
      "1  101  Osaka        1989  Akiko  Kansai\n",
      "2  102  Kyoto        1992   Yuki  Kansai\n",
      "6  108  Osaka        1988    Aoi  Kansai\n",
      "7  110  Kyoto        1990  Tarou  Kansai\n",
      "======================================\n",
      "Region Name:Kanto\n",
      "    Id   City  Birth_year     Name region\n",
      "0  100  Tokyo        1990  Hiroshi  Kanto\n",
      "4  104  Tokyo        1982  Stteeve  Kanto\n",
      "5  106  Tokyo        1991   Mituru  Kanto\n",
      "9  113  Tokyo        1981   Mitsuo  Kanto\n"
     ]
    }
   ],
   "source": [
    "for group,subdf in df1.groupby('region'):\n",
    "    print('======================================')\n",
    "    print('Region Name:{0}'.format(group))\n",
    "    print(subdf)"
   ],
   "metadata": {
    "collapsed": false,
    "pycharm": {
     "name": "#%%\n"
    }
   }
  },
  {
   "cell_type": "code",
   "execution_count": 25,
   "outputs": [
    {
     "name": "stderr",
     "output_type": "stream",
     "text": [
      "/var/folders/gr/wkmgmg2d0w7dft51ggc120900000gn/T/ipykernel_1955/3971687036.py:8: FutureWarning: Indexing with multiple keys (implicitly converted to a tuple of keys) will be deprecated, use a list instead.\n",
      "  grouped_stuent_math_data1['age','G1'].agg(functions)\n"
     ]
    },
    {
     "data": {
      "text/plain": "              age                       G1                   \n            count       mean max min count       mean max min\nsex address                                                  \nF   R          44  16.977273  19  15    44  10.295455  19   6\n    U         164  16.664634  20  15   164  10.707317  18   4\nM   R          44  17.113636  21  15    44  10.659091  18   3\n    U         143  16.517483  22  15   143  11.405594  19   5",
      "text/html": "<div>\n<style scoped>\n    .dataframe tbody tr th:only-of-type {\n        vertical-align: middle;\n    }\n\n    .dataframe tbody tr th {\n        vertical-align: top;\n    }\n\n    .dataframe thead tr th {\n        text-align: left;\n    }\n\n    .dataframe thead tr:last-of-type th {\n        text-align: right;\n    }\n</style>\n<table border=\"1\" class=\"dataframe\">\n  <thead>\n    <tr>\n      <th></th>\n      <th></th>\n      <th colspan=\"4\" halign=\"left\">age</th>\n      <th colspan=\"4\" halign=\"left\">G1</th>\n    </tr>\n    <tr>\n      <th></th>\n      <th></th>\n      <th>count</th>\n      <th>mean</th>\n      <th>max</th>\n      <th>min</th>\n      <th>count</th>\n      <th>mean</th>\n      <th>max</th>\n      <th>min</th>\n    </tr>\n    <tr>\n      <th>sex</th>\n      <th>address</th>\n      <th></th>\n      <th></th>\n      <th></th>\n      <th></th>\n      <th></th>\n      <th></th>\n      <th></th>\n      <th></th>\n    </tr>\n  </thead>\n  <tbody>\n    <tr>\n      <th rowspan=\"2\" valign=\"top\">F</th>\n      <th>R</th>\n      <td>44</td>\n      <td>16.977273</td>\n      <td>19</td>\n      <td>15</td>\n      <td>44</td>\n      <td>10.295455</td>\n      <td>19</td>\n      <td>6</td>\n    </tr>\n    <tr>\n      <th>U</th>\n      <td>164</td>\n      <td>16.664634</td>\n      <td>20</td>\n      <td>15</td>\n      <td>164</td>\n      <td>10.707317</td>\n      <td>18</td>\n      <td>4</td>\n    </tr>\n    <tr>\n      <th rowspan=\"2\" valign=\"top\">M</th>\n      <th>R</th>\n      <td>44</td>\n      <td>17.113636</td>\n      <td>21</td>\n      <td>15</td>\n      <td>44</td>\n      <td>10.659091</td>\n      <td>18</td>\n      <td>3</td>\n    </tr>\n    <tr>\n      <th>U</th>\n      <td>143</td>\n      <td>16.517483</td>\n      <td>22</td>\n      <td>15</td>\n      <td>143</td>\n      <td>11.405594</td>\n      <td>19</td>\n      <td>5</td>\n    </tr>\n  </tbody>\n</table>\n</div>"
     },
     "execution_count": 25,
     "metadata": {},
     "output_type": "execute_result"
    }
   ],
   "source": [
    "# 請移動至含有第3章準備的資料之path。\n",
    "# 執行下列部分\n",
    "student_data_math = pd.read_csv('student-mat.csv',sep=';')\n",
    "\n",
    "# 對行適用多個函式\n",
    "functions = ['count','mean','max','min']\n",
    "grouped_stuent_math_data1 = student_data_math.groupby(['sex','address'])\n",
    "grouped_stuent_math_data1['age','G1'].agg(functions) # 執行functions計算數量、平均、最大、最小值"
   ],
   "metadata": {
    "collapsed": false,
    "pycharm": {
     "name": "#%%\n"
    }
   }
  },
  {
   "cell_type": "markdown",
   "source": [
    "#### 練習問題6-10"
   ],
   "metadata": {
    "collapsed": false,
    "pycharm": {
     "name": "#%% md\n"
    }
   }
  },
  {
   "cell_type": "code",
   "execution_count": 26,
   "outputs": [
    {
     "data": {
      "text/plain": "school\nGP    10.939828\nMS    10.673913\nName: G1, dtype: float64"
     },
     "execution_count": 26,
     "metadata": {},
     "output_type": "execute_result"
    }
   ],
   "source": [
    "student_data_math.groupby(['school'])['G1'].mean()"
   ],
   "metadata": {
    "collapsed": false,
    "pycharm": {
     "name": "#%%\n"
    }
   }
  },
  {
   "cell_type": "markdown",
   "source": [
    "#### 練習問題6-11"
   ],
   "metadata": {
    "collapsed": false,
    "pycharm": {
     "name": "#%% md\n"
    }
   }
  },
  {
   "cell_type": "code",
   "execution_count": 27,
   "outputs": [
    {
     "name": "stderr",
     "output_type": "stream",
     "text": [
      "/var/folders/gr/wkmgmg2d0w7dft51ggc120900000gn/T/ipykernel_1955/988015712.py:1: FutureWarning: Indexing with multiple keys (implicitly converted to a tuple of keys) will be deprecated, use a list instead.\n",
      "  student_data_math.groupby(['school','sex'])['G1','G2','G3'].mean()\n"
     ]
    },
    {
     "data": {
      "text/plain": "                   G1         G2         G3\nschool sex                                 \nGP     F    10.579235  10.398907   9.972678\n       M    11.337349  11.204819  11.060241\nMS     F    10.920000  10.320000   9.920000\n       M    10.380952  10.047619   9.761905",
      "text/html": "<div>\n<style scoped>\n    .dataframe tbody tr th:only-of-type {\n        vertical-align: middle;\n    }\n\n    .dataframe tbody tr th {\n        vertical-align: top;\n    }\n\n    .dataframe thead th {\n        text-align: right;\n    }\n</style>\n<table border=\"1\" class=\"dataframe\">\n  <thead>\n    <tr style=\"text-align: right;\">\n      <th></th>\n      <th></th>\n      <th>G1</th>\n      <th>G2</th>\n      <th>G3</th>\n    </tr>\n    <tr>\n      <th>school</th>\n      <th>sex</th>\n      <th></th>\n      <th></th>\n      <th></th>\n    </tr>\n  </thead>\n  <tbody>\n    <tr>\n      <th rowspan=\"2\" valign=\"top\">GP</th>\n      <th>F</th>\n      <td>10.579235</td>\n      <td>10.398907</td>\n      <td>9.972678</td>\n    </tr>\n    <tr>\n      <th>M</th>\n      <td>11.337349</td>\n      <td>11.204819</td>\n      <td>11.060241</td>\n    </tr>\n    <tr>\n      <th rowspan=\"2\" valign=\"top\">MS</th>\n      <th>F</th>\n      <td>10.920000</td>\n      <td>10.320000</td>\n      <td>9.920000</td>\n    </tr>\n    <tr>\n      <th>M</th>\n      <td>10.380952</td>\n      <td>10.047619</td>\n      <td>9.761905</td>\n    </tr>\n  </tbody>\n</table>\n</div>"
     },
     "execution_count": 27,
     "metadata": {},
     "output_type": "execute_result"
    }
   ],
   "source": [
    "student_data_math.groupby(['school','sex'])['G1','G2','G3'].mean()"
   ],
   "metadata": {
    "collapsed": false,
    "pycharm": {
     "name": "#%%\n"
    }
   }
  },
  {
   "cell_type": "code",
   "execution_count": 28,
   "outputs": [
    {
     "name": "stderr",
     "output_type": "stream",
     "text": [
      "/var/folders/gr/wkmgmg2d0w7dft51ggc120900000gn/T/ipykernel_1955/1609900032.py:2: FutureWarning: Indexing with multiple keys (implicitly converted to a tuple of keys) will be deprecated, use a list instead.\n",
      "  student_data_math.groupby(['school','sex'])['G1','G2','G3'].agg(MaxMin)\n"
     ]
    },
    {
     "data": {
      "text/plain": "            G1      G2      G3    \n           max min max min max min\nschool sex                        \nGP     F    18   4  18   0  19   0\n       M    19   3  19   0  20   0\nMS     F    19   6  18   5  19   0\n       M    15   6  16   5  16   0",
      "text/html": "<div>\n<style scoped>\n    .dataframe tbody tr th:only-of-type {\n        vertical-align: middle;\n    }\n\n    .dataframe tbody tr th {\n        vertical-align: top;\n    }\n\n    .dataframe thead tr th {\n        text-align: left;\n    }\n\n    .dataframe thead tr:last-of-type th {\n        text-align: right;\n    }\n</style>\n<table border=\"1\" class=\"dataframe\">\n  <thead>\n    <tr>\n      <th></th>\n      <th></th>\n      <th colspan=\"2\" halign=\"left\">G1</th>\n      <th colspan=\"2\" halign=\"left\">G2</th>\n      <th colspan=\"2\" halign=\"left\">G3</th>\n    </tr>\n    <tr>\n      <th></th>\n      <th></th>\n      <th>max</th>\n      <th>min</th>\n      <th>max</th>\n      <th>min</th>\n      <th>max</th>\n      <th>min</th>\n    </tr>\n    <tr>\n      <th>school</th>\n      <th>sex</th>\n      <th></th>\n      <th></th>\n      <th></th>\n      <th></th>\n      <th></th>\n      <th></th>\n    </tr>\n  </thead>\n  <tbody>\n    <tr>\n      <th rowspan=\"2\" valign=\"top\">GP</th>\n      <th>F</th>\n      <td>18</td>\n      <td>4</td>\n      <td>18</td>\n      <td>0</td>\n      <td>19</td>\n      <td>0</td>\n    </tr>\n    <tr>\n      <th>M</th>\n      <td>19</td>\n      <td>3</td>\n      <td>19</td>\n      <td>0</td>\n      <td>20</td>\n      <td>0</td>\n    </tr>\n    <tr>\n      <th rowspan=\"2\" valign=\"top\">MS</th>\n      <th>F</th>\n      <td>19</td>\n      <td>6</td>\n      <td>18</td>\n      <td>5</td>\n      <td>19</td>\n      <td>0</td>\n    </tr>\n    <tr>\n      <th>M</th>\n      <td>15</td>\n      <td>6</td>\n      <td>16</td>\n      <td>5</td>\n      <td>16</td>\n      <td>0</td>\n    </tr>\n  </tbody>\n</table>\n</div>"
     },
     "execution_count": 28,
     "metadata": {},
     "output_type": "execute_result"
    }
   ],
   "source": [
    "MaxMin = ['max','min']\n",
    "student_data_math.groupby(['school','sex'])['G1','G2','G3'].agg(MaxMin)"
   ],
   "metadata": {
    "collapsed": false,
    "pycharm": {
     "name": "#%%\n"
    }
   }
  }
 ],
 "metadata": {
  "kernelspec": {
   "display_name": "Python 3",
   "language": "python",
   "name": "python3"
  },
  "language_info": {
   "codemirror_mode": {
    "name": "ipython",
    "version": 2
   },
   "file_extension": ".py",
   "mimetype": "text/x-python",
   "name": "python",
   "nbconvert_exporter": "python",
   "pygments_lexer": "ipython2",
   "version": "2.7.6"
  }
 },
 "nbformat": 4,
 "nbformat_minor": 0
}